{
 "cells": [
  {
   "cell_type": "markdown",
   "id": "161bd150",
   "metadata": {},
   "source": [
    "--- \n",
    "\n",
    "># **코드설명**\n",
    "\n",
    "---\n",
    "\n",
    "- 파 일 명 : 블랙 프라이데이 판매 예측 <br>\n",
    "- 시작날짜 : 2021.11.25 <br>\n",
    "- 수정날짜 : 2022.01.07 <br>\n",
    "- 작 성 자 : 김혁진 <br>\n",
    "- 작성주제 : DataHackaton / 블랙 프라이데이 판매 예측 <br>\n",
    "\n",
    "--- \n",
    "\n",
    "- **참조**\n",
    "\n",
    "  (1) 대회 홈페이지 : [DataHackaton](https://datahack.analyticsvidhya.com/contest/black-friday/#About) <br>\n",
    "  (2) 하이퍼 파리미터 설명 : [Naver Blog](https://blog.naver.com/wideeyed/221333529176) <br>\n",
    "  (3) Class문 설명 : [Github](https://zzsza.github.io/development/2020/07/05/python-class/) <br>\n",
    "  (4) GPU 설정 : [Medium](https://medium.com/@am.sharma/lgbm-on-colab-with-gpu-c1c09e83f2af) <br>\n",
    "  (5) RAM 모두사용으로 세션다운 : [Tistory](https://somjang.tistory.com/entry/Google-Colab-%EC%9E%90%EC%A3%BC%EB%81%8A%EA%B8%B0%EB%8A%94-%EB%9F%B0%ED%83%80%EC%9E%84-%EB%B0%A9%EC%A7%80%ED%95%98%EA%B8%B0)\n",
    "\n",
    "---\n",
    "\n",
    "- **고려사항** <br>\n",
    "  (1) AutoEncoder로 파생변수 생성해보기 <br>\n",
    "  (2) 하이퍼파라미터 탐색 : grid-search, bayesian-optimization, [optuna](https://dacon.io/competitions/official/235713/codeshare/2704?page=1&dtype=recent) <br>\n",
    "  (3) RandomForest, XGBoost, Lightgbm, CatBoost 설명 [블로그](https://jhkim0759.tistory.com/12)\n",
    "\n",
    "---"
   ]
  },
  {
   "cell_type": "markdown",
   "id": "2b8eb9c1",
   "metadata": {},
   "source": [
    "<br></br>\n",
    "<br></br>\n",
    "># **기본설정**"
   ]
  },
  {
   "cell_type": "markdown",
   "id": "8b59740e",
   "metadata": {},
   "source": [
    "<br></br>\n",
    "Query Start Time"
   ]
  },
  {
   "cell_type": "code",
   "execution_count": 1,
   "id": "248d1e03",
   "metadata": {
    "ExecuteTime": {
     "end_time": "2022-03-16T10:24:24.250765Z",
     "start_time": "2022-03-16T10:24:24.245768Z"
    }
   },
   "outputs": [],
   "source": [
    "import time\n",
    "query_start_time = time.time()"
   ]
  },
  {
   "cell_type": "markdown",
   "id": "f2182968",
   "metadata": {},
   "source": [
    "<br></br>\n",
    "garbage collect"
   ]
  },
  {
   "cell_type": "code",
   "execution_count": 2,
   "id": "b1803ee7",
   "metadata": {
    "ExecuteTime": {
     "end_time": "2022-03-16T10:24:24.298754Z",
     "start_time": "2022-03-16T10:24:24.252764Z"
    }
   },
   "outputs": [
    {
     "name": "stdout",
     "output_type": "stream",
     "text": [
      "0\n"
     ]
    }
   ],
   "source": [
    "import gc \n",
    "collected = gc.collect() \n",
    "print(collected)"
   ]
  },
  {
   "cell_type": "markdown",
   "id": "1b430dee",
   "metadata": {},
   "source": [
    "<br></br>\n",
    "Github 연동"
   ]
  },
  {
   "cell_type": "code",
   "execution_count": 3,
   "id": "394db457",
   "metadata": {
    "ExecuteTime": {
     "end_time": "2022-03-16T10:24:24.314745Z",
     "start_time": "2022-03-16T10:24:24.300743Z"
    }
   },
   "outputs": [],
   "source": [
    "# # 로그인\n",
    "# git config --global user.email \"hyuckjin12@naver.com\"\n",
    "# git config --global user.name  \"hyuckjinkim\"\n",
    "# git config -l\n",
    "\n",
    "# # 해당폴더로 들어가기\n",
    "# cd 'E:/USB포맷_210223/Python/★PSC/1. 블랙 프라이데이 판매 예측(데이터 해커톤)'\n",
    "# git init\n",
    "\n",
    "# # 상태확인\n",
    "# git status\n",
    "\n",
    "# # 모든 파일 추가 후, commit\n",
    "# git add .\n",
    "# git commit -m 'new ipynb file'\n",
    "\n",
    "# # 파일넣기\n",
    "# cd 'E:/USB포맷_210223/Python/★PSC/1. 블랙 프라이데이 판매 예측(데이터 해커톤)'\n",
    "# git remote rm origin\n",
    "# git remote add origin https://github.com/hyuckjinkim/DataHackaton.git\n",
    "\n",
    "# git push origin master"
   ]
  },
  {
   "cell_type": "markdown",
   "id": "001c2214",
   "metadata": {},
   "source": [
    "<br></br>\n",
    "Markdown : Tabular Left Align"
   ]
  },
  {
   "cell_type": "code",
   "execution_count": 4,
   "id": "a624da7f",
   "metadata": {
    "ExecuteTime": {
     "end_time": "2022-03-16T10:24:24.330738Z",
     "start_time": "2022-03-16T10:24:24.315736Z"
    },
    "code_folding": [],
    "scrolled": true
   },
   "outputs": [
    {
     "data": {
      "text/html": [
       "<style>\n",
       "    table {float:left}\n",
       "</style>\n"
      ],
      "text/plain": [
       "<IPython.core.display.HTML object>"
      ]
     },
     "metadata": {},
     "output_type": "display_data"
    }
   ],
   "source": [
    "%%html\n",
    "<style>\n",
    "    table {float:left}\n",
    "</style>"
   ]
  },
  {
   "cell_type": "markdown",
   "id": "a9f52129",
   "metadata": {},
   "source": [
    "<br></br>\n",
    "Jupyter Notebook Style : Theme, Display, TOC, ..."
   ]
  },
  {
   "cell_type": "code",
   "execution_count": 5,
   "id": "845b639a",
   "metadata": {
    "ExecuteTime": {
     "end_time": "2022-03-16T10:24:24.346731Z",
     "start_time": "2022-03-16T10:24:24.332728Z"
    },
    "scrolled": true
   },
   "outputs": [
    {
     "data": {
      "text/html": [
       "<style>.container { width:80% !important; }</style>"
      ],
      "text/plain": [
       "<IPython.core.display.HTML object>"
      ]
     },
     "metadata": {},
     "output_type": "display_data"
    }
   ],
   "source": [
    "# # theme 설치\n",
    "# !pip install jupyterthemes\n",
    "\n",
    "# # jupyter notebook 최신버전\n",
    "# !pip install --upgrade notebook\n",
    "\n",
    "# # jupyter notebook 최신버전\n",
    "# !pip install --upgrade jupyterthemes\n",
    "\n",
    "# # 2.2.1. 테마바꾸기(customizing)\n",
    "# # !jt -t onedork -fs 115 -nfs 125 -tfs 115 -dfs 115 -ofs 115 -cursc r -cellw 80% -lineh 115 -altmd  -kl -T -N\n",
    "\n",
    "# # 2.2.3. 좌측 TOC 만들기\n",
    "# # 출처 : https://gmnam.tistory.com/246\n",
    "# !pip install jupyter_nbextensions_configurator\n",
    "# !pip install jupyter_contrib_nbextensions\n",
    "\n",
    "# !pip install nbconvert\n",
    "\n",
    "# !pip install jupytext\n",
    "\n",
    "# !pip install jupyter_contrib_nbextensions\n",
    "\n",
    "# !jupyter nbextensions_configurator enable --user\n",
    "# !jupyter contrib nbextension install --user\n",
    "# !jupyter nbextension enable varInspector/main\n",
    "\n",
    "# # 2.2.2. 쥬피터 노트북 화면 넓게 사용\n",
    "# # 출처: https://taehooh.tistory.com/entry/Jupyter-Notebook-주피터노트북-화면-넓게-쓰는방법\n",
    "from IPython.core.display import display, HTML \n",
    "display(HTML(\"<style>.container { width:80% !important; }</style>\"))"
   ]
  },
  {
   "cell_type": "code",
   "execution_count": 6,
   "id": "4cecfd88",
   "metadata": {
    "ExecuteTime": {
     "end_time": "2022-03-16T10:24:24.362714Z",
     "start_time": "2022-03-16T10:24:24.347733Z"
    }
   },
   "outputs": [],
   "source": [
    "# # 2.3.1 Google Drive Mount\n",
    "# # (Google Drive 사용 시 설정)\n",
    "# from google.colab import drive\n",
    "# drive.mount('/content/drive', force_remount = True) # 새로운 창에서 key 를 받아서 입력해야합니다. \n",
    "\n",
    "# # 2.3.2. 메모리 에러\n",
    "# https://growingsaja.tistory.com/477"
   ]
  },
  {
   "cell_type": "code",
   "execution_count": 7,
   "id": "c3b8cbdd",
   "metadata": {
    "ExecuteTime": {
     "end_time": "2022-03-16T10:24:24.378708Z",
     "start_time": "2022-03-16T10:24:24.363714Z"
    }
   },
   "outputs": [],
   "source": [
    "# # 2.3.3. GPU 사용 (6분)\n",
    "# !git clone --recursive https://github.com/Microsoft/LightGBM\n",
    "# !mkdir build\n",
    "# %cd /content/LightGBM\n",
    "# !cmake -DUSE_GPU=1 #avoid ..\n",
    "# !make -j$(nproc)\n",
    "# !sudo apt-get -y install python-pip\n",
    "# !sudo -H pip install setuptools pandas numpy scipy scikit-learn -U\n",
    "# %cd /content/LightGBM/python-package"
   ]
  },
  {
   "cell_type": "markdown",
   "id": "196e8d53",
   "metadata": {},
   "source": [
    "<br></br>\n",
    "Install Modules"
   ]
  },
  {
   "cell_type": "code",
   "execution_count": 8,
   "id": "b98c6112",
   "metadata": {
    "ExecuteTime": {
     "end_time": "2022-03-16T10:24:24.394700Z",
     "start_time": "2022-03-16T10:24:24.379708Z"
    }
   },
   "outputs": [],
   "source": [
    "# !pip uninstall pandas -y\n",
    "# !pip uninstall numpy  -y\n",
    "# !pip uninstall lightgbm -y\n",
    "\n",
    "# !pip install pandas==1.1.0\n",
    "# !pip install numpy==1.21.2\n",
    "# !pip install -U scikit-learn\n",
    "# !pip install lightgbm --install-option=--gpu\n",
    "\n",
    "# !pip install seaborn\n",
    "# !pip install plotnine\n",
    "# !pip install pandasql\n",
    "\n",
    "# # lightgbm 에러떴는데, 콘다에서 실행하면 해결됨\n",
    "# conda install -c conda-forge lightgbm \n",
    "\n",
    "# conda install -c conda-forge optuna\n",
    "\n",
    "# # bayesian optimization 설치\n",
    "# !pip install bayesian-optimization\n",
    "\n",
    "# # xgboost 설치\n",
    "# !pip install xgboost\n",
    "\n",
    "# # catboost 설치\n",
    "# !pip install catboost\n",
    "\n",
    "# !pip install dill\n",
    "\n",
    "# # pycaret 에러떴는데, --user 붙이니깐 해결됨\n",
    "# !pip install --user pycaret\n",
    "\n",
    "# !pip install qgrid\n",
    "# !jupyter nbextension enable --py --sys-prefix qgrid"
   ]
  },
  {
   "cell_type": "markdown",
   "id": "03a02e69",
   "metadata": {},
   "source": [
    "<br></br>\n",
    "Import Modules"
   ]
  },
  {
   "cell_type": "code",
   "execution_count": 9,
   "id": "42c6ebbe",
   "metadata": {
    "ExecuteTime": {
     "end_time": "2022-03-16T10:24:30.948966Z",
     "start_time": "2022-03-16T10:24:24.395700Z"
    },
    "code_folding": [],
    "scrolled": true
   },
   "outputs": [
    {
     "data": {
      "text/html": [
       "<style type='text/css'>\n",
       ".datatable table.frame { margin-bottom: 0; }\n",
       ".datatable table.frame thead { border-bottom: none; }\n",
       ".datatable table.frame tr.coltypes td {  color: #FFFFFF;  line-height: 6px;  padding: 0 0.5em;}\n",
       ".datatable .bool    { background: #DDDD99; }\n",
       ".datatable .object  { background: #565656; }\n",
       ".datatable .int     { background: #5D9E5D; }\n",
       ".datatable .float   { background: #4040CC; }\n",
       ".datatable .str     { background: #CC4040; }\n",
       ".datatable .time    { background: #40CC40; }\n",
       ".datatable .row_index {  background: var(--jp-border-color3);  border-right: 1px solid var(--jp-border-color0);  color: var(--jp-ui-font-color3);  font-size: 9px;}\n",
       ".datatable .frame tbody td { text-align: left; }\n",
       ".datatable .frame tr.coltypes .row_index {  background: var(--jp-border-color0);}\n",
       ".datatable th:nth-child(2) { padding-left: 12px; }\n",
       ".datatable .hellipsis {  color: var(--jp-cell-editor-border-color);}\n",
       ".datatable .vellipsis {  background: var(--jp-layout-color0);  color: var(--jp-cell-editor-border-color);}\n",
       ".datatable .na {  color: var(--jp-cell-editor-border-color);  font-size: 80%;}\n",
       ".datatable .sp {  opacity: 0.25;}\n",
       ".datatable .footer { font-size: 9px; }\n",
       ".datatable .frame_dimensions {  background: var(--jp-border-color3);  border-top: 1px solid var(--jp-border-color0);  color: var(--jp-ui-font-color3);  display: inline-block;  opacity: 0.6;  padding: 1px 10px 1px 5px;}\n",
       "</style>\n"
      ],
      "text/plain": [
       "<IPython.core.display.HTML object>"
      ]
     },
     "metadata": {},
     "output_type": "display_data"
    }
   ],
   "source": [
    "# jupyter notebook 전용\n",
    "from tqdm.notebook import tqdm, trange\n",
    "# from tqdm import tqdm\n",
    "\n",
    "# basic modules\n",
    "import pandas as pd\n",
    "import numpy as np\n",
    "import math\n",
    "import warnings\n",
    "import random\n",
    "import os\n",
    "import time\n",
    "import itertools\n",
    "\n",
    "import qgrid\n",
    "\n",
    "# value_counts() 범용적인 버전\n",
    "from collections import Counter as cnt\n",
    "\n",
    "# save env.\n",
    "import dill\n",
    "\n",
    "# plotting\n",
    "import seaborn as sns\n",
    "sns.set(rc={'figure.figsize':(11.7, 8.27)})\n",
    "sns.set_style('whitegrid')\n",
    "\n",
    "import matplotlib.pyplot as plt\n",
    "%matplotlib inline\n",
    "plt.rcParams['figure.figsize'] = [11.7, 8.27] # [15, 10] # [11.7,8.27] - A4 size\n",
    "plt.style.use('dark_background')\n",
    "plt.rcParams['font.family'] = 'Malgun Gothic'\n",
    "\n",
    "from plotnine import *\n",
    "\n",
    "\n",
    "# sqldf\n",
    "from pandasql import sqldf\n",
    "sql = lambda q: sqldf(q, globals())\n",
    "\n",
    "\n",
    "# modeling\n",
    "import sklearn\n",
    "from sklearn.linear_model import LinearRegression\n",
    "from sklearn.ensemble import RandomForestClassifier\n",
    "from sklearn.preprocessing import MinMaxScaler, StandardScaler, RobustScaler, OneHotEncoder, PolynomialFeatures\n",
    "from sklearn.cluster import KMeans\n",
    "from sklearn.model_selection import cross_val_score,StratifiedKFold,train_test_split\n",
    "from sklearn.metrics import f1_score,make_scorer,r2_score,log_loss\n",
    "from sklearn.compose import ColumnTransformer\n",
    "\n",
    "from sklearn.pipeline import Pipeline\n",
    "from sklearn.model_selection import KFold\n",
    "from sklearn.linear_model import LinearRegression, LogisticRegression, RidgeClassifier, Ridge, Lasso, ElasticNet\n",
    "from sklearn.tree import DecisionTreeRegressor\n",
    "from sklearn.neighbors import KNeighborsRegressor\n",
    "from sklearn.svm import SVR\n",
    "from sklearn.ensemble import RandomForestRegressor, RandomForestClassifier, GradientBoostingRegressor, ExtraTreesRegressor, AdaBoostRegressor, AdaBoostClassifier\n",
    "from sklearn.metrics import mean_squared_error\n",
    "from xgboost import XGBRegressor, XGBClassifier\n",
    "from lightgbm import LGBMRegressor, LGBMClassifier\n",
    "from catboost import CatBoostRegressor, CatBoostClassifier\n",
    "from sklearn.tree import DecisionTreeClassifier\n",
    "from sklearn.neighbors import KNeighborsClassifier\n",
    "from sklearn.discriminant_analysis import LinearDiscriminantAnalysis\n",
    "from sklearn.naive_bayes import GaussianNB\n",
    "from sklearn.svm import SVC\n",
    "\n",
    "\n",
    "# import lightgbm\n",
    "# !pip install lightgbm --install-option=--gpu --install-option=\"--opencl-include-dir=/usr/local/cuda/include/\" --install-option=\"--opencl-library=/usr/local/cuda/lib64/libOpenCL.so\"\n",
    "import lightgbm as lgb\n",
    "\n",
    "# Hyperparameter Optimization\n",
    "from bayes_opt import BayesianOptimization\n",
    "import optuna"
   ]
  },
  {
   "cell_type": "markdown",
   "id": "0099b6ae",
   "metadata": {},
   "source": [
    "<br></br>\n",
    "Initial Values"
   ]
  },
  {
   "cell_type": "code",
   "execution_count": 10,
   "id": "ad47db36",
   "metadata": {
    "ExecuteTime": {
     "end_time": "2022-03-16T10:24:30.964941Z",
     "start_time": "2022-03-16T10:24:30.949947Z"
    }
   },
   "outputs": [],
   "source": [
    "# 2.5.1. Data Path\n",
    "# jupyter.notebook : 'os.getcwd() + '/DAT/블랙 프라이데이 판매 예측/''\n",
    "# google.colab     : '/content/drive/MyDrive/Python/4. 블랙프라이데이 판매예측/DAT/'\n",
    "BASE_PATH = 'E:/USB_220114/Python'\n",
    "DATA_PATH = BASE_PATH + '/DAT/7. 손동작 분류/'\n",
    "OUT_PATH  = BASE_PATH + '/OUT/7. 손동작 분류/'\n",
    "\n",
    "# 2.5.2. set seed\n",
    "SEED = 777\n",
    "\n",
    "# 2.5.3. plot\n",
    "PLOT = False\n",
    "\n",
    "# 2.5.5. missing check\n",
    "MISSING_CHECK = False\n",
    "\n",
    "# 2.5.6. interaction\n",
    "INTERACTION_CHECK = False\n",
    "INTERACTION = True\n",
    "\n",
    "# 2.5.7. scaling\n",
    "SCALE_CHECK = False\n",
    "SCALE = False\n",
    "\n",
    "# 2.5.8. lightgbm parameter\n",
    "# 처음 (INIT_POINTS)회 랜덤 값으로 score 계산 후 (N_ITER)회 최적화\n",
    "OBJECTIVE = ['binary','multiclass','regression'][1]\n",
    "METRIC = ['auc','multi_logloss','binary_logloss','rmse'][1]\n",
    "\n",
    "# initial value save\n",
    "ini_var = [\n",
    "    'SEED','PLOT','SCALE','INTERACTION','MISSING_CHECK','INTERACTION_CHECK',\n",
    "    'OBJECTIVE','METRIC'\n",
    "]"
   ]
  },
  {
   "cell_type": "markdown",
   "id": "3cd87120",
   "metadata": {},
   "source": [
    "<br></br>\n",
    "Set Off the Warning"
   ]
  },
  {
   "cell_type": "code",
   "execution_count": 11,
   "id": "e3a3fc6c",
   "metadata": {
    "ExecuteTime": {
     "end_time": "2022-03-16T10:24:30.979934Z",
     "start_time": "2022-03-16T10:24:30.967941Z"
    }
   },
   "outputs": [],
   "source": [
    "pd.set_option('mode.chained_assignment', None)\n",
    "warnings.filterwarnings(action='ignore')"
   ]
  },
  {
   "cell_type": "markdown",
   "id": "bb769937",
   "metadata": {},
   "source": [
    "<br></br>\n",
    "User Defined Function"
   ]
  },
  {
   "cell_type": "code",
   "execution_count": 12,
   "id": "b0a3e77b",
   "metadata": {
    "ExecuteTime": {
     "end_time": "2022-03-16T10:24:31.043905Z",
     "start_time": "2022-03-16T10:24:30.980934Z"
    },
    "code_folding": [],
    "scrolled": true
   },
   "outputs": [],
   "source": [
    "#-------------------------------------------------------------------------------------------------------#\n",
    "# 2.6.1. Seed Fix\n",
    "#-------------------------------------------------------------------------------------------------------#\n",
    "def seed_everything(seed: int = 1):\n",
    "    random.seed(seed)\n",
    "    np.random.seed(seed)\n",
    "    os.environ[\"PYTHONHASHSEED\"] = str(seed)\n",
    "    # torch.manual_seed(seed)\n",
    "    # torch.cuda.manual_seed(seed)  # type: ignore\n",
    "    # torch.backends.cudnn.deterministic = True  # type: ignore\n",
    "    # torch.backends.cudnn.benchmark = True  # type: ignore\n",
    "\n",
    "\n",
    "seed_everything(SEED)\n",
    "\n",
    "#-------------------------------------------------------------------------------------------------------#\n",
    "# 2.6.2. View all columns\n",
    "#-------------------------------------------------------------------------------------------------------#\n",
    "def View(data):\n",
    "\n",
    "    pd.set_option('display.max_rows', 1000)\n",
    "    pd.set_option('display.max_columns', 1000)\n",
    "    pd.set_option('display.width', 1000)\n",
    "\n",
    "    print(data)\n",
    "\n",
    "    pd.set_option('display.max_rows', 0)\n",
    "    pd.set_option('display.max_columns', 0)\n",
    "    pd.set_option('display.width', 0)\n",
    "\n",
    "#-------------------------------------------------------------------------------------------------------#\n",
    "# 2.6.3. minmax function\n",
    "#-------------------------------------------------------------------------------------------------------#\n",
    "def minmax(x, digit=None):\n",
    "    if digit is None:\n",
    "        return min(x), max(x)\n",
    "    else:\n",
    "        return round(min(x), digit), round(max(x), digit)\n",
    "\n",
    "#-------------------------------------------------------------------------------------------------------#\n",
    "# 2.6.4. 컬럼dict에서 target 제거\n",
    "#-------------------------------------------------------------------------------------------------------#\n",
    "# - dict : 기준 dict\n",
    "# - key  : 삭제할 key\n",
    "#-------------------------------------------------------------------------------------------------------#\n",
    "def rmkey(dict, key):\n",
    "    tmp = dict.copy()\n",
    "    del tmp[key]\n",
    "    return tmp\n",
    "\n",
    "#-------------------------------------------------------------------------------------------------------#\n",
    "# 2.6.5. 교호작용항 추가\n",
    "#-------------------------------------------------------------------------------------------------------#\n",
    "# - data     : 기준 data\n",
    "# - num_vari : 숫자형 변수 list\n",
    "#-------------------------------------------------------------------------------------------------------#\n",
    "def interaction_term(df, num_vari):\n",
    "\n",
    "    data = df.copy()\n",
    "\n",
    "    num_var = list(set(num_vari) - set(['id']))\n",
    "\n",
    "    for i in range(0, len(num_var)):\n",
    "        for j in range(i, len(num_var)):\n",
    "            data[f'{num_var[i]}*{num_var[j]}'] = data[f'{num_var[i]}'] * \\\n",
    "                data[f'{num_var[j]}']\n",
    "\n",
    "    return(data)\n",
    "\n",
    "#-------------------------------------------------------------------------------------------------------#\n",
    "# 2.6.6. color when print\n",
    "#-------------------------------------------------------------------------------------------------------#\n",
    "class color:\n",
    "    PURPLE = '\\033[95m'\n",
    "    CYAN = '\\033[96m'\n",
    "    DARKCYAN = '\\033[36m'\n",
    "    BLUE = '\\033[94m'\n",
    "    GREEN = '\\033[92m'\n",
    "    YELLOW = '\\033[93m'\n",
    "    RED = '\\033[91m'\n",
    "    BOLD = '\\033[1m'\n",
    "    UNDERLINE = '\\033[4m'\n",
    "    END = '\\033[0m'\n",
    "\n",
    "#-------------------------------------------------------------------------------------------------------#\n",
    "# 2.6.7. density plot : histogram + density plot\n",
    "#-------------------------------------------------------------------------------------------------------#\n",
    "# - data : 기준 data\n",
    "# - vars : hist + kde를 그릴 숫자형 변수\n",
    "# - hue  : group화 변수\n",
    "# - binwidth_adj_ratio : binwidth 조정 비율\n",
    "#-------------------------------------------------------------------------------------------------------#\n",
    "def density_plot(df, vars,\n",
    "                 binwidths=None, hue=None,\n",
    "                 binwidth_adj_ratio=None,\n",
    "                 figsize=(15, 7)):\n",
    "\n",
    "    from matplotlib.ticker import PercentFormatter\n",
    "\n",
    "    data = df.copy()\n",
    "\n",
    "    # 1) vars가 1개뿐일 때 에러발생\n",
    "    #    -> 1개     : type = str\n",
    "    #    -> 2개이상 : type = ndarray, ...\n",
    "    if type(vars) == str:\n",
    "        vars = [vars]\n",
    "\n",
    "    # 2) plotting (nrow,ncol) 설정\n",
    "    nrow = math.ceil(len(vars)**(1/2))\n",
    "    ncol = nrow\n",
    "\n",
    "    # 3) binwidths가 없을 때, binwidth 설정\n",
    "    # 출처 : http://www.aistudy.co.kr/paper/pdf/histogram_jeon.pdf\n",
    "    if binwidths is None:\n",
    "        binwidths = []\n",
    "        for col in data[vars].columns:\n",
    "            n_bin = math.ceil(1 + 3.32*math.log10(len(data)))\n",
    "            binwidth = (data[col].max() - data[col].min()) / n_bin\n",
    "            binwidths.append(binwidth)\n",
    "            del binwidth\n",
    "\n",
    "    # 4) 설정한 binwidth를 조정하는 비율\n",
    "    if binwidth_adj_ratio is not None:\n",
    "        binwidths = [binwidth * binwidth_adj_ratio for binwidth in binwidths]\n",
    "\n",
    "    fig = plt.figure(figsize=figsize)\n",
    "\n",
    "    # 5) vars 별로 plot 생성\n",
    "    for iter, var in enumerate(vars):\n",
    "\n",
    "        binwidth = binwidths[iter]\n",
    "\n",
    "        # (1) histogram\n",
    "        ax1 = fig.add_subplot(nrow, ncol, iter+1)\n",
    "        g1 = sns.histplot(data=data, x=var, hue=hue,\n",
    "                          kde=True, stat='probability',\n",
    "                          color='lightskyblue',\n",
    "                          binwidth=binwidth, ax=ax1)\n",
    "        ax2 = ax1.twinx()\n",
    "\n",
    "        # (2) density plot\n",
    "        g2 = sns.kdeplot(data=data, x=var, hue=hue,\n",
    "                         color='red', lw=2, ax=ax2)\n",
    "        # similir limits on the y-axis to align the plots\n",
    "        ax2.set_ylim(0, ax1.get_ylim()[1] / binwidth)\n",
    "        # ax2.yaxis.set_major_formatter(PercentFormatter(1 / binwidth))  # show axis such that 1/binwidth corresponds to 100%\n",
    "        ax2.grid(False)\n",
    "\n",
    "        # (3) density plot y축 없애기\n",
    "        g2.set(yticklabels=[])\n",
    "        g2.set(ylabel=None)\n",
    "        g2.tick_params(right=False)\n",
    "\n",
    "        a, b = divmod(iter, ncol)\n",
    "        if b != 0:\n",
    "            g1.set(ylabel=None)\n",
    "\n",
    "    # 안겹치도록 설정\n",
    "    fig.tight_layout()\n",
    "    plt.show()\n",
    "\n",
    "# example : density_plot(train, vars=num_vari)\n",
    "\n",
    "#-------------------------------------------------------------------------------------------------------#\n",
    "# 2.6.8. density plot : histogram + density plot\n",
    "#\n",
    "# (1) grp_var vs hue_var 막대그래프\n",
    "# (2) grp_var(x축), hue_var에 따른 각 num_var들의 barplot, violineplot, box+swarmplot + kdeplot\n",
    "#-------------------------------------------------------------------------------------------------------#\n",
    "# - grp_var : x축 구분할 그룹변수 (text)\n",
    "# - num_vari : 숫자형 변수 (list)\n",
    "# - data : 기준 data\n",
    "# - title_text : plot title (text)\n",
    "# - hue_var : hue 그루핑변수\n",
    "#-------------------------------------------------------------------------------------------------------#\n",
    "def plot_num(grp_var, num_vari, df, title_text=None, hue_var=None, swarmplot=True,\n",
    "             figsize_1=(3, 3), figsize_2=(15, 15)):\n",
    "\n",
    "    data = df.copy()\n",
    "\n",
    "    # (1)번 그래프 setting\n",
    "    fig0 = plt.figure(figsize=figsize_1)\n",
    "    ax0 = fig0.add_subplot(1, 1, 1)\n",
    "\n",
    "    if title_text is None:\n",
    "        title_text = grp_var\n",
    "\n",
    "    plt.title(title_text, loc='left', pad=20, fontdict={'fontsize': 30,\n",
    "                                                        'fontweight': 'bold',\n",
    "                                                        'color': 'c'})\n",
    "\n",
    "    # grp_var와 hue_var가 겹치는 경우, hue를 나누지 않음\n",
    "    if (grp_var != hue_var) and (hue_var is not None):\n",
    "\n",
    "        ct = pd.crosstab(data[grp_var], data[hue_var])\n",
    "        ax = ct.plot(kind='bar', stacked=False, rot=0, ax=ax0)\n",
    "        ax.legend(title=hue_var, bbox_to_anchor=(1, 1.02), loc='upper left')\n",
    "\n",
    "    else:\n",
    "        ct = data[grp_var].value_counts()\n",
    "        ax = ct.plot(kind='bar', stacked=False, rot=0, ax=ax0)\n",
    "\n",
    "    # show\n",
    "    plt.xlabel('')\n",
    "    plt.show()\n",
    "\n",
    "    # 숫자변수중에 [grp,id]변수가 있으면 제외\n",
    "    num_vari_x = list(set(num_vari) - set([grp_var, 'id']))\n",
    "\n",
    "    # plt 생성\n",
    "    if len(num_vari)>0:\n",
    "        fig = plt.figure(figsize=figsize_2)\n",
    "        plt.axis('off')  # 안끄면 x축에 0~1까지 축생김\n",
    "\n",
    "        for iter, var in enumerate(num_vari_x):\n",
    "\n",
    "            # hue랑 grp_var랑 같으면 hue를 넣지않음\n",
    "            hue_x = [None if grp_var == hue_var else hue_var][0]\n",
    "\n",
    "            # (n,4) plot\n",
    "            ax1 = fig.add_subplot(len(num_vari_x), 4, 4*iter+1)\n",
    "            ax2 = fig.add_subplot(len(num_vari_x), 4, 4*iter+2)\n",
    "            ax3 = fig.add_subplot(len(num_vari_x), 4, 4*iter+3)\n",
    "            ax4 = fig.add_subplot(len(num_vari_x), 4, 4*iter+4)\n",
    "\n",
    "            # ---------------------------------------------------------------------------------------------\n",
    "            # (2-1) 3번째 : box + swarm plot (ylim가져오기위해서 제일 먼저 실행)\n",
    "            # ---------------------------------------------------------------------------------------------\n",
    "            if swarmplot:\n",
    "                g11 = sns.swarmplot(x=grp_var, y=var, data=data,\n",
    "                                    ax=ax3, color='crimson', marker='*', s=7)\n",
    "            g12 = sns.boxplot(x=grp_var, y=var, data=data, ax=ax3)\n",
    "            g12.set(ylabel=None)\n",
    "            g12.set(yticklabels=[])\n",
    "\n",
    "            # ---------------------------------------------------------------------------------------------\n",
    "            # (2-2) 1번째 : barplot\n",
    "            # ---------------------------------------------------------------------------------------------\n",
    "            ax1.set_ylim(ax3.get_ylim())\n",
    "            g21 = sns.barplot(x=grp_var, y=var, data=data, ax=ax1, hue=hue_x)\n",
    "            # g21.set(ylabel=None)\n",
    "            # g21.set(yticklabels=[])\n",
    "            # g21.axes.set_title(str(iter+1) + ':' + var, fontsize=20, weight='bold', ha='left', x=-.05)\n",
    "            g21.set_ylabel(var, fontsize=20)\n",
    "\n",
    "            # ---------------------------------------------------------------------------------------------\n",
    "            # (2-3) 2번째 : violinplot\n",
    "            # ---------------------------------------------------------------------------------------------\n",
    "            ax2.set_ylim(ax3.get_ylim())\n",
    "            g31 = sns.violinplot(x=grp_var, y=var, data=data,\n",
    "                                 ax=ax2, legend=False, hue=hue_x)\n",
    "            g31.set(ylabel=None)\n",
    "            g31.set(yticklabels=[])\n",
    "\n",
    "            # ---------------------------------------------------------------------------------------------\n",
    "            # (2-4) 4번째 : density plot\n",
    "            # ---------------------------------------------------------------------------------------------\n",
    "            ax4.set_ylim(ax3.get_ylim())\n",
    "            g41 = sns.kdeplot(y=var, hue=grp_var, data=data, ax=ax4)\n",
    "            g41.set(ylabel=None)\n",
    "            g41.set(yticklabels=[])\n",
    "            g41.tick_params(right=False)\n",
    "            g41.set(xlabel=None)\n",
    "            g41.set(xticklabels=[])\n",
    "\n",
    "            # 맨 아래에만 x축이 생성되도록 setting\n",
    "            if (iter+1) != len(num_vari_x):\n",
    "\n",
    "                g12.set(xlabel=None)\n",
    "                g12.set(xticklabels=[])\n",
    "\n",
    "                g21.set(xlabel=None)\n",
    "                g21.set(xticklabels=[])\n",
    "\n",
    "                g31.set(xlabel=None)\n",
    "                g31.set(xticklabels=[])\n",
    "\n",
    "        fig.tight_layout()\n",
    "        plt.show()\n",
    "\n",
    "# # example\n",
    "# plot_num(grp_var = 'sex', num_vari = num_vari, hue_var = 'target',\n",
    "#          data = train, title_text = 'sex')\n",
    "\n",
    "\n",
    "#-------------------------------------------------------------------------------------------------------#\n",
    "# 2.6.9. onehot encoding\n",
    "#-------------------------------------------------------------------------------------------------------#\n",
    "#- data\n",
    "#- col_types\n",
    "#- ignore_features\n",
    "#-------------------------------------------------------------------------------------------------------#\n",
    "def onehot_encoding(df, cat_type, ignore_features=['']):\n",
    "\n",
    "    data = df.copy()\n",
    "\n",
    "    cols = setdiff(data.columns, ignore_features + ['target'])\n",
    "    cols = df.select_dtypes(include=[cat_type]).columns\n",
    "\n",
    "    res_df = pd.get_dummies(data, columns=cols)\n",
    "\n",
    "    return(res_df)\n",
    "\n",
    "\n",
    "#-------------------------------------------------------------------------------------------------------#\n",
    "# 2.6.11. setdiff\n",
    "#-------------------------------------------------------------------------------------------------------#\n",
    "def setdiff(x, y):\n",
    "    return(list(set(x)-set(y)))\n",
    "\n",
    "\n",
    "#-------------------------------------------------------------------------------------------------------#\n",
    "# 2.6.12. automl_comp\n",
    "#-------------------------------------------------------------------------------------------------------#\n",
    "# missing value를 auto ml로 예측하기위함\n",
    "# target이 missing인 값들을 제외하고, kfold cv를 통해서 각 알고리즘들의 scoring을 계산\n",
    "\n",
    "# # cross_val_score에서 쓸 수 있는 scoring\n",
    "# list(sklearn.metrics.SCORERS.keys())\n",
    "def AUTOML_COMP(train,\n",
    "                target,\n",
    "                objective,\n",
    "                iterations=100,\n",
    "                scoring=None,\n",
    "                test=None,\n",
    "                ignore_features=None,\n",
    "                n_splits=10,\n",
    "                fit_model=False):\n",
    "\n",
    "    # copy\n",
    "    X_train = train.drop([target], axis=1)\n",
    "    y_train = train[target]\n",
    "    if test is not None:\n",
    "        X_test = test.drop([target], axis=1)\n",
    "        y_test = test[target]\n",
    "\n",
    "    # remove needless features\n",
    "    if ignore_features is not None:\n",
    "        features = list(set(X_train.columns)-set(ignore_features))\n",
    "    else:\n",
    "        features = list(X_train.columns)\n",
    "\n",
    "    # 모형적합\n",
    "    start_time = time.time()\n",
    "\n",
    "    # binary / regression\n",
    "    models = []\n",
    "    if objective == 'binary':\n",
    "\n",
    "        if scoring is None:\n",
    "            scoring = 'accuracy'\n",
    "\n",
    "        models.append(('LR', LogisticRegression(\n",
    "            solver='liblinear', multi_class='ovr', random_state=SEED)))\n",
    "        models.append(('LDA', LinearDiscriminantAnalysis()))\n",
    "        models.append(('KNN', KNeighborsClassifier()))\n",
    "        models.append(('CART', DecisionTreeClassifier(random_state=SEED)))\n",
    "        models.append(('NB', GaussianNB()))  # Gaussian Naive Bayes\n",
    "        models.append(('SVM', SVC(gamma='auto', random_state=SEED)))\n",
    "        models.append(('RFC', RandomForestClassifier(random_state=SEED)))\n",
    "        models.append(('XGBC', XGBClassifier(\n",
    "            iterations=iterations, verbosity=0, random_state=SEED)))\n",
    "        models.append(('LGBMC', LGBMClassifier(random_state=SEED)))\n",
    "        models.append(('AdaC', AdaBoostClassifier(random_state=SEED)))\n",
    "        models.append(('Cat', CatBoostClassifier(\n",
    "            iterations=iterations, silent=True, random_state=SEED)))\n",
    "\n",
    "    elif objective == 'regression':\n",
    "\n",
    "        if scoring is None:\n",
    "            scoring = 'neg_mean_squared_error'\n",
    "\n",
    "        models.append(('LR', LinearRegression()))\n",
    "        models.append(('RIDGE', RidgeClassifier()))\n",
    "        models.append(('LASSO', Lasso(random_state=SEED)))\n",
    "        models.append(('KNN', KNeighborsRegressor()))\n",
    "        models.append(('CART', DecisionTreeRegressor(random_state=SEED)))\n",
    "        models.append(('EN', ElasticNet(random_state=SEED)))\n",
    "        models.append(('SVM', SVR()))\n",
    "        models.append(('RFR', RandomForestRegressor(random_state=SEED)))\n",
    "        models.append(('XGBR', XGBRegressor(\n",
    "            iterations=iterations, verbosity=0, random_state=SEED)))\n",
    "        models.append(('LGBMR', LGBMRegressor(random_state=SEED)))\n",
    "        models.append(('AdaR', AdaBoostRegressor(random_state=SEED)))\n",
    "        models.append(('Cat', CatBoostRegressor(\n",
    "            iterations=iterations, silent=True, random_state=SEED)))\n",
    "\n",
    "    # kfold cross validation\n",
    "    if fit_model:\n",
    "\n",
    "        results = []\n",
    "        names = []\n",
    "        msgs = []\n",
    "\n",
    "        pbar = tqdm(models)\n",
    "        for name, model in pbar:\n",
    "            pbar.set_description(f'fitting... ({name})')\n",
    "\n",
    "            kfold = KFold(n_splits=n_splits, random_state=SEED, shuffle=True)\n",
    "            cv_results = cross_val_score(model,\n",
    "                                         X=X_train,\n",
    "                                         y=y_train,\n",
    "                                         cv=kfold,\n",
    "                                         scoring=scoring,\n",
    "                                         verbose=0)\n",
    "            results.append(cv_results)\n",
    "            names.append(name)\n",
    "            msgs.append((name, cv_results.mean(), cv_results.std()))\n",
    "\n",
    "        end_time = time.time()\n",
    "        running_time = (end_time - start_time)/60\n",
    "        running_time = f'{running_time:.1f} Mins'\n",
    "\n",
    "    ret = {}\n",
    "\n",
    "    ret['X_train'] = X_train\n",
    "    ret['y_train'] = y_train\n",
    "\n",
    "    if fit_model:\n",
    "        ret['run_time'] = running_time\n",
    "        ret['message'] = msgs\n",
    "        ret['model'] = models\n",
    "        ret['cv_result'] = results\n",
    "\n",
    "    if test is not None:\n",
    "        ret['X_test'] = X_test\n",
    "\n",
    "    return(ret)\n",
    "\n",
    "\n",
    "def AUTO_COMP_PLOT(object, title='Algorithm Comparision'):\n",
    "\n",
    "    cv_res_df = pd.DataFrame(\n",
    "        np.transpose(object['cv_result']),\n",
    "        columns=[name for name, model in object['model']]\n",
    "    )\n",
    "\n",
    "    fig = plt.figure(figsize=(15, 5))\n",
    "    fig.add_subplot(111)\n",
    "    p = sns.boxplot(data=cv_res_df)\n",
    "    p = sns.swarmplot(data=cv_res_df, marker='*', s=7, color='crimson')\n",
    "    p.set_title(title, fontsize=20)\n",
    "    plt.show()\n",
    "\n",
    "#-------------------------------------------------------------------------------------------------------#\n",
    "# 2.6.13. score function\n",
    "#-------------------------------------------------------------------------------------------------------#\n",
    "def mape_fn(y_test, y_pred):\n",
    "    y_test, y_pred = np.array(y_test), np.array(y_pred)\n",
    "    mape = np.mean(np.abs((y_test - y_pred) / y_test)) * 100\n",
    "    return mape\n",
    "\n",
    "\n",
    "def rmse_fn(y_test, y_pred):\n",
    "    rmse = np.sqrt(mean_squared_error(y_test, y_pred))\n",
    "    return(rmse)\n",
    "\n",
    "\n",
    "def r2_fn(y_test, y_pred):\n",
    "    r2 = r2_score(y_test, y_pred)\n",
    "    return(r2)\n",
    "\n",
    " \n",
    "#-------------------------------------------------------------------------------------------------------#\n",
    "# 2.6.14. abline\n",
    "#-------------------------------------------------------------------------------------------------------#\n",
    "def abline(intercept,slope,linewidth=2,linestyle='--',color='red'):\n",
    "    \"\"\"Plot a line from slope and intercept\"\"\"\n",
    "    axes = plt.gca()\n",
    "    x_vals = np.array(axes.get_xlim())\n",
    "    y_vals = intercept + slope * x_vals\n",
    "    plt.plot(x_vals, y_vals, linestyle=linestyle, linewidth=linewidth, color=color)"
   ]
  },
  {
   "cell_type": "markdown",
   "id": "bf5f20af",
   "metadata": {},
   "source": [
    "<br></br>\n",
    "버전 확인"
   ]
  },
  {
   "cell_type": "code",
   "execution_count": 13,
   "id": "a32e1f61",
   "metadata": {
    "ExecuteTime": {
     "end_time": "2022-03-16T10:24:31.059899Z",
     "start_time": "2022-03-16T10:24:31.045906Z"
    }
   },
   "outputs": [
    {
     "name": "stdout",
     "output_type": "stream",
     "text": [
      "3.9.7 (default, Sep 16 2021, 16:59:28) [MSC v.1916 64 bit (AMD64)]\n"
     ]
    }
   ],
   "source": [
    "import sys\n",
    "print(sys.version)"
   ]
  },
  {
   "cell_type": "markdown",
   "id": "053f33a6",
   "metadata": {},
   "source": [
    "<br></br>\n",
    "<br></br>\n",
    "># **Data**"
   ]
  },
  {
   "cell_type": "markdown",
   "id": "a18474b8",
   "metadata": {},
   "source": [
    "데이터를 제공한 회사는 ABC Private Limited로 소매회사임. \\\n",
    "회사설명 : 작물 재배, 시장 원예, 원예(Growing of crops, market gardening, horticulture) [Link](https://www.zaubacorp.com/company/A-B-C-PRIVATE-LIMITED/U01110MH1950PTC008007)"
   ]
  },
  {
   "cell_type": "markdown",
   "id": "402d6df4",
   "metadata": {},
   "source": [
    "변수정보 (변수명 참조 : [DataHackaton](https://datahack.analyticsvidhya.com/contest/black-friday/#ProblemStatement))"
   ]
  },
  {
   "cell_type": "markdown",
   "id": "ce28384f",
   "metadata": {},
   "source": [
    "|변수명 | 변수정보 |\n",
    "|:---:|:---|\n",
    "| User_ID | 사용자 ID |\n",
    "| Product_ID | 제품 ID |\n",
    "| Gender | 사용자의 성별 |\n",
    "| Age | 나이(구간) |\n",
    "| Occupation | 직업(마스킹됨) |\n",
    "| City_Category | 도시의 범주(A,B,C) |\n",
    "| Stay_In_Current_City_Years | 현재 도시에 체류한 기간 |\n",
    "| Marital_Status | 결혼 여부 |\n",
    "| Product_Category_1 | 제품 카테고리 (마스킹됨) |\n",
    "| Product_Category_2 | 제품 카테고리2(마스킹됨,다른 카테고리에도 속할 수 있음) |\n",
    "| Product_Category_3 | 제품 카테고리3(마스킹됨,다른 카테고리에도 속할 수 있음) |\n",
    "| Purchase | 구매금액(Target) |"
   ]
  },
  {
   "cell_type": "markdown",
   "id": "dda586bc",
   "metadata": {},
   "source": [
    "<br></br>\n",
    "## Data Load"
   ]
  },
  {
   "cell_type": "code",
   "execution_count": 14,
   "id": "1d4c0dc5",
   "metadata": {
    "ExecuteTime": {
     "end_time": "2022-03-16T10:24:31.187729Z",
     "start_time": "2022-03-16T10:24:31.060899Z"
    },
    "scrolled": true
   },
   "outputs": [
    {
     "data": {
      "text/html": [
       "<div>\n",
       "<style scoped>\n",
       "    .dataframe tbody tr th:only-of-type {\n",
       "        vertical-align: middle;\n",
       "    }\n",
       "\n",
       "    .dataframe tbody tr th {\n",
       "        vertical-align: top;\n",
       "    }\n",
       "\n",
       "    .dataframe thead th {\n",
       "        text-align: right;\n",
       "    }\n",
       "</style>\n",
       "<table border=\"1\" class=\"dataframe\">\n",
       "  <thead>\n",
       "    <tr style=\"text-align: right;\">\n",
       "      <th></th>\n",
       "      <th>id</th>\n",
       "      <th>sensor_1</th>\n",
       "      <th>sensor_2</th>\n",
       "      <th>sensor_3</th>\n",
       "      <th>sensor_4</th>\n",
       "      <th>sensor_5</th>\n",
       "      <th>sensor_6</th>\n",
       "      <th>sensor_7</th>\n",
       "      <th>sensor_8</th>\n",
       "      <th>sensor_9</th>\n",
       "      <th>...</th>\n",
       "      <th>sensor_24</th>\n",
       "      <th>sensor_25</th>\n",
       "      <th>sensor_26</th>\n",
       "      <th>sensor_27</th>\n",
       "      <th>sensor_28</th>\n",
       "      <th>sensor_29</th>\n",
       "      <th>sensor_30</th>\n",
       "      <th>sensor_31</th>\n",
       "      <th>sensor_32</th>\n",
       "      <th>target</th>\n",
       "    </tr>\n",
       "  </thead>\n",
       "  <tbody>\n",
       "    <tr>\n",
       "      <th>0</th>\n",
       "      <td>1</td>\n",
       "      <td>-6.149463</td>\n",
       "      <td>-0.929714</td>\n",
       "      <td>9.058368</td>\n",
       "      <td>-7.017854</td>\n",
       "      <td>-2.958471</td>\n",
       "      <td>0.179233</td>\n",
       "      <td>-0.956591</td>\n",
       "      <td>-0.972401</td>\n",
       "      <td>5.956213</td>\n",
       "      <td>...</td>\n",
       "      <td>-7.026436</td>\n",
       "      <td>-6.006282</td>\n",
       "      <td>-6.005836</td>\n",
       "      <td>7.043084</td>\n",
       "      <td>21.884650</td>\n",
       "      <td>-3.064152</td>\n",
       "      <td>-5.247552</td>\n",
       "      <td>-6.026107</td>\n",
       "      <td>-11.990822</td>\n",
       "      <td>1</td>\n",
       "    </tr>\n",
       "    <tr>\n",
       "      <th>1</th>\n",
       "      <td>2</td>\n",
       "      <td>-2.238836</td>\n",
       "      <td>-1.003511</td>\n",
       "      <td>5.098079</td>\n",
       "      <td>-10.880357</td>\n",
       "      <td>-0.804562</td>\n",
       "      <td>-2.992123</td>\n",
       "      <td>26.972724</td>\n",
       "      <td>-8.900861</td>\n",
       "      <td>-5.968298</td>\n",
       "      <td>...</td>\n",
       "      <td>-1.996714</td>\n",
       "      <td>-7.933806</td>\n",
       "      <td>-3.136773</td>\n",
       "      <td>8.774211</td>\n",
       "      <td>10.944759</td>\n",
       "      <td>9.858186</td>\n",
       "      <td>-0.969241</td>\n",
       "      <td>-3.935553</td>\n",
       "      <td>-15.892421</td>\n",
       "      <td>1</td>\n",
       "    </tr>\n",
       "    <tr>\n",
       "      <th>2</th>\n",
       "      <td>3</td>\n",
       "      <td>19.087934</td>\n",
       "      <td>-2.092514</td>\n",
       "      <td>0.946750</td>\n",
       "      <td>-21.831788</td>\n",
       "      <td>9.119235</td>\n",
       "      <td>17.853587</td>\n",
       "      <td>-21.069954</td>\n",
       "      <td>-15.933212</td>\n",
       "      <td>-9.016039</td>\n",
       "      <td>...</td>\n",
       "      <td>-6.889685</td>\n",
       "      <td>54.052330</td>\n",
       "      <td>-6.109238</td>\n",
       "      <td>12.154595</td>\n",
       "      <td>6.095989</td>\n",
       "      <td>-40.195088</td>\n",
       "      <td>-3.958124</td>\n",
       "      <td>-8.079537</td>\n",
       "      <td>-5.160090</td>\n",
       "      <td>0</td>\n",
       "    </tr>\n",
       "    <tr>\n",
       "      <th>3</th>\n",
       "      <td>4</td>\n",
       "      <td>-2.211629</td>\n",
       "      <td>-1.930904</td>\n",
       "      <td>21.888406</td>\n",
       "      <td>-3.067560</td>\n",
       "      <td>-0.240634</td>\n",
       "      <td>2.985056</td>\n",
       "      <td>-29.073369</td>\n",
       "      <td>0.200774</td>\n",
       "      <td>-1.043742</td>\n",
       "      <td>...</td>\n",
       "      <td>-2.126170</td>\n",
       "      <td>-1.035526</td>\n",
       "      <td>2.178769</td>\n",
       "      <td>10.032723</td>\n",
       "      <td>-1.010897</td>\n",
       "      <td>-3.912848</td>\n",
       "      <td>-2.980338</td>\n",
       "      <td>-12.983597</td>\n",
       "      <td>-3.001077</td>\n",
       "      <td>1</td>\n",
       "    </tr>\n",
       "    <tr>\n",
       "      <th>4</th>\n",
       "      <td>5</td>\n",
       "      <td>3.953852</td>\n",
       "      <td>2.964892</td>\n",
       "      <td>-36.044802</td>\n",
       "      <td>0.899838</td>\n",
       "      <td>26.930210</td>\n",
       "      <td>11.004409</td>\n",
       "      <td>-21.962423</td>\n",
       "      <td>-11.950189</td>\n",
       "      <td>-20.933785</td>\n",
       "      <td>...</td>\n",
       "      <td>-2.051761</td>\n",
       "      <td>10.917567</td>\n",
       "      <td>1.905335</td>\n",
       "      <td>-13.004707</td>\n",
       "      <td>17.169552</td>\n",
       "      <td>2.105194</td>\n",
       "      <td>3.967986</td>\n",
       "      <td>11.861657</td>\n",
       "      <td>-27.088846</td>\n",
       "      <td>2</td>\n",
       "    </tr>\n",
       "    <tr>\n",
       "      <th>...</th>\n",
       "      <td>...</td>\n",
       "      <td>...</td>\n",
       "      <td>...</td>\n",
       "      <td>...</td>\n",
       "      <td>...</td>\n",
       "      <td>...</td>\n",
       "      <td>...</td>\n",
       "      <td>...</td>\n",
       "      <td>...</td>\n",
       "      <td>...</td>\n",
       "      <td>...</td>\n",
       "      <td>...</td>\n",
       "      <td>...</td>\n",
       "      <td>...</td>\n",
       "      <td>...</td>\n",
       "      <td>...</td>\n",
       "      <td>...</td>\n",
       "      <td>...</td>\n",
       "      <td>...</td>\n",
       "      <td>...</td>\n",
       "      <td>...</td>\n",
       "    </tr>\n",
       "    <tr>\n",
       "      <th>2330</th>\n",
       "      <td>2331</td>\n",
       "      <td>-3.971043</td>\n",
       "      <td>39.913391</td>\n",
       "      <td>16.034626</td>\n",
       "      <td>-19.067697</td>\n",
       "      <td>8.061361</td>\n",
       "      <td>-70.916786</td>\n",
       "      <td>-39.937026</td>\n",
       "      <td>12.834223</td>\n",
       "      <td>-21.937973</td>\n",
       "      <td>...</td>\n",
       "      <td>3.086417</td>\n",
       "      <td>-4.954858</td>\n",
       "      <td>-11.106802</td>\n",
       "      <td>-37.863399</td>\n",
       "      <td>31.069292</td>\n",
       "      <td>-4.097017</td>\n",
       "      <td>-13.095192</td>\n",
       "      <td>-5.150284</td>\n",
       "      <td>8.016265</td>\n",
       "      <td>3</td>\n",
       "    </tr>\n",
       "    <tr>\n",
       "      <th>2331</th>\n",
       "      <td>2332</td>\n",
       "      <td>-3.011710</td>\n",
       "      <td>-4.060355</td>\n",
       "      <td>-1.046067</td>\n",
       "      <td>4.178137</td>\n",
       "      <td>-2.003243</td>\n",
       "      <td>-2.895017</td>\n",
       "      <td>-2.766757</td>\n",
       "      <td>-29.099123</td>\n",
       "      <td>-4.208953</td>\n",
       "      <td>...</td>\n",
       "      <td>6.871938</td>\n",
       "      <td>-0.134367</td>\n",
       "      <td>-0.867018</td>\n",
       "      <td>23.892336</td>\n",
       "      <td>-11.977934</td>\n",
       "      <td>1.984203</td>\n",
       "      <td>0.891666</td>\n",
       "      <td>28.822082</td>\n",
       "      <td>-0.878670</td>\n",
       "      <td>3</td>\n",
       "    </tr>\n",
       "    <tr>\n",
       "      <th>2332</th>\n",
       "      <td>2333</td>\n",
       "      <td>-9.001824</td>\n",
       "      <td>5.985711</td>\n",
       "      <td>-8.146347</td>\n",
       "      <td>-10.902201</td>\n",
       "      <td>5.102105</td>\n",
       "      <td>8.133692</td>\n",
       "      <td>32.877614</td>\n",
       "      <td>-3.017438</td>\n",
       "      <td>-3.174442</td>\n",
       "      <td>...</td>\n",
       "      <td>-7.952857</td>\n",
       "      <td>2.049467</td>\n",
       "      <td>-5.825790</td>\n",
       "      <td>-37.989569</td>\n",
       "      <td>15.014132</td>\n",
       "      <td>1.160272</td>\n",
       "      <td>-11.135889</td>\n",
       "      <td>-7.035763</td>\n",
       "      <td>-0.930067</td>\n",
       "      <td>3</td>\n",
       "    </tr>\n",
       "    <tr>\n",
       "      <th>2333</th>\n",
       "      <td>2334</td>\n",
       "      <td>-3.987992</td>\n",
       "      <td>3.011460</td>\n",
       "      <td>-11.949323</td>\n",
       "      <td>-3.810885</td>\n",
       "      <td>16.880234</td>\n",
       "      <td>-5.150117</td>\n",
       "      <td>9.182801</td>\n",
       "      <td>4.960190</td>\n",
       "      <td>-21.002525</td>\n",
       "      <td>...</td>\n",
       "      <td>3.080276</td>\n",
       "      <td>2.054739</td>\n",
       "      <td>-1.052350</td>\n",
       "      <td>-6.019488</td>\n",
       "      <td>-7.075333</td>\n",
       "      <td>-5.826058</td>\n",
       "      <td>-3.989168</td>\n",
       "      <td>14.916905</td>\n",
       "      <td>-12.093426</td>\n",
       "      <td>1</td>\n",
       "    </tr>\n",
       "    <tr>\n",
       "      <th>2334</th>\n",
       "      <td>2335</td>\n",
       "      <td>-1.838225</td>\n",
       "      <td>-7.023497</td>\n",
       "      <td>-45.877365</td>\n",
       "      <td>20.026927</td>\n",
       "      <td>4.058551</td>\n",
       "      <td>8.062100</td>\n",
       "      <td>19.083782</td>\n",
       "      <td>-21.881795</td>\n",
       "      <td>-9.106341</td>\n",
       "      <td>...</td>\n",
       "      <td>31.130021</td>\n",
       "      <td>5.121935</td>\n",
       "      <td>-1.003704</td>\n",
       "      <td>-58.953961</td>\n",
       "      <td>-22.095226</td>\n",
       "      <td>-0.898581</td>\n",
       "      <td>1.164833</td>\n",
       "      <td>-21.977991</td>\n",
       "      <td>-13.060285</td>\n",
       "      <td>2</td>\n",
       "    </tr>\n",
       "  </tbody>\n",
       "</table>\n",
       "<p>2335 rows × 34 columns</p>\n",
       "</div>"
      ],
      "text/plain": [
       "        id   sensor_1   sensor_2   sensor_3   sensor_4   sensor_5   sensor_6  \\\n",
       "0        1  -6.149463  -0.929714   9.058368  -7.017854  -2.958471   0.179233   \n",
       "1        2  -2.238836  -1.003511   5.098079 -10.880357  -0.804562  -2.992123   \n",
       "2        3  19.087934  -2.092514   0.946750 -21.831788   9.119235  17.853587   \n",
       "3        4  -2.211629  -1.930904  21.888406  -3.067560  -0.240634   2.985056   \n",
       "4        5   3.953852   2.964892 -36.044802   0.899838  26.930210  11.004409   \n",
       "...    ...        ...        ...        ...        ...        ...        ...   \n",
       "2330  2331  -3.971043  39.913391  16.034626 -19.067697   8.061361 -70.916786   \n",
       "2331  2332  -3.011710  -4.060355  -1.046067   4.178137  -2.003243  -2.895017   \n",
       "2332  2333  -9.001824   5.985711  -8.146347 -10.902201   5.102105   8.133692   \n",
       "2333  2334  -3.987992   3.011460 -11.949323  -3.810885  16.880234  -5.150117   \n",
       "2334  2335  -1.838225  -7.023497 -45.877365  20.026927   4.058551   8.062100   \n",
       "\n",
       "       sensor_7   sensor_8   sensor_9  ...  sensor_24  sensor_25  sensor_26  \\\n",
       "0     -0.956591  -0.972401   5.956213  ...  -7.026436  -6.006282  -6.005836   \n",
       "1     26.972724  -8.900861  -5.968298  ...  -1.996714  -7.933806  -3.136773   \n",
       "2    -21.069954 -15.933212  -9.016039  ...  -6.889685  54.052330  -6.109238   \n",
       "3    -29.073369   0.200774  -1.043742  ...  -2.126170  -1.035526   2.178769   \n",
       "4    -21.962423 -11.950189 -20.933785  ...  -2.051761  10.917567   1.905335   \n",
       "...         ...        ...        ...  ...        ...        ...        ...   \n",
       "2330 -39.937026  12.834223 -21.937973  ...   3.086417  -4.954858 -11.106802   \n",
       "2331  -2.766757 -29.099123  -4.208953  ...   6.871938  -0.134367  -0.867018   \n",
       "2332  32.877614  -3.017438  -3.174442  ...  -7.952857   2.049467  -5.825790   \n",
       "2333   9.182801   4.960190 -21.002525  ...   3.080276   2.054739  -1.052350   \n",
       "2334  19.083782 -21.881795  -9.106341  ...  31.130021   5.121935  -1.003704   \n",
       "\n",
       "      sensor_27  sensor_28  sensor_29  sensor_30  sensor_31  sensor_32  target  \n",
       "0      7.043084  21.884650  -3.064152  -5.247552  -6.026107 -11.990822       1  \n",
       "1      8.774211  10.944759   9.858186  -0.969241  -3.935553 -15.892421       1  \n",
       "2     12.154595   6.095989 -40.195088  -3.958124  -8.079537  -5.160090       0  \n",
       "3     10.032723  -1.010897  -3.912848  -2.980338 -12.983597  -3.001077       1  \n",
       "4    -13.004707  17.169552   2.105194   3.967986  11.861657 -27.088846       2  \n",
       "...         ...        ...        ...        ...        ...        ...     ...  \n",
       "2330 -37.863399  31.069292  -4.097017 -13.095192  -5.150284   8.016265       3  \n",
       "2331  23.892336 -11.977934   1.984203   0.891666  28.822082  -0.878670       3  \n",
       "2332 -37.989569  15.014132   1.160272 -11.135889  -7.035763  -0.930067       3  \n",
       "2333  -6.019488  -7.075333  -5.826058  -3.989168  14.916905 -12.093426       1  \n",
       "2334 -58.953961 -22.095226  -0.898581   1.164833 -21.977991 -13.060285       2  \n",
       "\n",
       "[2335 rows x 34 columns]"
      ]
     },
     "execution_count": 14,
     "metadata": {},
     "output_type": "execute_result"
    }
   ],
   "source": [
    "# Train Data Load (550,068 rows, 12 columns)\n",
    "train = pd.read_csv(DATA_PATH + 'train.csv')\n",
    "test  = pd.read_csv(DATA_PATH + 'test.csv')\n",
    "sub   = pd.read_csv(DATA_PATH + 'sample_submission.csv')\n",
    "\n",
    "train"
   ]
  },
  {
   "cell_type": "markdown",
   "id": "3144513a",
   "metadata": {},
   "source": [
    "<br></br>\n",
    "Column 명 변경"
   ]
  },
  {
   "cell_type": "code",
   "execution_count": 20,
   "id": "51b0e0b3",
   "metadata": {
    "ExecuteTime": {
     "end_time": "2022-03-16T10:28:32.569327Z",
     "start_time": "2022-03-16T10:28:32.558323Z"
    }
   },
   "outputs": [],
   "source": [
    "COL_NAME = {\n",
    "}\n",
    "\n",
    "train2 = train.rename(columns=COL_NAME)\n",
    "test2  = test .rename(columns=COL_NAME)\n",
    "sub2   = sub  .rename(columns=COL_NAME)"
   ]
  },
  {
   "cell_type": "markdown",
   "id": "34379c16",
   "metadata": {},
   "source": [
    "<br></br>\n",
    "Type 변경"
   ]
  },
  {
   "cell_type": "code",
   "execution_count": 21,
   "id": "4ee9e671",
   "metadata": {
    "ExecuteTime": {
     "end_time": "2022-03-16T10:28:53.746303Z",
     "start_time": "2022-03-16T10:28:53.717313Z"
    }
   },
   "outputs": [],
   "source": [
    "type_change_var = ['id','target']\n",
    "\n",
    "for var in type_change_var:\n",
    "    train2[var] = train2[var].astype(str)\n",
    "    \n",
    "    if (var in test2.columns):\n",
    "        test2[var] = test2[var].astype(str)"
   ]
  },
  {
   "cell_type": "markdown",
   "id": "57c4ebf0",
   "metadata": {},
   "source": [
    "<br></br>\n",
    "## Missing Check"
   ]
  },
  {
   "cell_type": "code",
   "execution_count": 22,
   "id": "59a0e749",
   "metadata": {
    "ExecuteTime": {
     "end_time": "2022-03-16T10:28:53.794279Z",
     "start_time": "2022-03-16T10:28:53.747290Z"
    }
   },
   "outputs": [
    {
     "name": "stdout",
     "output_type": "stream",
     "text": [
      "\u001b[1m\u001b[94m> train : \u001b[0m\n",
      "Empty DataFrame\n",
      "Columns: [missing_count, total_count, percentage]\n",
      "Index: []\n",
      "\n",
      "\u001b[1m\u001b[94m> test : \u001b[0m\n",
      "Empty DataFrame\n",
      "Columns: [missing_count, total_count, percentage]\n",
      "Index: []\n",
      "\n"
     ]
    }
   ],
   "source": [
    "def missing_column_check(data, wording):\n",
    "    \n",
    "    df = data.copy()\n",
    "    \n",
    "    cnt_df = df.apply(lambda x: x.replace(' ','').replace('nan','').replace('null','')).\\\n",
    "        isnull().sum()\n",
    "\n",
    "    total_df = pd.DataFrame(cnt_df.copy(), columns=['total_count'])\n",
    "    total_df['total_count'] = df.shape[0]\n",
    "\n",
    "    total_percent_df = round((cnt_df / df.shape[0])*100,2)\n",
    "\n",
    "    missing_df = pd.concat([cnt_df, total_df, total_percent_df],axis=1).\\\n",
    "        rename(columns={0:'missing_count',1:'percentage'}).\\\n",
    "        query('missing_count > 0')\n",
    "    \n",
    "    print(f'{color.BOLD}{color.BLUE}{wording} : {color.END}\\n{missing_df}\\n')\n",
    "    \n",
    "missing_column_check(train2, wording = '> train')\n",
    "missing_column_check(test2 , wording = '> test')"
   ]
  },
  {
   "cell_type": "code",
   "execution_count": 23,
   "id": "aa2d5e3c",
   "metadata": {
    "ExecuteTime": {
     "end_time": "2022-03-16T10:28:53.810278Z",
     "start_time": "2022-03-16T10:28:53.795279Z"
    }
   },
   "outputs": [
    {
     "name": "stdout",
     "output_type": "stream",
     "text": [
      "<class 'pandas.core.frame.DataFrame'>\n",
      "RangeIndex: 2335 entries, 0 to 2334\n",
      "Data columns (total 34 columns):\n",
      " #   Column     Non-Null Count  Dtype  \n",
      "---  ------     --------------  -----  \n",
      " 0   id         2335 non-null   object \n",
      " 1   sensor_1   2335 non-null   float64\n",
      " 2   sensor_2   2335 non-null   float64\n",
      " 3   sensor_3   2335 non-null   float64\n",
      " 4   sensor_4   2335 non-null   float64\n",
      " 5   sensor_5   2335 non-null   float64\n",
      " 6   sensor_6   2335 non-null   float64\n",
      " 7   sensor_7   2335 non-null   float64\n",
      " 8   sensor_8   2335 non-null   float64\n",
      " 9   sensor_9   2335 non-null   float64\n",
      " 10  sensor_10  2335 non-null   float64\n",
      " 11  sensor_11  2335 non-null   float64\n",
      " 12  sensor_12  2335 non-null   float64\n",
      " 13  sensor_13  2335 non-null   float64\n",
      " 14  sensor_14  2335 non-null   float64\n",
      " 15  sensor_15  2335 non-null   float64\n",
      " 16  sensor_16  2335 non-null   float64\n",
      " 17  sensor_17  2335 non-null   float64\n",
      " 18  sensor_18  2335 non-null   float64\n",
      " 19  sensor_19  2335 non-null   float64\n",
      " 20  sensor_20  2335 non-null   float64\n",
      " 21  sensor_21  2335 non-null   float64\n",
      " 22  sensor_22  2335 non-null   float64\n",
      " 23  sensor_23  2335 non-null   float64\n",
      " 24  sensor_24  2335 non-null   float64\n",
      " 25  sensor_25  2335 non-null   float64\n",
      " 26  sensor_26  2335 non-null   float64\n",
      " 27  sensor_27  2335 non-null   float64\n",
      " 28  sensor_28  2335 non-null   float64\n",
      " 29  sensor_29  2335 non-null   float64\n",
      " 30  sensor_30  2335 non-null   float64\n",
      " 31  sensor_31  2335 non-null   float64\n",
      " 32  sensor_32  2335 non-null   float64\n",
      " 33  target     2335 non-null   object \n",
      "dtypes: float64(32), object(2)\n",
      "memory usage: 620.4+ KB\n"
     ]
    }
   ],
   "source": [
    "train2.info()"
   ]
  },
  {
   "cell_type": "markdown",
   "id": "8208a496",
   "metadata": {},
   "source": [
    "Missing 없음"
   ]
  },
  {
   "cell_type": "markdown",
   "id": "bc6f50fa",
   "metadata": {},
   "source": [
    "<br></br>\n",
    "<br></br>\n",
    "># **EDA**"
   ]
  },
  {
   "cell_type": "markdown",
   "id": "1609d2e0",
   "metadata": {},
   "source": [
    "<br></br>\n",
    "## Column Type 확인"
   ]
  },
  {
   "cell_type": "code",
   "execution_count": 24,
   "id": "f91f13bd",
   "metadata": {
    "ExecuteTime": {
     "end_time": "2022-03-16T10:28:53.842263Z",
     "start_time": "2022-03-16T10:28:53.812261Z"
    }
   },
   "outputs": [
    {
     "data": {
      "text/html": [
       "<div>\n",
       "<style scoped>\n",
       "    .dataframe tbody tr th:only-of-type {\n",
       "        vertical-align: middle;\n",
       "    }\n",
       "\n",
       "    .dataframe tbody tr th {\n",
       "        vertical-align: top;\n",
       "    }\n",
       "\n",
       "    .dataframe thead th {\n",
       "        text-align: right;\n",
       "    }\n",
       "</style>\n",
       "<table border=\"1\" class=\"dataframe\">\n",
       "  <thead>\n",
       "    <tr style=\"text-align: right;\">\n",
       "      <th></th>\n",
       "      <th>id</th>\n",
       "      <th>sensor_1</th>\n",
       "      <th>sensor_2</th>\n",
       "      <th>sensor_3</th>\n",
       "      <th>sensor_4</th>\n",
       "      <th>sensor_5</th>\n",
       "      <th>sensor_6</th>\n",
       "      <th>sensor_7</th>\n",
       "      <th>sensor_8</th>\n",
       "      <th>sensor_9</th>\n",
       "      <th>...</th>\n",
       "      <th>sensor_24</th>\n",
       "      <th>sensor_25</th>\n",
       "      <th>sensor_26</th>\n",
       "      <th>sensor_27</th>\n",
       "      <th>sensor_28</th>\n",
       "      <th>sensor_29</th>\n",
       "      <th>sensor_30</th>\n",
       "      <th>sensor_31</th>\n",
       "      <th>sensor_32</th>\n",
       "      <th>target</th>\n",
       "    </tr>\n",
       "  </thead>\n",
       "  <tbody>\n",
       "    <tr>\n",
       "      <th>0</th>\n",
       "      <td>1</td>\n",
       "      <td>-6.149463</td>\n",
       "      <td>-0.929714</td>\n",
       "      <td>9.058368</td>\n",
       "      <td>-7.017854</td>\n",
       "      <td>-2.958471</td>\n",
       "      <td>0.179233</td>\n",
       "      <td>-0.956591</td>\n",
       "      <td>-0.972401</td>\n",
       "      <td>5.956213</td>\n",
       "      <td>...</td>\n",
       "      <td>-7.026436</td>\n",
       "      <td>-6.006282</td>\n",
       "      <td>-6.005836</td>\n",
       "      <td>7.043084</td>\n",
       "      <td>21.884650</td>\n",
       "      <td>-3.064152</td>\n",
       "      <td>-5.247552</td>\n",
       "      <td>-6.026107</td>\n",
       "      <td>-11.990822</td>\n",
       "      <td>1</td>\n",
       "    </tr>\n",
       "    <tr>\n",
       "      <th>1</th>\n",
       "      <td>2</td>\n",
       "      <td>-2.238836</td>\n",
       "      <td>-1.003511</td>\n",
       "      <td>5.098079</td>\n",
       "      <td>-10.880357</td>\n",
       "      <td>-0.804562</td>\n",
       "      <td>-2.992123</td>\n",
       "      <td>26.972724</td>\n",
       "      <td>-8.900861</td>\n",
       "      <td>-5.968298</td>\n",
       "      <td>...</td>\n",
       "      <td>-1.996714</td>\n",
       "      <td>-7.933806</td>\n",
       "      <td>-3.136773</td>\n",
       "      <td>8.774211</td>\n",
       "      <td>10.944759</td>\n",
       "      <td>9.858186</td>\n",
       "      <td>-0.969241</td>\n",
       "      <td>-3.935553</td>\n",
       "      <td>-15.892421</td>\n",
       "      <td>1</td>\n",
       "    </tr>\n",
       "    <tr>\n",
       "      <th>2</th>\n",
       "      <td>3</td>\n",
       "      <td>19.087934</td>\n",
       "      <td>-2.092514</td>\n",
       "      <td>0.946750</td>\n",
       "      <td>-21.831788</td>\n",
       "      <td>9.119235</td>\n",
       "      <td>17.853587</td>\n",
       "      <td>-21.069954</td>\n",
       "      <td>-15.933212</td>\n",
       "      <td>-9.016039</td>\n",
       "      <td>...</td>\n",
       "      <td>-6.889685</td>\n",
       "      <td>54.052330</td>\n",
       "      <td>-6.109238</td>\n",
       "      <td>12.154595</td>\n",
       "      <td>6.095989</td>\n",
       "      <td>-40.195088</td>\n",
       "      <td>-3.958124</td>\n",
       "      <td>-8.079537</td>\n",
       "      <td>-5.160090</td>\n",
       "      <td>0</td>\n",
       "    </tr>\n",
       "    <tr>\n",
       "      <th>3</th>\n",
       "      <td>4</td>\n",
       "      <td>-2.211629</td>\n",
       "      <td>-1.930904</td>\n",
       "      <td>21.888406</td>\n",
       "      <td>-3.067560</td>\n",
       "      <td>-0.240634</td>\n",
       "      <td>2.985056</td>\n",
       "      <td>-29.073369</td>\n",
       "      <td>0.200774</td>\n",
       "      <td>-1.043742</td>\n",
       "      <td>...</td>\n",
       "      <td>-2.126170</td>\n",
       "      <td>-1.035526</td>\n",
       "      <td>2.178769</td>\n",
       "      <td>10.032723</td>\n",
       "      <td>-1.010897</td>\n",
       "      <td>-3.912848</td>\n",
       "      <td>-2.980338</td>\n",
       "      <td>-12.983597</td>\n",
       "      <td>-3.001077</td>\n",
       "      <td>1</td>\n",
       "    </tr>\n",
       "    <tr>\n",
       "      <th>4</th>\n",
       "      <td>5</td>\n",
       "      <td>3.953852</td>\n",
       "      <td>2.964892</td>\n",
       "      <td>-36.044802</td>\n",
       "      <td>0.899838</td>\n",
       "      <td>26.930210</td>\n",
       "      <td>11.004409</td>\n",
       "      <td>-21.962423</td>\n",
       "      <td>-11.950189</td>\n",
       "      <td>-20.933785</td>\n",
       "      <td>...</td>\n",
       "      <td>-2.051761</td>\n",
       "      <td>10.917567</td>\n",
       "      <td>1.905335</td>\n",
       "      <td>-13.004707</td>\n",
       "      <td>17.169552</td>\n",
       "      <td>2.105194</td>\n",
       "      <td>3.967986</td>\n",
       "      <td>11.861657</td>\n",
       "      <td>-27.088846</td>\n",
       "      <td>2</td>\n",
       "    </tr>\n",
       "  </tbody>\n",
       "</table>\n",
       "<p>5 rows × 34 columns</p>\n",
       "</div>"
      ],
      "text/plain": [
       "  id   sensor_1  sensor_2   sensor_3   sensor_4   sensor_5   sensor_6  \\\n",
       "0  1  -6.149463 -0.929714   9.058368  -7.017854  -2.958471   0.179233   \n",
       "1  2  -2.238836 -1.003511   5.098079 -10.880357  -0.804562  -2.992123   \n",
       "2  3  19.087934 -2.092514   0.946750 -21.831788   9.119235  17.853587   \n",
       "3  4  -2.211629 -1.930904  21.888406  -3.067560  -0.240634   2.985056   \n",
       "4  5   3.953852  2.964892 -36.044802   0.899838  26.930210  11.004409   \n",
       "\n",
       "    sensor_7   sensor_8   sensor_9  ...  sensor_24  sensor_25  sensor_26  \\\n",
       "0  -0.956591  -0.972401   5.956213  ...  -7.026436  -6.006282  -6.005836   \n",
       "1  26.972724  -8.900861  -5.968298  ...  -1.996714  -7.933806  -3.136773   \n",
       "2 -21.069954 -15.933212  -9.016039  ...  -6.889685  54.052330  -6.109238   \n",
       "3 -29.073369   0.200774  -1.043742  ...  -2.126170  -1.035526   2.178769   \n",
       "4 -21.962423 -11.950189 -20.933785  ...  -2.051761  10.917567   1.905335   \n",
       "\n",
       "   sensor_27  sensor_28  sensor_29  sensor_30  sensor_31  sensor_32  target  \n",
       "0   7.043084  21.884650  -3.064152  -5.247552  -6.026107 -11.990822       1  \n",
       "1   8.774211  10.944759   9.858186  -0.969241  -3.935553 -15.892421       1  \n",
       "2  12.154595   6.095989 -40.195088  -3.958124  -8.079537  -5.160090       0  \n",
       "3  10.032723  -1.010897  -3.912848  -2.980338 -12.983597  -3.001077       1  \n",
       "4 -13.004707  17.169552   2.105194   3.967986  11.861657 -27.088846       2  \n",
       "\n",
       "[5 rows x 34 columns]"
      ]
     },
     "execution_count": 24,
     "metadata": {},
     "output_type": "execute_result"
    }
   ],
   "source": [
    "train2.head(5)"
   ]
  },
  {
   "cell_type": "code",
   "execution_count": 25,
   "id": "a8fde751",
   "metadata": {
    "ExecuteTime": {
     "end_time": "2022-03-16T10:28:53.873249Z",
     "start_time": "2022-03-16T10:28:53.843247Z"
    }
   },
   "outputs": [
    {
     "data": {
      "text/plain": [
       "id           2335\n",
       "sensor_1     2335\n",
       "sensor_2     2335\n",
       "sensor_3     2335\n",
       "sensor_4     2335\n",
       "sensor_5     2335\n",
       "sensor_6     2335\n",
       "sensor_7     2335\n",
       "sensor_8     2335\n",
       "sensor_9     2335\n",
       "sensor_10    2335\n",
       "sensor_11    2335\n",
       "sensor_12    2335\n",
       "sensor_13    2335\n",
       "sensor_14    2335\n",
       "sensor_15    2335\n",
       "sensor_16    2335\n",
       "sensor_17    2335\n",
       "sensor_18    2335\n",
       "sensor_19    2335\n",
       "sensor_20    2335\n",
       "sensor_21    2335\n",
       "sensor_22    2335\n",
       "sensor_23    2335\n",
       "sensor_24    2335\n",
       "sensor_25    2335\n",
       "sensor_26    2335\n",
       "sensor_27    2335\n",
       "sensor_28    2335\n",
       "sensor_29    2335\n",
       "sensor_30    2335\n",
       "sensor_31    2335\n",
       "sensor_32    2335\n",
       "target          4\n",
       "dtype: int64"
      ]
     },
     "execution_count": 25,
     "metadata": {},
     "output_type": "execute_result"
    }
   ],
   "source": [
    "train2.apply(lambda x: x.nunique())"
   ]
  },
  {
   "cell_type": "markdown",
   "id": "e5130557",
   "metadata": {},
   "source": [
    "손동작은 4개이고, 나머지는 센서값 <br></br>\n",
    "\n"
   ]
  },
  {
   "cell_type": "markdown",
   "id": "2dcf1c55",
   "metadata": {},
   "source": [
    "### 숫자형 변수"
   ]
  },
  {
   "cell_type": "code",
   "execution_count": 26,
   "id": "fba2e0c7",
   "metadata": {
    "ExecuteTime": {
     "end_time": "2022-03-16T10:28:53.952199Z",
     "start_time": "2022-03-16T10:28:53.874233Z"
    }
   },
   "outputs": [
    {
     "data": {
      "text/html": [
       "<div>\n",
       "<style scoped>\n",
       "    .dataframe tbody tr th:only-of-type {\n",
       "        vertical-align: middle;\n",
       "    }\n",
       "\n",
       "    .dataframe tbody tr th {\n",
       "        vertical-align: top;\n",
       "    }\n",
       "\n",
       "    .dataframe thead th {\n",
       "        text-align: right;\n",
       "    }\n",
       "</style>\n",
       "<table border=\"1\" class=\"dataframe\">\n",
       "  <thead>\n",
       "    <tr style=\"text-align: right;\">\n",
       "      <th></th>\n",
       "      <th>count</th>\n",
       "      <th>mean</th>\n",
       "      <th>std</th>\n",
       "      <th>min</th>\n",
       "      <th>25%</th>\n",
       "      <th>50%</th>\n",
       "      <th>75%</th>\n",
       "      <th>max</th>\n",
       "    </tr>\n",
       "  </thead>\n",
       "  <tbody>\n",
       "    <tr>\n",
       "      <th>sensor_1</th>\n",
       "      <td>2335.0</td>\n",
       "      <td>-1.122174</td>\n",
       "      <td>11.486353</td>\n",
       "      <td>-94.746969</td>\n",
       "      <td>-4.036597</td>\n",
       "      <td>-0.951398</td>\n",
       "      <td>2.895540</td>\n",
       "      <td>68.876142</td>\n",
       "    </tr>\n",
       "    <tr>\n",
       "      <th>sensor_2</th>\n",
       "      <td>2335.0</td>\n",
       "      <td>-1.024673</td>\n",
       "      <td>7.399859</td>\n",
       "      <td>-63.942094</td>\n",
       "      <td>-4.031957</td>\n",
       "      <td>-1.015582</td>\n",
       "      <td>2.140456</td>\n",
       "      <td>39.913391</td>\n",
       "    </tr>\n",
       "    <tr>\n",
       "      <th>sensor_3</th>\n",
       "      <td>2335.0</td>\n",
       "      <td>-0.672769</td>\n",
       "      <td>26.519159</td>\n",
       "      <td>-122.195138</td>\n",
       "      <td>-14.878500</td>\n",
       "      <td>-0.961088</td>\n",
       "      <td>13.974075</td>\n",
       "      <td>127.124171</td>\n",
       "    </tr>\n",
       "    <tr>\n",
       "      <th>sensor_4</th>\n",
       "      <td>2335.0</td>\n",
       "      <td>-0.147724</td>\n",
       "      <td>15.551500</td>\n",
       "      <td>-111.870691</td>\n",
       "      <td>-7.116633</td>\n",
       "      <td>-0.890469</td>\n",
       "      <td>6.110973</td>\n",
       "      <td>102.015561</td>\n",
       "    </tr>\n",
       "    <tr>\n",
       "      <th>sensor_5</th>\n",
       "      <td>2335.0</td>\n",
       "      <td>-0.327494</td>\n",
       "      <td>11.461970</td>\n",
       "      <td>-94.147972</td>\n",
       "      <td>-3.968687</td>\n",
       "      <td>-0.871690</td>\n",
       "      <td>2.970387</td>\n",
       "      <td>89.059852</td>\n",
       "    </tr>\n",
       "    <tr>\n",
       "      <th>sensor_6</th>\n",
       "      <td>2335.0</td>\n",
       "      <td>-0.423462</td>\n",
       "      <td>7.314322</td>\n",
       "      <td>-70.916786</td>\n",
       "      <td>-3.957699</td>\n",
       "      <td>-0.804810</td>\n",
       "      <td>3.006144</td>\n",
       "      <td>34.923040</td>\n",
       "    </tr>\n",
       "    <tr>\n",
       "      <th>sensor_7</th>\n",
       "      <td>2335.0</td>\n",
       "      <td>0.676275</td>\n",
       "      <td>26.869479</td>\n",
       "      <td>-105.956553</td>\n",
       "      <td>-13.937806</td>\n",
       "      <td>0.058910</td>\n",
       "      <td>13.934438</td>\n",
       "      <td>120.046277</td>\n",
       "    </tr>\n",
       "    <tr>\n",
       "      <th>sensor_8</th>\n",
       "      <td>2335.0</td>\n",
       "      <td>-0.936019</td>\n",
       "      <td>15.598104</td>\n",
       "      <td>-102.965354</td>\n",
       "      <td>-8.053214</td>\n",
       "      <td>-1.095551</td>\n",
       "      <td>4.955494</td>\n",
       "      <td>125.160611</td>\n",
       "    </tr>\n",
       "    <tr>\n",
       "      <th>sensor_9</th>\n",
       "      <td>2335.0</td>\n",
       "      <td>-0.797432</td>\n",
       "      <td>12.015022</td>\n",
       "      <td>-81.268085</td>\n",
       "      <td>-4.031148</td>\n",
       "      <td>-0.944613</td>\n",
       "      <td>2.235557</td>\n",
       "      <td>74.101715</td>\n",
       "    </tr>\n",
       "    <tr>\n",
       "      <th>sensor_10</th>\n",
       "      <td>2335.0</td>\n",
       "      <td>-0.704585</td>\n",
       "      <td>7.384626</td>\n",
       "      <td>-47.937561</td>\n",
       "      <td>-3.983620</td>\n",
       "      <td>-0.932964</td>\n",
       "      <td>2.883284</td>\n",
       "      <td>47.030119</td>\n",
       "    </tr>\n",
       "    <tr>\n",
       "      <th>sensor_11</th>\n",
       "      <td>2335.0</td>\n",
       "      <td>-1.099322</td>\n",
       "      <td>26.262009</td>\n",
       "      <td>-115.943693</td>\n",
       "      <td>-15.165419</td>\n",
       "      <td>-1.116522</td>\n",
       "      <td>13.022905</td>\n",
       "      <td>127.110419</td>\n",
       "    </tr>\n",
       "    <tr>\n",
       "      <th>sensor_12</th>\n",
       "      <td>2335.0</td>\n",
       "      <td>-0.843473</td>\n",
       "      <td>15.498328</td>\n",
       "      <td>-102.916207</td>\n",
       "      <td>-8.082508</td>\n",
       "      <td>-1.054003</td>\n",
       "      <td>6.021600</td>\n",
       "      <td>99.932331</td>\n",
       "    </tr>\n",
       "    <tr>\n",
       "      <th>sensor_13</th>\n",
       "      <td>2335.0</td>\n",
       "      <td>-0.491915</td>\n",
       "      <td>11.894939</td>\n",
       "      <td>-115.053373</td>\n",
       "      <td>-3.893967</td>\n",
       "      <td>-0.908079</td>\n",
       "      <td>2.992981</td>\n",
       "      <td>107.910041</td>\n",
       "    </tr>\n",
       "    <tr>\n",
       "      <th>sensor_14</th>\n",
       "      <td>2335.0</td>\n",
       "      <td>-0.851473</td>\n",
       "      <td>7.401702</td>\n",
       "      <td>-59.689434</td>\n",
       "      <td>-3.982224</td>\n",
       "      <td>-0.937905</td>\n",
       "      <td>2.854699</td>\n",
       "      <td>40.026878</td>\n",
       "    </tr>\n",
       "    <tr>\n",
       "      <th>sensor_15</th>\n",
       "      <td>2335.0</td>\n",
       "      <td>-0.344029</td>\n",
       "      <td>25.815937</td>\n",
       "      <td>-107.985386</td>\n",
       "      <td>-14.953749</td>\n",
       "      <td>-0.858820</td>\n",
       "      <td>12.965905</td>\n",
       "      <td>126.981907</td>\n",
       "    </tr>\n",
       "    <tr>\n",
       "      <th>sensor_16</th>\n",
       "      <td>2335.0</td>\n",
       "      <td>-1.128676</td>\n",
       "      <td>15.513633</td>\n",
       "      <td>-126.950747</td>\n",
       "      <td>-8.096568</td>\n",
       "      <td>-1.004242</td>\n",
       "      <td>5.508252</td>\n",
       "      <td>120.974880</td>\n",
       "    </tr>\n",
       "    <tr>\n",
       "      <th>sensor_17</th>\n",
       "      <td>2335.0</td>\n",
       "      <td>-0.959658</td>\n",
       "      <td>11.654236</td>\n",
       "      <td>-95.956853</td>\n",
       "      <td>-4.038010</td>\n",
       "      <td>-0.947597</td>\n",
       "      <td>2.895085</td>\n",
       "      <td>85.952050</td>\n",
       "    </tr>\n",
       "    <tr>\n",
       "      <th>sensor_18</th>\n",
       "      <td>2335.0</td>\n",
       "      <td>-0.639778</td>\n",
       "      <td>7.586333</td>\n",
       "      <td>-83.854213</td>\n",
       "      <td>-3.996916</td>\n",
       "      <td>-0.967231</td>\n",
       "      <td>2.876743</td>\n",
       "      <td>39.993408</td>\n",
       "    </tr>\n",
       "    <tr>\n",
       "      <th>sensor_19</th>\n",
       "      <td>2335.0</td>\n",
       "      <td>-0.559455</td>\n",
       "      <td>26.885734</td>\n",
       "      <td>-108.964270</td>\n",
       "      <td>-15.179515</td>\n",
       "      <td>-0.964579</td>\n",
       "      <td>13.978336</td>\n",
       "      <td>117.934200</td>\n",
       "    </tr>\n",
       "    <tr>\n",
       "      <th>sensor_20</th>\n",
       "      <td>2335.0</td>\n",
       "      <td>-0.658692</td>\n",
       "      <td>15.936823</td>\n",
       "      <td>-108.094304</td>\n",
       "      <td>-7.851749</td>\n",
       "      <td>-1.013369</td>\n",
       "      <td>5.917309</td>\n",
       "      <td>121.026042</td>\n",
       "    </tr>\n",
       "    <tr>\n",
       "      <th>sensor_21</th>\n",
       "      <td>2335.0</td>\n",
       "      <td>-0.611461</td>\n",
       "      <td>11.942224</td>\n",
       "      <td>-103.876936</td>\n",
       "      <td>-4.002134</td>\n",
       "      <td>-0.942706</td>\n",
       "      <td>2.948692</td>\n",
       "      <td>102.882569</td>\n",
       "    </tr>\n",
       "    <tr>\n",
       "      <th>sensor_22</th>\n",
       "      <td>2335.0</td>\n",
       "      <td>-0.741168</td>\n",
       "      <td>7.548507</td>\n",
       "      <td>-59.993001</td>\n",
       "      <td>-3.973502</td>\n",
       "      <td>-0.968065</td>\n",
       "      <td>2.920789</td>\n",
       "      <td>40.917741</td>\n",
       "    </tr>\n",
       "    <tr>\n",
       "      <th>sensor_23</th>\n",
       "      <td>2335.0</td>\n",
       "      <td>0.027448</td>\n",
       "      <td>26.671928</td>\n",
       "      <td>-93.171275</td>\n",
       "      <td>-14.102903</td>\n",
       "      <td>-1.104314</td>\n",
       "      <td>12.137937</td>\n",
       "      <td>121.959404</td>\n",
       "    </tr>\n",
       "    <tr>\n",
       "      <th>sensor_24</th>\n",
       "      <td>2335.0</td>\n",
       "      <td>-0.356441</td>\n",
       "      <td>16.531906</td>\n",
       "      <td>-127.797649</td>\n",
       "      <td>-7.980628</td>\n",
       "      <td>-0.926120</td>\n",
       "      <td>6.002985</td>\n",
       "      <td>127.161055</td>\n",
       "    </tr>\n",
       "    <tr>\n",
       "      <th>sensor_25</th>\n",
       "      <td>2335.0</td>\n",
       "      <td>-0.927744</td>\n",
       "      <td>12.021560</td>\n",
       "      <td>-99.115177</td>\n",
       "      <td>-4.004750</td>\n",
       "      <td>-0.907301</td>\n",
       "      <td>2.863184</td>\n",
       "      <td>58.113657</td>\n",
       "    </tr>\n",
       "    <tr>\n",
       "      <th>sensor_26</th>\n",
       "      <td>2335.0</td>\n",
       "      <td>-0.589060</td>\n",
       "      <td>7.440983</td>\n",
       "      <td>-86.193378</td>\n",
       "      <td>-4.001112</td>\n",
       "      <td>-0.897015</td>\n",
       "      <td>2.951682</td>\n",
       "      <td>59.105536</td>\n",
       "    </tr>\n",
       "    <tr>\n",
       "      <th>sensor_27</th>\n",
       "      <td>2335.0</td>\n",
       "      <td>-0.081374</td>\n",
       "      <td>25.923355</td>\n",
       "      <td>-105.751637</td>\n",
       "      <td>-14.096840</td>\n",
       "      <td>-0.954791</td>\n",
       "      <td>13.903783</td>\n",
       "      <td>123.179253</td>\n",
       "    </tr>\n",
       "    <tr>\n",
       "      <th>sensor_28</th>\n",
       "      <td>2335.0</td>\n",
       "      <td>-0.370812</td>\n",
       "      <td>15.541803</td>\n",
       "      <td>-105.890010</td>\n",
       "      <td>-8.004561</td>\n",
       "      <td>-0.989293</td>\n",
       "      <td>5.922250</td>\n",
       "      <td>111.137925</td>\n",
       "    </tr>\n",
       "    <tr>\n",
       "      <th>sensor_29</th>\n",
       "      <td>2335.0</td>\n",
       "      <td>-0.726941</td>\n",
       "      <td>11.636507</td>\n",
       "      <td>-74.977182</td>\n",
       "      <td>-3.981055</td>\n",
       "      <td>-0.889780</td>\n",
       "      <td>2.972719</td>\n",
       "      <td>54.098746</td>\n",
       "    </tr>\n",
       "    <tr>\n",
       "      <th>sensor_30</th>\n",
       "      <td>2335.0</td>\n",
       "      <td>-0.809534</td>\n",
       "      <td>7.469744</td>\n",
       "      <td>-74.006065</td>\n",
       "      <td>-3.988965</td>\n",
       "      <td>-0.928504</td>\n",
       "      <td>2.519426</td>\n",
       "      <td>35.896503</td>\n",
       "    </tr>\n",
       "    <tr>\n",
       "      <th>sensor_31</th>\n",
       "      <td>2335.0</td>\n",
       "      <td>-0.495062</td>\n",
       "      <td>25.291238</td>\n",
       "      <td>-121.097086</td>\n",
       "      <td>-13.998874</td>\n",
       "      <td>-0.955684</td>\n",
       "      <td>13.926128</td>\n",
       "      <td>125.974107</td>\n",
       "    </tr>\n",
       "    <tr>\n",
       "      <th>sensor_32</th>\n",
       "      <td>2335.0</td>\n",
       "      <td>-0.743585</td>\n",
       "      <td>16.300385</td>\n",
       "      <td>-123.876153</td>\n",
       "      <td>-7.873898</td>\n",
       "      <td>-1.019547</td>\n",
       "      <td>5.121679</td>\n",
       "      <td>104.959621</td>\n",
       "    </tr>\n",
       "  </tbody>\n",
       "</table>\n",
       "</div>"
      ],
      "text/plain": [
       "            count      mean        std         min        25%       50%  \\\n",
       "sensor_1   2335.0 -1.122174  11.486353  -94.746969  -4.036597 -0.951398   \n",
       "sensor_2   2335.0 -1.024673   7.399859  -63.942094  -4.031957 -1.015582   \n",
       "sensor_3   2335.0 -0.672769  26.519159 -122.195138 -14.878500 -0.961088   \n",
       "sensor_4   2335.0 -0.147724  15.551500 -111.870691  -7.116633 -0.890469   \n",
       "sensor_5   2335.0 -0.327494  11.461970  -94.147972  -3.968687 -0.871690   \n",
       "sensor_6   2335.0 -0.423462   7.314322  -70.916786  -3.957699 -0.804810   \n",
       "sensor_7   2335.0  0.676275  26.869479 -105.956553 -13.937806  0.058910   \n",
       "sensor_8   2335.0 -0.936019  15.598104 -102.965354  -8.053214 -1.095551   \n",
       "sensor_9   2335.0 -0.797432  12.015022  -81.268085  -4.031148 -0.944613   \n",
       "sensor_10  2335.0 -0.704585   7.384626  -47.937561  -3.983620 -0.932964   \n",
       "sensor_11  2335.0 -1.099322  26.262009 -115.943693 -15.165419 -1.116522   \n",
       "sensor_12  2335.0 -0.843473  15.498328 -102.916207  -8.082508 -1.054003   \n",
       "sensor_13  2335.0 -0.491915  11.894939 -115.053373  -3.893967 -0.908079   \n",
       "sensor_14  2335.0 -0.851473   7.401702  -59.689434  -3.982224 -0.937905   \n",
       "sensor_15  2335.0 -0.344029  25.815937 -107.985386 -14.953749 -0.858820   \n",
       "sensor_16  2335.0 -1.128676  15.513633 -126.950747  -8.096568 -1.004242   \n",
       "sensor_17  2335.0 -0.959658  11.654236  -95.956853  -4.038010 -0.947597   \n",
       "sensor_18  2335.0 -0.639778   7.586333  -83.854213  -3.996916 -0.967231   \n",
       "sensor_19  2335.0 -0.559455  26.885734 -108.964270 -15.179515 -0.964579   \n",
       "sensor_20  2335.0 -0.658692  15.936823 -108.094304  -7.851749 -1.013369   \n",
       "sensor_21  2335.0 -0.611461  11.942224 -103.876936  -4.002134 -0.942706   \n",
       "sensor_22  2335.0 -0.741168   7.548507  -59.993001  -3.973502 -0.968065   \n",
       "sensor_23  2335.0  0.027448  26.671928  -93.171275 -14.102903 -1.104314   \n",
       "sensor_24  2335.0 -0.356441  16.531906 -127.797649  -7.980628 -0.926120   \n",
       "sensor_25  2335.0 -0.927744  12.021560  -99.115177  -4.004750 -0.907301   \n",
       "sensor_26  2335.0 -0.589060   7.440983  -86.193378  -4.001112 -0.897015   \n",
       "sensor_27  2335.0 -0.081374  25.923355 -105.751637 -14.096840 -0.954791   \n",
       "sensor_28  2335.0 -0.370812  15.541803 -105.890010  -8.004561 -0.989293   \n",
       "sensor_29  2335.0 -0.726941  11.636507  -74.977182  -3.981055 -0.889780   \n",
       "sensor_30  2335.0 -0.809534   7.469744  -74.006065  -3.988965 -0.928504   \n",
       "sensor_31  2335.0 -0.495062  25.291238 -121.097086 -13.998874 -0.955684   \n",
       "sensor_32  2335.0 -0.743585  16.300385 -123.876153  -7.873898 -1.019547   \n",
       "\n",
       "                 75%         max  \n",
       "sensor_1    2.895540   68.876142  \n",
       "sensor_2    2.140456   39.913391  \n",
       "sensor_3   13.974075  127.124171  \n",
       "sensor_4    6.110973  102.015561  \n",
       "sensor_5    2.970387   89.059852  \n",
       "sensor_6    3.006144   34.923040  \n",
       "sensor_7   13.934438  120.046277  \n",
       "sensor_8    4.955494  125.160611  \n",
       "sensor_9    2.235557   74.101715  \n",
       "sensor_10   2.883284   47.030119  \n",
       "sensor_11  13.022905  127.110419  \n",
       "sensor_12   6.021600   99.932331  \n",
       "sensor_13   2.992981  107.910041  \n",
       "sensor_14   2.854699   40.026878  \n",
       "sensor_15  12.965905  126.981907  \n",
       "sensor_16   5.508252  120.974880  \n",
       "sensor_17   2.895085   85.952050  \n",
       "sensor_18   2.876743   39.993408  \n",
       "sensor_19  13.978336  117.934200  \n",
       "sensor_20   5.917309  121.026042  \n",
       "sensor_21   2.948692  102.882569  \n",
       "sensor_22   2.920789   40.917741  \n",
       "sensor_23  12.137937  121.959404  \n",
       "sensor_24   6.002985  127.161055  \n",
       "sensor_25   2.863184   58.113657  \n",
       "sensor_26   2.951682   59.105536  \n",
       "sensor_27  13.903783  123.179253  \n",
       "sensor_28   5.922250  111.137925  \n",
       "sensor_29   2.972719   54.098746  \n",
       "sensor_30   2.519426   35.896503  \n",
       "sensor_31  13.926128  125.974107  \n",
       "sensor_32   5.121679  104.959621  "
      ]
     },
     "execution_count": 26,
     "metadata": {},
     "output_type": "execute_result"
    }
   ],
   "source": [
    "train2.describe().T"
   ]
  },
  {
   "cell_type": "code",
   "execution_count": 27,
   "id": "7da81339",
   "metadata": {
    "ExecuteTime": {
     "end_time": "2022-03-16T10:28:53.984184Z",
     "start_time": "2022-03-16T10:28:53.953198Z"
    }
   },
   "outputs": [
    {
     "data": {
      "text/html": [
       "<div>\n",
       "<style scoped>\n",
       "    .dataframe tbody tr th:only-of-type {\n",
       "        vertical-align: middle;\n",
       "    }\n",
       "\n",
       "    .dataframe tbody tr th {\n",
       "        vertical-align: top;\n",
       "    }\n",
       "\n",
       "    .dataframe thead th {\n",
       "        text-align: right;\n",
       "    }\n",
       "</style>\n",
       "<table border=\"1\" class=\"dataframe\">\n",
       "  <thead>\n",
       "    <tr style=\"text-align: right;\">\n",
       "      <th></th>\n",
       "      <th>0</th>\n",
       "      <th>1</th>\n",
       "    </tr>\n",
       "  </thead>\n",
       "  <tbody>\n",
       "    <tr>\n",
       "      <th>sensor_1</th>\n",
       "      <td>-94.75</td>\n",
       "      <td>68.88</td>\n",
       "    </tr>\n",
       "    <tr>\n",
       "      <th>sensor_2</th>\n",
       "      <td>-63.94</td>\n",
       "      <td>39.91</td>\n",
       "    </tr>\n",
       "    <tr>\n",
       "      <th>sensor_3</th>\n",
       "      <td>-122.20</td>\n",
       "      <td>127.12</td>\n",
       "    </tr>\n",
       "    <tr>\n",
       "      <th>sensor_4</th>\n",
       "      <td>-111.87</td>\n",
       "      <td>102.02</td>\n",
       "    </tr>\n",
       "    <tr>\n",
       "      <th>sensor_5</th>\n",
       "      <td>-94.15</td>\n",
       "      <td>89.06</td>\n",
       "    </tr>\n",
       "    <tr>\n",
       "      <th>sensor_6</th>\n",
       "      <td>-70.92</td>\n",
       "      <td>34.92</td>\n",
       "    </tr>\n",
       "    <tr>\n",
       "      <th>sensor_7</th>\n",
       "      <td>-105.96</td>\n",
       "      <td>120.05</td>\n",
       "    </tr>\n",
       "    <tr>\n",
       "      <th>sensor_8</th>\n",
       "      <td>-102.97</td>\n",
       "      <td>125.16</td>\n",
       "    </tr>\n",
       "    <tr>\n",
       "      <th>sensor_9</th>\n",
       "      <td>-81.27</td>\n",
       "      <td>74.10</td>\n",
       "    </tr>\n",
       "    <tr>\n",
       "      <th>sensor_10</th>\n",
       "      <td>-47.94</td>\n",
       "      <td>47.03</td>\n",
       "    </tr>\n",
       "    <tr>\n",
       "      <th>sensor_11</th>\n",
       "      <td>-115.94</td>\n",
       "      <td>127.11</td>\n",
       "    </tr>\n",
       "    <tr>\n",
       "      <th>sensor_12</th>\n",
       "      <td>-102.92</td>\n",
       "      <td>99.93</td>\n",
       "    </tr>\n",
       "    <tr>\n",
       "      <th>sensor_13</th>\n",
       "      <td>-115.05</td>\n",
       "      <td>107.91</td>\n",
       "    </tr>\n",
       "    <tr>\n",
       "      <th>sensor_14</th>\n",
       "      <td>-59.69</td>\n",
       "      <td>40.03</td>\n",
       "    </tr>\n",
       "    <tr>\n",
       "      <th>sensor_15</th>\n",
       "      <td>-107.99</td>\n",
       "      <td>126.98</td>\n",
       "    </tr>\n",
       "    <tr>\n",
       "      <th>sensor_16</th>\n",
       "      <td>-126.95</td>\n",
       "      <td>120.97</td>\n",
       "    </tr>\n",
       "    <tr>\n",
       "      <th>sensor_17</th>\n",
       "      <td>-95.96</td>\n",
       "      <td>85.95</td>\n",
       "    </tr>\n",
       "    <tr>\n",
       "      <th>sensor_18</th>\n",
       "      <td>-83.85</td>\n",
       "      <td>39.99</td>\n",
       "    </tr>\n",
       "    <tr>\n",
       "      <th>sensor_19</th>\n",
       "      <td>-108.96</td>\n",
       "      <td>117.93</td>\n",
       "    </tr>\n",
       "    <tr>\n",
       "      <th>sensor_20</th>\n",
       "      <td>-108.09</td>\n",
       "      <td>121.03</td>\n",
       "    </tr>\n",
       "    <tr>\n",
       "      <th>sensor_21</th>\n",
       "      <td>-103.88</td>\n",
       "      <td>102.88</td>\n",
       "    </tr>\n",
       "    <tr>\n",
       "      <th>sensor_22</th>\n",
       "      <td>-59.99</td>\n",
       "      <td>40.92</td>\n",
       "    </tr>\n",
       "    <tr>\n",
       "      <th>sensor_23</th>\n",
       "      <td>-93.17</td>\n",
       "      <td>121.96</td>\n",
       "    </tr>\n",
       "    <tr>\n",
       "      <th>sensor_24</th>\n",
       "      <td>-127.80</td>\n",
       "      <td>127.16</td>\n",
       "    </tr>\n",
       "    <tr>\n",
       "      <th>sensor_25</th>\n",
       "      <td>-99.12</td>\n",
       "      <td>58.11</td>\n",
       "    </tr>\n",
       "    <tr>\n",
       "      <th>sensor_26</th>\n",
       "      <td>-86.19</td>\n",
       "      <td>59.11</td>\n",
       "    </tr>\n",
       "    <tr>\n",
       "      <th>sensor_27</th>\n",
       "      <td>-105.75</td>\n",
       "      <td>123.18</td>\n",
       "    </tr>\n",
       "    <tr>\n",
       "      <th>sensor_28</th>\n",
       "      <td>-105.89</td>\n",
       "      <td>111.14</td>\n",
       "    </tr>\n",
       "    <tr>\n",
       "      <th>sensor_29</th>\n",
       "      <td>-74.98</td>\n",
       "      <td>54.10</td>\n",
       "    </tr>\n",
       "    <tr>\n",
       "      <th>sensor_30</th>\n",
       "      <td>-74.01</td>\n",
       "      <td>35.90</td>\n",
       "    </tr>\n",
       "    <tr>\n",
       "      <th>sensor_31</th>\n",
       "      <td>-121.10</td>\n",
       "      <td>125.97</td>\n",
       "    </tr>\n",
       "    <tr>\n",
       "      <th>sensor_32</th>\n",
       "      <td>-123.88</td>\n",
       "      <td>104.96</td>\n",
       "    </tr>\n",
       "  </tbody>\n",
       "</table>\n",
       "</div>"
      ],
      "text/plain": [
       "                0       1\n",
       "sensor_1   -94.75   68.88\n",
       "sensor_2   -63.94   39.91\n",
       "sensor_3  -122.20  127.12\n",
       "sensor_4  -111.87  102.02\n",
       "sensor_5   -94.15   89.06\n",
       "sensor_6   -70.92   34.92\n",
       "sensor_7  -105.96  120.05\n",
       "sensor_8  -102.97  125.16\n",
       "sensor_9   -81.27   74.10\n",
       "sensor_10  -47.94   47.03\n",
       "sensor_11 -115.94  127.11\n",
       "sensor_12 -102.92   99.93\n",
       "sensor_13 -115.05  107.91\n",
       "sensor_14  -59.69   40.03\n",
       "sensor_15 -107.99  126.98\n",
       "sensor_16 -126.95  120.97\n",
       "sensor_17  -95.96   85.95\n",
       "sensor_18  -83.85   39.99\n",
       "sensor_19 -108.96  117.93\n",
       "sensor_20 -108.09  121.03\n",
       "sensor_21 -103.88  102.88\n",
       "sensor_22  -59.99   40.92\n",
       "sensor_23  -93.17  121.96\n",
       "sensor_24 -127.80  127.16\n",
       "sensor_25  -99.12   58.11\n",
       "sensor_26  -86.19   59.11\n",
       "sensor_27 -105.75  123.18\n",
       "sensor_28 -105.89  111.14\n",
       "sensor_29  -74.98   54.10\n",
       "sensor_30  -74.01   35.90\n",
       "sensor_31 -121.10  125.97\n",
       "sensor_32 -123.88  104.96"
      ]
     },
     "execution_count": 27,
     "metadata": {},
     "output_type": "execute_result"
    }
   ],
   "source": [
    "train2.\\\n",
    "    select_dtypes(include=[int,float]).\\\n",
    "    apply(lambda x: minmax(x,digit=2)).\\\n",
    "    T"
   ]
  },
  {
   "cell_type": "markdown",
   "id": "8e3cceff",
   "metadata": {},
   "source": [
    "<br></br>\n",
    "### 문자형 변수"
   ]
  },
  {
   "cell_type": "code",
   "execution_count": 28,
   "id": "331f278a",
   "metadata": {
    "ExecuteTime": {
     "end_time": "2022-03-16T10:28:54.000178Z",
     "start_time": "2022-03-16T10:28:53.985184Z"
    }
   },
   "outputs": [
    {
     "data": {
      "text/html": [
       "<div>\n",
       "<style scoped>\n",
       "    .dataframe tbody tr th:only-of-type {\n",
       "        vertical-align: middle;\n",
       "    }\n",
       "\n",
       "    .dataframe tbody tr th {\n",
       "        vertical-align: top;\n",
       "    }\n",
       "\n",
       "    .dataframe thead th {\n",
       "        text-align: right;\n",
       "    }\n",
       "</style>\n",
       "<table border=\"1\" class=\"dataframe\">\n",
       "  <thead>\n",
       "    <tr style=\"text-align: right;\">\n",
       "      <th></th>\n",
       "      <th>nunique</th>\n",
       "      <th>head5</th>\n",
       "    </tr>\n",
       "  </thead>\n",
       "  <tbody>\n",
       "    <tr>\n",
       "      <th>id</th>\n",
       "      <td>2335</td>\n",
       "      <td>[1, 10, 100, 1000, 1001]</td>\n",
       "    </tr>\n",
       "    <tr>\n",
       "      <th>target</th>\n",
       "      <td>4</td>\n",
       "      <td>[0, 1, 2, 3]</td>\n",
       "    </tr>\n",
       "  </tbody>\n",
       "</table>\n",
       "</div>"
      ],
      "text/plain": [
       "        nunique                     head5\n",
       "id         2335  [1, 10, 100, 1000, 1001]\n",
       "target        4              [0, 1, 2, 3]"
      ]
     },
     "execution_count": 28,
     "metadata": {},
     "output_type": "execute_result"
    }
   ],
   "source": [
    "n_head = 5\n",
    "\n",
    "pd.concat([\n",
    "    train2.select_dtypes(include=[object]).apply(lambda x: x.nunique()),\n",
    "    train2.select_dtypes(include=[object]).apply(lambda x: sorted(x.unique())[:n_head])\n",
    "],axis=1).rename(columns={0:'nunique',1:f'head{n_head}'})"
   ]
  },
  {
   "cell_type": "code",
   "execution_count": 29,
   "id": "f311654e",
   "metadata": {
    "ExecuteTime": {
     "end_time": "2022-03-16T10:28:54.016171Z",
     "start_time": "2022-03-16T10:28:54.001178Z"
    }
   },
   "outputs": [],
   "source": [
    "# def fixtype(data, num_var, char_var):\n",
    "    \n",
    "#     df = data.copy()\n",
    "    \n",
    "#     num_var  = list(set(data.columns) & set(num_var))\n",
    "#     char_var = list(set(data.columns) & set(char_var))\n",
    "\n",
    "#     # (1) dictionary for column type \n",
    "#     num_dict  = dict([(var,float) for var in num_var])\n",
    "#     char_dict = dict([(var,str  ) for var in char_var])\n",
    "#     all_dict = {**num_dict, **char_dict}\n",
    "    \n",
    "#     # (2) float를 str로 변환 시, 소수점이 사라지지 않음. 이를 보정\n",
    "#     var_float2int = np.array(df.dtypes == float) & ([type == np.str for var,type in all_dict.items()])\n",
    "#     var_float2int = df.columns[var_float2int]\n",
    "    \n",
    "#     var_float2int_dict = dict([(var,np.int64) for var in var_float2int])\n",
    "\n",
    "#     # (3) na값을 -9999.9999로 변환 후, 나중에 이를 다시 nan으로 변환\n",
    "#     result = df.\\\n",
    "#         fillna('-99999999').\\\n",
    "#         astype(var_float2int_dict).\\\n",
    "#         astype(all_dict).\\\n",
    "#         replace('-99999999',np.nan)\n",
    "    \n",
    "#     return(result)\n",
    "\n",
    "# # target을 제외한 나머지 값들은 모두 characteristic variable\n",
    "# num_var  = ['target']\n",
    "# char_var = setdiff(train2.columns, num_var)\n",
    "\n",
    "# train2 = fixtype(train2, num_var, char_var)\n",
    "# test2  = fixtype(test2 , num_var, char_var)"
   ]
  },
  {
   "cell_type": "code",
   "execution_count": 30,
   "id": "6a4b69bc",
   "metadata": {
    "ExecuteTime": {
     "end_time": "2022-03-16T10:28:54.031164Z",
     "start_time": "2022-03-16T10:28:54.018169Z"
    }
   },
   "outputs": [
    {
     "data": {
      "text/plain": [
       "id            object\n",
       "sensor_1     float64\n",
       "sensor_2     float64\n",
       "sensor_3     float64\n",
       "sensor_4     float64\n",
       "sensor_5     float64\n",
       "sensor_6     float64\n",
       "sensor_7     float64\n",
       "sensor_8     float64\n",
       "sensor_9     float64\n",
       "sensor_10    float64\n",
       "sensor_11    float64\n",
       "sensor_12    float64\n",
       "sensor_13    float64\n",
       "sensor_14    float64\n",
       "sensor_15    float64\n",
       "sensor_16    float64\n",
       "sensor_17    float64\n",
       "sensor_18    float64\n",
       "sensor_19    float64\n",
       "sensor_20    float64\n",
       "sensor_21    float64\n",
       "sensor_22    float64\n",
       "sensor_23    float64\n",
       "sensor_24    float64\n",
       "sensor_25    float64\n",
       "sensor_26    float64\n",
       "sensor_27    float64\n",
       "sensor_28    float64\n",
       "sensor_29    float64\n",
       "sensor_30    float64\n",
       "sensor_31    float64\n",
       "sensor_32    float64\n",
       "target        object\n",
       "dtype: object"
      ]
     },
     "execution_count": 30,
     "metadata": {},
     "output_type": "execute_result"
    }
   ],
   "source": [
    "train2.dtypes"
   ]
  },
  {
   "cell_type": "code",
   "execution_count": 31,
   "id": "ab72794d",
   "metadata": {
    "ExecuteTime": {
     "end_time": "2022-03-16T10:28:54.062149Z",
     "start_time": "2022-03-16T10:28:54.032163Z"
    }
   },
   "outputs": [
    {
     "data": {
      "text/html": [
       "<div>\n",
       "<style scoped>\n",
       "    .dataframe tbody tr th:only-of-type {\n",
       "        vertical-align: middle;\n",
       "    }\n",
       "\n",
       "    .dataframe tbody tr th {\n",
       "        vertical-align: top;\n",
       "    }\n",
       "\n",
       "    .dataframe thead th {\n",
       "        text-align: right;\n",
       "    }\n",
       "</style>\n",
       "<table border=\"1\" class=\"dataframe\">\n",
       "  <thead>\n",
       "    <tr style=\"text-align: right;\">\n",
       "      <th></th>\n",
       "      <th>id</th>\n",
       "      <th>sensor_1</th>\n",
       "      <th>sensor_2</th>\n",
       "      <th>sensor_3</th>\n",
       "      <th>sensor_4</th>\n",
       "      <th>sensor_5</th>\n",
       "      <th>sensor_6</th>\n",
       "      <th>sensor_7</th>\n",
       "      <th>sensor_8</th>\n",
       "      <th>sensor_9</th>\n",
       "      <th>...</th>\n",
       "      <th>sensor_24</th>\n",
       "      <th>sensor_25</th>\n",
       "      <th>sensor_26</th>\n",
       "      <th>sensor_27</th>\n",
       "      <th>sensor_28</th>\n",
       "      <th>sensor_29</th>\n",
       "      <th>sensor_30</th>\n",
       "      <th>sensor_31</th>\n",
       "      <th>sensor_32</th>\n",
       "      <th>target</th>\n",
       "    </tr>\n",
       "  </thead>\n",
       "  <tbody>\n",
       "    <tr>\n",
       "      <th>0</th>\n",
       "      <td>1</td>\n",
       "      <td>-6.149463</td>\n",
       "      <td>-0.929714</td>\n",
       "      <td>9.058368</td>\n",
       "      <td>-7.017854</td>\n",
       "      <td>-2.958471</td>\n",
       "      <td>0.179233</td>\n",
       "      <td>-0.956591</td>\n",
       "      <td>-0.972401</td>\n",
       "      <td>5.956213</td>\n",
       "      <td>...</td>\n",
       "      <td>-7.026436</td>\n",
       "      <td>-6.006282</td>\n",
       "      <td>-6.005836</td>\n",
       "      <td>7.043084</td>\n",
       "      <td>21.884650</td>\n",
       "      <td>-3.064152</td>\n",
       "      <td>-5.247552</td>\n",
       "      <td>-6.026107</td>\n",
       "      <td>-11.990822</td>\n",
       "      <td>1</td>\n",
       "    </tr>\n",
       "    <tr>\n",
       "      <th>1</th>\n",
       "      <td>2</td>\n",
       "      <td>-2.238836</td>\n",
       "      <td>-1.003511</td>\n",
       "      <td>5.098079</td>\n",
       "      <td>-10.880357</td>\n",
       "      <td>-0.804562</td>\n",
       "      <td>-2.992123</td>\n",
       "      <td>26.972724</td>\n",
       "      <td>-8.900861</td>\n",
       "      <td>-5.968298</td>\n",
       "      <td>...</td>\n",
       "      <td>-1.996714</td>\n",
       "      <td>-7.933806</td>\n",
       "      <td>-3.136773</td>\n",
       "      <td>8.774211</td>\n",
       "      <td>10.944759</td>\n",
       "      <td>9.858186</td>\n",
       "      <td>-0.969241</td>\n",
       "      <td>-3.935553</td>\n",
       "      <td>-15.892421</td>\n",
       "      <td>1</td>\n",
       "    </tr>\n",
       "    <tr>\n",
       "      <th>2</th>\n",
       "      <td>3</td>\n",
       "      <td>19.087934</td>\n",
       "      <td>-2.092514</td>\n",
       "      <td>0.946750</td>\n",
       "      <td>-21.831788</td>\n",
       "      <td>9.119235</td>\n",
       "      <td>17.853587</td>\n",
       "      <td>-21.069954</td>\n",
       "      <td>-15.933212</td>\n",
       "      <td>-9.016039</td>\n",
       "      <td>...</td>\n",
       "      <td>-6.889685</td>\n",
       "      <td>54.052330</td>\n",
       "      <td>-6.109238</td>\n",
       "      <td>12.154595</td>\n",
       "      <td>6.095989</td>\n",
       "      <td>-40.195088</td>\n",
       "      <td>-3.958124</td>\n",
       "      <td>-8.079537</td>\n",
       "      <td>-5.160090</td>\n",
       "      <td>0</td>\n",
       "    </tr>\n",
       "    <tr>\n",
       "      <th>3</th>\n",
       "      <td>4</td>\n",
       "      <td>-2.211629</td>\n",
       "      <td>-1.930904</td>\n",
       "      <td>21.888406</td>\n",
       "      <td>-3.067560</td>\n",
       "      <td>-0.240634</td>\n",
       "      <td>2.985056</td>\n",
       "      <td>-29.073369</td>\n",
       "      <td>0.200774</td>\n",
       "      <td>-1.043742</td>\n",
       "      <td>...</td>\n",
       "      <td>-2.126170</td>\n",
       "      <td>-1.035526</td>\n",
       "      <td>2.178769</td>\n",
       "      <td>10.032723</td>\n",
       "      <td>-1.010897</td>\n",
       "      <td>-3.912848</td>\n",
       "      <td>-2.980338</td>\n",
       "      <td>-12.983597</td>\n",
       "      <td>-3.001077</td>\n",
       "      <td>1</td>\n",
       "    </tr>\n",
       "    <tr>\n",
       "      <th>4</th>\n",
       "      <td>5</td>\n",
       "      <td>3.953852</td>\n",
       "      <td>2.964892</td>\n",
       "      <td>-36.044802</td>\n",
       "      <td>0.899838</td>\n",
       "      <td>26.930210</td>\n",
       "      <td>11.004409</td>\n",
       "      <td>-21.962423</td>\n",
       "      <td>-11.950189</td>\n",
       "      <td>-20.933785</td>\n",
       "      <td>...</td>\n",
       "      <td>-2.051761</td>\n",
       "      <td>10.917567</td>\n",
       "      <td>1.905335</td>\n",
       "      <td>-13.004707</td>\n",
       "      <td>17.169552</td>\n",
       "      <td>2.105194</td>\n",
       "      <td>3.967986</td>\n",
       "      <td>11.861657</td>\n",
       "      <td>-27.088846</td>\n",
       "      <td>2</td>\n",
       "    </tr>\n",
       "  </tbody>\n",
       "</table>\n",
       "<p>5 rows × 34 columns</p>\n",
       "</div>"
      ],
      "text/plain": [
       "  id   sensor_1  sensor_2   sensor_3   sensor_4   sensor_5   sensor_6  \\\n",
       "0  1  -6.149463 -0.929714   9.058368  -7.017854  -2.958471   0.179233   \n",
       "1  2  -2.238836 -1.003511   5.098079 -10.880357  -0.804562  -2.992123   \n",
       "2  3  19.087934 -2.092514   0.946750 -21.831788   9.119235  17.853587   \n",
       "3  4  -2.211629 -1.930904  21.888406  -3.067560  -0.240634   2.985056   \n",
       "4  5   3.953852  2.964892 -36.044802   0.899838  26.930210  11.004409   \n",
       "\n",
       "    sensor_7   sensor_8   sensor_9  ...  sensor_24  sensor_25  sensor_26  \\\n",
       "0  -0.956591  -0.972401   5.956213  ...  -7.026436  -6.006282  -6.005836   \n",
       "1  26.972724  -8.900861  -5.968298  ...  -1.996714  -7.933806  -3.136773   \n",
       "2 -21.069954 -15.933212  -9.016039  ...  -6.889685  54.052330  -6.109238   \n",
       "3 -29.073369   0.200774  -1.043742  ...  -2.126170  -1.035526   2.178769   \n",
       "4 -21.962423 -11.950189 -20.933785  ...  -2.051761  10.917567   1.905335   \n",
       "\n",
       "   sensor_27  sensor_28  sensor_29  sensor_30  sensor_31  sensor_32  target  \n",
       "0   7.043084  21.884650  -3.064152  -5.247552  -6.026107 -11.990822       1  \n",
       "1   8.774211  10.944759   9.858186  -0.969241  -3.935553 -15.892421       1  \n",
       "2  12.154595   6.095989 -40.195088  -3.958124  -8.079537  -5.160090       0  \n",
       "3  10.032723  -1.010897  -3.912848  -2.980338 -12.983597  -3.001077       1  \n",
       "4 -13.004707  17.169552   2.105194   3.967986  11.861657 -27.088846       2  \n",
       "\n",
       "[5 rows x 34 columns]"
      ]
     },
     "execution_count": 31,
     "metadata": {},
     "output_type": "execute_result"
    }
   ],
   "source": [
    "train2.head()"
   ]
  },
  {
   "cell_type": "markdown",
   "id": "deff8eda",
   "metadata": {},
   "source": [
    "<br></br>\n",
    "## 유형별 변수 개수 확인"
   ]
  },
  {
   "cell_type": "code",
   "execution_count": 32,
   "id": "f5e31a19",
   "metadata": {
    "ExecuteTime": {
     "end_time": "2022-03-16T10:28:54.078142Z",
     "start_time": "2022-03-16T10:28:54.063149Z"
    }
   },
   "outputs": [
    {
     "name": "stdout",
     "output_type": "stream",
     "text": [
      "전체 변수 : 34\n",
      "숫자 변수 : 32 \t- ['sensor_1' 'sensor_2' 'sensor_3' 'sensor_4' 'sensor_5' 'sensor_6'\n",
      " 'sensor_7' 'sensor_8' 'sensor_9' 'sensor_10' 'sensor_11' 'sensor_12'\n",
      " 'sensor_13' 'sensor_14' 'sensor_15' 'sensor_16' 'sensor_17' 'sensor_18'\n",
      " 'sensor_19' 'sensor_20' 'sensor_21' 'sensor_22' 'sensor_23' 'sensor_24'\n",
      " 'sensor_25' 'sensor_26' 'sensor_27' 'sensor_28' 'sensor_29' 'sensor_30'\n",
      " 'sensor_31' 'sensor_32']\n",
      "문자 변수 : 2 \t- ['id' 'target']\n"
     ]
    }
   ],
   "source": [
    "num_df  = train2.select_dtypes(include=[int,float])\n",
    "char_df = train2.select_dtypes(exclude=[int,float])\n",
    "\n",
    "print('전체 변수 :', train2 .shape[1])\n",
    "print('숫자 변수 :', num_df .shape[1], '\\t-', np.array(num_df .columns))\n",
    "print('문자 변수 :', char_df.shape[1], '\\t-', np.array(char_df.columns))"
   ]
  },
  {
   "cell_type": "markdown",
   "id": "fc21bfe7",
   "metadata": {},
   "source": [
    "<br></br>\n",
    "## Characteristic Variable"
   ]
  },
  {
   "cell_type": "code",
   "execution_count": 33,
   "id": "0ed60241",
   "metadata": {
    "ExecuteTime": {
     "end_time": "2022-03-16T10:28:54.094135Z",
     "start_time": "2022-03-16T10:28:54.079142Z"
    }
   },
   "outputs": [
    {
     "data": {
      "text/html": [
       "<div>\n",
       "<style scoped>\n",
       "    .dataframe tbody tr th:only-of-type {\n",
       "        vertical-align: middle;\n",
       "    }\n",
       "\n",
       "    .dataframe tbody tr th {\n",
       "        vertical-align: top;\n",
       "    }\n",
       "\n",
       "    .dataframe thead th {\n",
       "        text-align: right;\n",
       "    }\n",
       "</style>\n",
       "<table border=\"1\" class=\"dataframe\">\n",
       "  <thead>\n",
       "    <tr style=\"text-align: right;\">\n",
       "      <th></th>\n",
       "      <th>nunique</th>\n",
       "      <th>head10</th>\n",
       "    </tr>\n",
       "  </thead>\n",
       "  <tbody>\n",
       "    <tr>\n",
       "      <th>id</th>\n",
       "      <td>2335</td>\n",
       "      <td>[1, 10, 100, 1000, 1001, 1002, 1003, 1004, 100...</td>\n",
       "    </tr>\n",
       "    <tr>\n",
       "      <th>target</th>\n",
       "      <td>4</td>\n",
       "      <td>[0, 1, 2, 3]</td>\n",
       "    </tr>\n",
       "  </tbody>\n",
       "</table>\n",
       "</div>"
      ],
      "text/plain": [
       "        nunique                                             head10\n",
       "id         2335  [1, 10, 100, 1000, 1001, 1002, 1003, 1004, 100...\n",
       "target        4                                       [0, 1, 2, 3]"
      ]
     },
     "execution_count": 33,
     "metadata": {},
     "output_type": "execute_result"
    }
   ],
   "source": [
    "n_head = 10\n",
    "df = char_df\n",
    "\n",
    "pd.concat([\n",
    "    df.apply(lambda x: x.dropna().nunique()),\n",
    "    df.apply(lambda x: sorted(x.dropna().unique())[:n_head])\n",
    "],axis=1).rename(columns={0:'nunique',1:f'head{n_head}'})"
   ]
  },
  {
   "cell_type": "markdown",
   "id": "14505e5c",
   "metadata": {},
   "source": [
    "<br></br>\n",
    "### 문자형 변수 짧게 변경"
   ]
  },
  {
   "cell_type": "code",
   "execution_count": 34,
   "id": "769a9b48",
   "metadata": {
    "ExecuteTime": {
     "end_time": "2022-03-16T10:28:54.110128Z",
     "start_time": "2022-03-16T10:28:54.095135Z"
    }
   },
   "outputs": [],
   "source": [
    "def abbreviate_char(_df):\n",
    "    df = _df.copy()\n",
    "    \n",
    "    return df\n",
    "\n",
    "train3 = abbreviate_char(train2)\n",
    "test3  = abbreviate_char(test2)"
   ]
  },
  {
   "cell_type": "markdown",
   "id": "fe607aa0",
   "metadata": {},
   "source": [
    "<br></br>\n",
    "### Plot : 1-Dimension"
   ]
  },
  {
   "cell_type": "markdown",
   "id": "09e1d554",
   "metadata": {},
   "source": [
    "barplot"
   ]
  },
  {
   "cell_type": "code",
   "execution_count": 35,
   "id": "0b688555",
   "metadata": {
    "ExecuteTime": {
     "end_time": "2022-03-16T10:28:54.333029Z",
     "start_time": "2022-03-16T10:28:54.111128Z"
    },
    "code_folding": []
   },
   "outputs": [
    {
     "data": {
      "image/png": "[encoded data removed]",
      "text/plain": [
       "<Figure size 1080x504 with 1 Axes>"
      ]
     },
     "metadata": {},
     "output_type": "display_data"
    }
   ],
   "source": [
    "plot_char_vari = setdiff(char_df.columns,['id'])\n",
    "adj_x = 0.0\n",
    "adj_y = 5.0\n",
    "\n",
    "fig = plt.figure(figsize=(15*1,7*1))\n",
    "ncol = 1\n",
    "nrow = np.ceil(len(plot_char_vari)/ncol)\n",
    "\n",
    "iter=0\n",
    "for var in sorted(plot_char_vari):\n",
    "    iter+=1\n",
    "    \n",
    "    # ordering\n",
    "    unique_x = train3[var].dropna().unique()\n",
    "    type_x   = train3[var].dtype\n",
    "    \n",
    "    if type_x in [np.int64, np.float64]:\n",
    "        order_x = sorted(unique_x)\n",
    "    else:\n",
    "        try:\n",
    "            order_x = [str(x) for x in sorted(unique_x.astype(int))]\n",
    "        except ValueError:\n",
    "            order_x = sorted(unique_x)\n",
    "        \n",
    "    fig.add_subplot(nrow,ncol,iter)\n",
    "    ax = sns.countplot(train3[var],\n",
    "                       order = order_x)\n",
    "    ax.set_xlabel(var, size=15)\n",
    "    ax.set_ylabel('Count',size=15)\n",
    "\n",
    "    for p in ax.patches:\n",
    "        count_x = p.get_height()\n",
    "        sum_x   = sum([p.get_height() for p in ax.patches])\n",
    "        ratio_x = ( p.get_height() / sum_x )*100\n",
    "        ann_x   = f'{count_x:,}\\n({ratio_x:.1f}%)'\n",
    "        ax.annotate(ann_x, (p.get_x() + adj_x, p.get_height() + adj_y), size = 12, color='white')\n",
    "    \n",
    "fig.tight_layout()\n",
    "plt.show()"
   ]
  },
  {
   "cell_type": "markdown",
   "id": "993cb960",
   "metadata": {},
   "source": [
    "|변수명 | 정보 |\n",
    "|:---:|:---|\n",
    "| target | 빈도가 거의 비슷함 |\n"
   ]
  },
  {
   "cell_type": "markdown",
   "id": "f6933807",
   "metadata": {},
   "source": [
    "<br></br>\n",
    "### Plot : 2-Dimension"
   ]
  },
  {
   "cell_type": "markdown",
   "id": "8e6db50d",
   "metadata": {},
   "source": [
    "문자열 조합의 개수"
   ]
  },
  {
   "cell_type": "code",
   "execution_count": 36,
   "id": "462ec6bc",
   "metadata": {
    "ExecuteTime": {
     "end_time": "2022-03-16T10:28:54.348033Z",
     "start_time": "2022-03-16T10:28:54.334029Z"
    }
   },
   "outputs": [],
   "source": [
    "# n_comb = math.comb(len(plot_char_vari),2)\n",
    "# ncol = math.ceil(np.sqrt(n_comb))\n",
    "# nrow = math.ceil(n_comb/ncol)\n",
    "\n",
    "# print(f'n_comb : {n_comb}, (nrow,ncol) : ({nrow},{ncol})')"
   ]
  },
  {
   "cell_type": "markdown",
   "id": "9e66d433",
   "metadata": {},
   "source": [
    "<br></br>\n",
    "cross table"
   ]
  },
  {
   "cell_type": "code",
   "execution_count": 37,
   "id": "2c66bf12",
   "metadata": {
    "ExecuteTime": {
     "end_time": "2022-03-16T10:28:54.363027Z",
     "start_time": "2022-03-16T10:28:54.349023Z"
    },
    "scrolled": true
   },
   "outputs": [],
   "source": [
    "# check_var = setdiff(plot_char_vari,['id'])\n",
    "# n_comb = math.comb(len(check_var),2)\n",
    "\n",
    "# ncol = math.ceil(np.sqrt(n_comb))\n",
    "# nrow = math.ceil(n_comb/ncol)\n",
    "\n",
    "# comb = list(itertools.product([True, False], repeat=len(check_var)))\n",
    "# comb = [x for x in comb if sum(x)==2]\n",
    "\n",
    "# for iter,c in enumerate(comb):\n",
    "#     xvar,yvar = np.array(check_var)[[c]]\n",
    "#     print(color.BOLD+color.BLUE+f'> ({iter+1}/{len(comb)}) ({xvar},{yvar})'+color.END)\n",
    "    \n",
    "#     View(pd.crosstab(train3[xvar].fillna('nan'),\n",
    "#                      train3[yvar].fillna('nan')))\n",
    "#     print('\\n')"
   ]
  },
  {
   "cell_type": "markdown",
   "id": "2cc055e9",
   "metadata": {},
   "source": [
    "<br></br>\n",
    "모든 문자형변수 조합의 2D plot"
   ]
  },
  {
   "cell_type": "code",
   "execution_count": 38,
   "id": "4a439a5e",
   "metadata": {
    "ExecuteTime": {
     "end_time": "2022-03-16T10:28:54.378020Z",
     "start_time": "2022-03-16T10:28:54.365015Z"
    }
   },
   "outputs": [],
   "source": [
    "# if PLOT:\n",
    "\n",
    "#     check_var = setdiff(plot_char_vari,['prod_cat_1','prod_cat_2','prod_cat_3'])\n",
    "    \n",
    "#     n_comb = math.comb(len(check_var),2)\n",
    "\n",
    "#     ncol = math.ceil(np.sqrt(n_comb))\n",
    "#     nrow = math.ceil(n_comb/ncol)\n",
    "\n",
    "#     comb = list(itertools.product([True, False], repeat=len(check_var)))\n",
    "#     comb = [x for x in comb if sum(x)==2]\n",
    "\n",
    "#     fig  = plt.figure(figsize=(15*3,7*4))\n",
    "\n",
    "#     tick_size      = 40\n",
    "#     label_size     = 40\n",
    "#     freq_font_size = 30\n",
    "#     title_size     = 50\n",
    "#     legend_size    = 30\n",
    "\n",
    "#     p1_iter = 0\n",
    "#     change_row = 0\n",
    "#     for iter,c in enumerate(comb):\n",
    "\n",
    "#         if change_row==(ncol):\n",
    "#             change_row  = 1 # go back\n",
    "#             p1_iter    += ncol+1\n",
    "#         else:\n",
    "#             change_row += 1\n",
    "#             p1_iter    += 1\n",
    "\n",
    "#         p2_iter = p1_iter+ncol\n",
    "\n",
    "#         # # check\n",
    "#         # print(f'change_row : {change_row}, p1_iter : {p1_iter}, p2_iter : {p2_iter}')\n",
    "\n",
    "#         xvar,yvar = np.array(check_var)[[c]]\n",
    "\n",
    "#         # (1) crosstab plot\n",
    "#         fig.add_subplot(2*nrow, ncol, p1_iter)\n",
    "#         ct = pd.crosstab(train3[xvar],train3[yvar]).sort_index(level=0, ascending=True).sort_index(level=1, ascending=True)\n",
    "#         p0 = sns.heatmap(ct.T, annot=True, fmt='.0f', cbar=False, annot_kws={\"size\": freq_font_size}, cmap='YlGnBu')\n",
    "#         p0.tick_params(axis = 'y', labelsize=tick_size)\n",
    "#         p0.tick_params(axis = 'x', labelsize=0)\n",
    "#         p0.set_title('-'*27 + f'{iter+1}' + '-'*27,fontsize=title_size)\n",
    "#         p0.set_xlabel('')\n",
    "#         p0.set_ylabel(f'{yvar}',fontsize=label_size)\n",
    "\n",
    "#         # (2) count plot\n",
    "#         fig.add_subplot(2*nrow, ncol, p2_iter)\n",
    "#         p1 = sns.countplot(train3[xvar], hue = train3[yvar], dodge=True, palette = 'Set1',\n",
    "#                            order     = sorted(train3[xvar].value_counts().index),\n",
    "#                            hue_order = sorted(train3[yvar].value_counts().index))\n",
    "#         p1.tick_params(labelsize=tick_size)\n",
    "#         p1.set_xlabel(f'{xvar}',fontsize=label_size)\n",
    "#         p1.set_ylabel('Count',fontsize=label_size)\n",
    "#         p1.get_legend().remove()\n",
    "#         #plt.legend(bbox_to_anchor=(1.02, 1), \n",
    "#         #           loc=2, borderaxespad=0, fontsize=legend_size)\n",
    "\n",
    "# #         # show freq. into plot\n",
    "# #         values=train3[xvar].value_counts().values\n",
    "# #         for j, g1 in enumerate(p1.patches):\n",
    "# #             p1.annotate(f'\\n{g1.get_height()}', (g1.get_x()+0.13, g1.get_height()+1.1), ha='center', va='top', color='white', size=freq_font_size)\n",
    "\n",
    "#     fig.tight_layout()\n",
    "#     plt.show()"
   ]
  },
  {
   "cell_type": "markdown",
   "id": "cf3d449a",
   "metadata": {},
   "source": [
    "<br></br>\n",
    "## Numeric Variable"
   ]
  },
  {
   "cell_type": "code",
   "execution_count": 39,
   "id": "4101543a",
   "metadata": {
    "ExecuteTime": {
     "end_time": "2022-03-16T10:28:54.488959Z",
     "start_time": "2022-03-16T10:28:54.379008Z"
    }
   },
   "outputs": [
    {
     "data": {
      "text/html": [
       "<div>\n",
       "<style scoped>\n",
       "    .dataframe tbody tr th:only-of-type {\n",
       "        vertical-align: middle;\n",
       "    }\n",
       "\n",
       "    .dataframe tbody tr th {\n",
       "        vertical-align: top;\n",
       "    }\n",
       "\n",
       "    .dataframe thead th {\n",
       "        text-align: right;\n",
       "    }\n",
       "</style>\n",
       "<table border=\"1\" class=\"dataframe\">\n",
       "  <thead>\n",
       "    <tr style=\"text-align: right;\">\n",
       "      <th></th>\n",
       "      <th>count</th>\n",
       "      <th>mean</th>\n",
       "      <th>std</th>\n",
       "      <th>min</th>\n",
       "      <th>25%</th>\n",
       "      <th>50%</th>\n",
       "      <th>75%</th>\n",
       "      <th>max</th>\n",
       "    </tr>\n",
       "  </thead>\n",
       "  <tbody>\n",
       "    <tr>\n",
       "      <th>sensor_1</th>\n",
       "      <td>2335.0</td>\n",
       "      <td>-1.1</td>\n",
       "      <td>11.5</td>\n",
       "      <td>-94.7</td>\n",
       "      <td>-4.0</td>\n",
       "      <td>-1.0</td>\n",
       "      <td>2.9</td>\n",
       "      <td>68.9</td>\n",
       "    </tr>\n",
       "    <tr>\n",
       "      <th>sensor_2</th>\n",
       "      <td>2335.0</td>\n",
       "      <td>-1.0</td>\n",
       "      <td>7.4</td>\n",
       "      <td>-63.9</td>\n",
       "      <td>-4.0</td>\n",
       "      <td>-1.0</td>\n",
       "      <td>2.1</td>\n",
       "      <td>39.9</td>\n",
       "    </tr>\n",
       "    <tr>\n",
       "      <th>sensor_3</th>\n",
       "      <td>2335.0</td>\n",
       "      <td>-0.7</td>\n",
       "      <td>26.5</td>\n",
       "      <td>-122.2</td>\n",
       "      <td>-14.9</td>\n",
       "      <td>-1.0</td>\n",
       "      <td>14.0</td>\n",
       "      <td>127.1</td>\n",
       "    </tr>\n",
       "    <tr>\n",
       "      <th>sensor_4</th>\n",
       "      <td>2335.0</td>\n",
       "      <td>-0.1</td>\n",
       "      <td>15.6</td>\n",
       "      <td>-111.9</td>\n",
       "      <td>-7.1</td>\n",
       "      <td>-0.9</td>\n",
       "      <td>6.1</td>\n",
       "      <td>102.0</td>\n",
       "    </tr>\n",
       "    <tr>\n",
       "      <th>sensor_5</th>\n",
       "      <td>2335.0</td>\n",
       "      <td>-0.3</td>\n",
       "      <td>11.5</td>\n",
       "      <td>-94.1</td>\n",
       "      <td>-4.0</td>\n",
       "      <td>-0.9</td>\n",
       "      <td>3.0</td>\n",
       "      <td>89.1</td>\n",
       "    </tr>\n",
       "    <tr>\n",
       "      <th>sensor_6</th>\n",
       "      <td>2335.0</td>\n",
       "      <td>-0.4</td>\n",
       "      <td>7.3</td>\n",
       "      <td>-70.9</td>\n",
       "      <td>-4.0</td>\n",
       "      <td>-0.8</td>\n",
       "      <td>3.0</td>\n",
       "      <td>34.9</td>\n",
       "    </tr>\n",
       "    <tr>\n",
       "      <th>sensor_7</th>\n",
       "      <td>2335.0</td>\n",
       "      <td>0.7</td>\n",
       "      <td>26.9</td>\n",
       "      <td>-106.0</td>\n",
       "      <td>-13.9</td>\n",
       "      <td>0.1</td>\n",
       "      <td>13.9</td>\n",
       "      <td>120.0</td>\n",
       "    </tr>\n",
       "    <tr>\n",
       "      <th>sensor_8</th>\n",
       "      <td>2335.0</td>\n",
       "      <td>-0.9</td>\n",
       "      <td>15.6</td>\n",
       "      <td>-103.0</td>\n",
       "      <td>-8.1</td>\n",
       "      <td>-1.1</td>\n",
       "      <td>5.0</td>\n",
       "      <td>125.2</td>\n",
       "    </tr>\n",
       "    <tr>\n",
       "      <th>sensor_9</th>\n",
       "      <td>2335.0</td>\n",
       "      <td>-0.8</td>\n",
       "      <td>12.0</td>\n",
       "      <td>-81.3</td>\n",
       "      <td>-4.0</td>\n",
       "      <td>-0.9</td>\n",
       "      <td>2.2</td>\n",
       "      <td>74.1</td>\n",
       "    </tr>\n",
       "    <tr>\n",
       "      <th>sensor_10</th>\n",
       "      <td>2335.0</td>\n",
       "      <td>-0.7</td>\n",
       "      <td>7.4</td>\n",
       "      <td>-47.9</td>\n",
       "      <td>-4.0</td>\n",
       "      <td>-0.9</td>\n",
       "      <td>2.9</td>\n",
       "      <td>47.0</td>\n",
       "    </tr>\n",
       "    <tr>\n",
       "      <th>sensor_11</th>\n",
       "      <td>2335.0</td>\n",
       "      <td>-1.1</td>\n",
       "      <td>26.3</td>\n",
       "      <td>-115.9</td>\n",
       "      <td>-15.2</td>\n",
       "      <td>-1.1</td>\n",
       "      <td>13.0</td>\n",
       "      <td>127.1</td>\n",
       "    </tr>\n",
       "    <tr>\n",
       "      <th>sensor_12</th>\n",
       "      <td>2335.0</td>\n",
       "      <td>-0.8</td>\n",
       "      <td>15.5</td>\n",
       "      <td>-102.9</td>\n",
       "      <td>-8.1</td>\n",
       "      <td>-1.1</td>\n",
       "      <td>6.0</td>\n",
       "      <td>99.9</td>\n",
       "    </tr>\n",
       "    <tr>\n",
       "      <th>sensor_13</th>\n",
       "      <td>2335.0</td>\n",
       "      <td>-0.5</td>\n",
       "      <td>11.9</td>\n",
       "      <td>-115.1</td>\n",
       "      <td>-3.9</td>\n",
       "      <td>-0.9</td>\n",
       "      <td>3.0</td>\n",
       "      <td>107.9</td>\n",
       "    </tr>\n",
       "    <tr>\n",
       "      <th>sensor_14</th>\n",
       "      <td>2335.0</td>\n",
       "      <td>-0.9</td>\n",
       "      <td>7.4</td>\n",
       "      <td>-59.7</td>\n",
       "      <td>-4.0</td>\n",
       "      <td>-0.9</td>\n",
       "      <td>2.9</td>\n",
       "      <td>40.0</td>\n",
       "    </tr>\n",
       "    <tr>\n",
       "      <th>sensor_15</th>\n",
       "      <td>2335.0</td>\n",
       "      <td>-0.3</td>\n",
       "      <td>25.8</td>\n",
       "      <td>-108.0</td>\n",
       "      <td>-15.0</td>\n",
       "      <td>-0.9</td>\n",
       "      <td>13.0</td>\n",
       "      <td>127.0</td>\n",
       "    </tr>\n",
       "    <tr>\n",
       "      <th>sensor_16</th>\n",
       "      <td>2335.0</td>\n",
       "      <td>-1.1</td>\n",
       "      <td>15.5</td>\n",
       "      <td>-127.0</td>\n",
       "      <td>-8.1</td>\n",
       "      <td>-1.0</td>\n",
       "      <td>5.5</td>\n",
       "      <td>121.0</td>\n",
       "    </tr>\n",
       "    <tr>\n",
       "      <th>sensor_17</th>\n",
       "      <td>2335.0</td>\n",
       "      <td>-1.0</td>\n",
       "      <td>11.7</td>\n",
       "      <td>-96.0</td>\n",
       "      <td>-4.0</td>\n",
       "      <td>-0.9</td>\n",
       "      <td>2.9</td>\n",
       "      <td>86.0</td>\n",
       "    </tr>\n",
       "    <tr>\n",
       "      <th>sensor_18</th>\n",
       "      <td>2335.0</td>\n",
       "      <td>-0.6</td>\n",
       "      <td>7.6</td>\n",
       "      <td>-83.9</td>\n",
       "      <td>-4.0</td>\n",
       "      <td>-1.0</td>\n",
       "      <td>2.9</td>\n",
       "      <td>40.0</td>\n",
       "    </tr>\n",
       "    <tr>\n",
       "      <th>sensor_19</th>\n",
       "      <td>2335.0</td>\n",
       "      <td>-0.6</td>\n",
       "      <td>26.9</td>\n",
       "      <td>-109.0</td>\n",
       "      <td>-15.2</td>\n",
       "      <td>-1.0</td>\n",
       "      <td>14.0</td>\n",
       "      <td>117.9</td>\n",
       "    </tr>\n",
       "    <tr>\n",
       "      <th>sensor_20</th>\n",
       "      <td>2335.0</td>\n",
       "      <td>-0.7</td>\n",
       "      <td>15.9</td>\n",
       "      <td>-108.1</td>\n",
       "      <td>-7.9</td>\n",
       "      <td>-1.0</td>\n",
       "      <td>5.9</td>\n",
       "      <td>121.0</td>\n",
       "    </tr>\n",
       "    <tr>\n",
       "      <th>sensor_21</th>\n",
       "      <td>2335.0</td>\n",
       "      <td>-0.6</td>\n",
       "      <td>11.9</td>\n",
       "      <td>-103.9</td>\n",
       "      <td>-4.0</td>\n",
       "      <td>-0.9</td>\n",
       "      <td>2.9</td>\n",
       "      <td>102.9</td>\n",
       "    </tr>\n",
       "    <tr>\n",
       "      <th>sensor_22</th>\n",
       "      <td>2335.0</td>\n",
       "      <td>-0.7</td>\n",
       "      <td>7.5</td>\n",
       "      <td>-60.0</td>\n",
       "      <td>-4.0</td>\n",
       "      <td>-1.0</td>\n",
       "      <td>2.9</td>\n",
       "      <td>40.9</td>\n",
       "    </tr>\n",
       "    <tr>\n",
       "      <th>sensor_23</th>\n",
       "      <td>2335.0</td>\n",
       "      <td>0.0</td>\n",
       "      <td>26.7</td>\n",
       "      <td>-93.2</td>\n",
       "      <td>-14.1</td>\n",
       "      <td>-1.1</td>\n",
       "      <td>12.1</td>\n",
       "      <td>122.0</td>\n",
       "    </tr>\n",
       "    <tr>\n",
       "      <th>sensor_24</th>\n",
       "      <td>2335.0</td>\n",
       "      <td>-0.4</td>\n",
       "      <td>16.5</td>\n",
       "      <td>-127.8</td>\n",
       "      <td>-8.0</td>\n",
       "      <td>-0.9</td>\n",
       "      <td>6.0</td>\n",
       "      <td>127.2</td>\n",
       "    </tr>\n",
       "    <tr>\n",
       "      <th>sensor_25</th>\n",
       "      <td>2335.0</td>\n",
       "      <td>-0.9</td>\n",
       "      <td>12.0</td>\n",
       "      <td>-99.1</td>\n",
       "      <td>-4.0</td>\n",
       "      <td>-0.9</td>\n",
       "      <td>2.9</td>\n",
       "      <td>58.1</td>\n",
       "    </tr>\n",
       "    <tr>\n",
       "      <th>sensor_26</th>\n",
       "      <td>2335.0</td>\n",
       "      <td>-0.6</td>\n",
       "      <td>7.4</td>\n",
       "      <td>-86.2</td>\n",
       "      <td>-4.0</td>\n",
       "      <td>-0.9</td>\n",
       "      <td>3.0</td>\n",
       "      <td>59.1</td>\n",
       "    </tr>\n",
       "    <tr>\n",
       "      <th>sensor_27</th>\n",
       "      <td>2335.0</td>\n",
       "      <td>-0.1</td>\n",
       "      <td>25.9</td>\n",
       "      <td>-105.8</td>\n",
       "      <td>-14.1</td>\n",
       "      <td>-1.0</td>\n",
       "      <td>13.9</td>\n",
       "      <td>123.2</td>\n",
       "    </tr>\n",
       "    <tr>\n",
       "      <th>sensor_28</th>\n",
       "      <td>2335.0</td>\n",
       "      <td>-0.4</td>\n",
       "      <td>15.5</td>\n",
       "      <td>-105.9</td>\n",
       "      <td>-8.0</td>\n",
       "      <td>-1.0</td>\n",
       "      <td>5.9</td>\n",
       "      <td>111.1</td>\n",
       "    </tr>\n",
       "    <tr>\n",
       "      <th>sensor_29</th>\n",
       "      <td>2335.0</td>\n",
       "      <td>-0.7</td>\n",
       "      <td>11.6</td>\n",
       "      <td>-75.0</td>\n",
       "      <td>-4.0</td>\n",
       "      <td>-0.9</td>\n",
       "      <td>3.0</td>\n",
       "      <td>54.1</td>\n",
       "    </tr>\n",
       "    <tr>\n",
       "      <th>sensor_30</th>\n",
       "      <td>2335.0</td>\n",
       "      <td>-0.8</td>\n",
       "      <td>7.5</td>\n",
       "      <td>-74.0</td>\n",
       "      <td>-4.0</td>\n",
       "      <td>-0.9</td>\n",
       "      <td>2.5</td>\n",
       "      <td>35.9</td>\n",
       "    </tr>\n",
       "    <tr>\n",
       "      <th>sensor_31</th>\n",
       "      <td>2335.0</td>\n",
       "      <td>-0.5</td>\n",
       "      <td>25.3</td>\n",
       "      <td>-121.1</td>\n",
       "      <td>-14.0</td>\n",
       "      <td>-1.0</td>\n",
       "      <td>13.9</td>\n",
       "      <td>126.0</td>\n",
       "    </tr>\n",
       "    <tr>\n",
       "      <th>sensor_32</th>\n",
       "      <td>2335.0</td>\n",
       "      <td>-0.7</td>\n",
       "      <td>16.3</td>\n",
       "      <td>-123.9</td>\n",
       "      <td>-7.9</td>\n",
       "      <td>-1.0</td>\n",
       "      <td>5.1</td>\n",
       "      <td>105.0</td>\n",
       "    </tr>\n",
       "  </tbody>\n",
       "</table>\n",
       "</div>"
      ],
      "text/plain": [
       "            count  mean   std    min   25%  50%   75%    max\n",
       "sensor_1   2335.0  -1.1  11.5  -94.7  -4.0 -1.0   2.9   68.9\n",
       "sensor_2   2335.0  -1.0   7.4  -63.9  -4.0 -1.0   2.1   39.9\n",
       "sensor_3   2335.0  -0.7  26.5 -122.2 -14.9 -1.0  14.0  127.1\n",
       "sensor_4   2335.0  -0.1  15.6 -111.9  -7.1 -0.9   6.1  102.0\n",
       "sensor_5   2335.0  -0.3  11.5  -94.1  -4.0 -0.9   3.0   89.1\n",
       "sensor_6   2335.0  -0.4   7.3  -70.9  -4.0 -0.8   3.0   34.9\n",
       "sensor_7   2335.0   0.7  26.9 -106.0 -13.9  0.1  13.9  120.0\n",
       "sensor_8   2335.0  -0.9  15.6 -103.0  -8.1 -1.1   5.0  125.2\n",
       "sensor_9   2335.0  -0.8  12.0  -81.3  -4.0 -0.9   2.2   74.1\n",
       "sensor_10  2335.0  -0.7   7.4  -47.9  -4.0 -0.9   2.9   47.0\n",
       "sensor_11  2335.0  -1.1  26.3 -115.9 -15.2 -1.1  13.0  127.1\n",
       "sensor_12  2335.0  -0.8  15.5 -102.9  -8.1 -1.1   6.0   99.9\n",
       "sensor_13  2335.0  -0.5  11.9 -115.1  -3.9 -0.9   3.0  107.9\n",
       "sensor_14  2335.0  -0.9   7.4  -59.7  -4.0 -0.9   2.9   40.0\n",
       "sensor_15  2335.0  -0.3  25.8 -108.0 -15.0 -0.9  13.0  127.0\n",
       "sensor_16  2335.0  -1.1  15.5 -127.0  -8.1 -1.0   5.5  121.0\n",
       "sensor_17  2335.0  -1.0  11.7  -96.0  -4.0 -0.9   2.9   86.0\n",
       "sensor_18  2335.0  -0.6   7.6  -83.9  -4.0 -1.0   2.9   40.0\n",
       "sensor_19  2335.0  -0.6  26.9 -109.0 -15.2 -1.0  14.0  117.9\n",
       "sensor_20  2335.0  -0.7  15.9 -108.1  -7.9 -1.0   5.9  121.0\n",
       "sensor_21  2335.0  -0.6  11.9 -103.9  -4.0 -0.9   2.9  102.9\n",
       "sensor_22  2335.0  -0.7   7.5  -60.0  -4.0 -1.0   2.9   40.9\n",
       "sensor_23  2335.0   0.0  26.7  -93.2 -14.1 -1.1  12.1  122.0\n",
       "sensor_24  2335.0  -0.4  16.5 -127.8  -8.0 -0.9   6.0  127.2\n",
       "sensor_25  2335.0  -0.9  12.0  -99.1  -4.0 -0.9   2.9   58.1\n",
       "sensor_26  2335.0  -0.6   7.4  -86.2  -4.0 -0.9   3.0   59.1\n",
       "sensor_27  2335.0  -0.1  25.9 -105.8 -14.1 -1.0  13.9  123.2\n",
       "sensor_28  2335.0  -0.4  15.5 -105.9  -8.0 -1.0   5.9  111.1\n",
       "sensor_29  2335.0  -0.7  11.6  -75.0  -4.0 -0.9   3.0   54.1\n",
       "sensor_30  2335.0  -0.8   7.5  -74.0  -4.0 -0.9   2.5   35.9\n",
       "sensor_31  2335.0  -0.5  25.3 -121.1 -14.0 -1.0  13.9  126.0\n",
       "sensor_32  2335.0  -0.7  16.3 -123.9  -7.9 -1.0   5.1  105.0"
      ]
     },
     "execution_count": 39,
     "metadata": {},
     "output_type": "execute_result"
    }
   ],
   "source": [
    "round(train3.describe().T,1)"
   ]
  },
  {
   "cell_type": "markdown",
   "id": "f5d64b4d",
   "metadata": {},
   "source": [
    "<br></br>\n",
    "### Plot : 1-Dimension"
   ]
  },
  {
   "cell_type": "markdown",
   "id": "5fb6124b",
   "metadata": {},
   "source": [
    "boxplot"
   ]
  },
  {
   "cell_type": "code",
   "execution_count": 40,
   "id": "b839e66a",
   "metadata": {
    "ExecuteTime": {
     "end_time": "2022-03-16T10:28:54.503953Z",
     "start_time": "2022-03-16T10:28:54.490959Z"
    }
   },
   "outputs": [
    {
     "data": {
      "text/plain": [
       "array(['sensor_1', 'sensor_2', 'sensor_3', 'sensor_4', 'sensor_5',\n",
       "       'sensor_6', 'sensor_7', 'sensor_8', 'sensor_9', 'sensor_10',\n",
       "       'sensor_11', 'sensor_12', 'sensor_13', 'sensor_14', 'sensor_15',\n",
       "       'sensor_16', 'sensor_17', 'sensor_18', 'sensor_19', 'sensor_20',\n",
       "       'sensor_21', 'sensor_22', 'sensor_23', 'sensor_24', 'sensor_25',\n",
       "       'sensor_26', 'sensor_27', 'sensor_28', 'sensor_29', 'sensor_30',\n",
       "       'sensor_31', 'sensor_32'], dtype=object)"
      ]
     },
     "execution_count": 40,
     "metadata": {},
     "output_type": "execute_result"
    }
   ],
   "source": [
    "num_var = train3.select_dtypes(include=[int,float]).columns.values\n",
    "num_var"
   ]
  },
  {
   "cell_type": "code",
   "execution_count": 41,
   "id": "fe4b1115",
   "metadata": {
    "ExecuteTime": {
     "end_time": "2022-03-16T10:28:54.519946Z",
     "start_time": "2022-03-16T10:28:54.504953Z"
    }
   },
   "outputs": [
    {
     "data": {
      "text/plain": [
       "<Figure size 1404x1512 with 0 Axes>"
      ]
     },
     "metadata": {},
     "output_type": "display_data"
    }
   ],
   "source": [
    "fig = plt.figure(figsize=(15*1.3,7*3))\n",
    "\n",
    "# len(num_vari) : 6\n",
    "\n",
    "nrow = np.ceil(np.sqrt(len(num_var)))\n",
    "ncol = np.ceil(len(num_var)/nrow)\n",
    "\n",
    "if PLOT:\n",
    "    \n",
    "    for iter,var in enumerate(num_var,1):\n",
    "        fig.add_subplot(nrow,ncol,iter)\n",
    "        sns.boxplot(y=train3[var])\n",
    "    \n",
    "    fig.tight_layout()\n",
    "    plt.show()"
   ]
  },
  {
   "cell_type": "markdown",
   "id": "5764bd50",
   "metadata": {},
   "source": [
    "<br></br>\n",
    "hist + kde plot (hue=target) : 각 숫자형변수별 분포 확인 & target에 따른 분포확인"
   ]
  },
  {
   "cell_type": "code",
   "execution_count": 42,
   "id": "6d559f68",
   "metadata": {
    "ExecuteTime": {
     "end_time": "2022-03-16T10:28:54.535954Z",
     "start_time": "2022-03-16T10:28:54.520945Z"
    }
   },
   "outputs": [],
   "source": [
    "if PLOT:\n",
    "\n",
    "    # No hue\n",
    "    print(color.BOLD + color.BLUE + '> No Group' + color.END)\n",
    "    density_plot(train3,\n",
    "                 vars = sorted(set(num_var) - set(['id'])),\n",
    "                 binwidth_adj_ratio = 0.8,\n",
    "                 figsize = (15*1.3,7*1.6))\n",
    "    plt.show()\n",
    "\n",
    "#     # hue : target\n",
    "#     print(color.BOLD + color.BLUE + '> Group by Target' + color.END)\n",
    "#     density_plot(train,\n",
    "#                  vars = set(num_vari) - set(['id']),\n",
    "#                  hue = 'target',\n",
    "#                  binwidth_adj_ratio = 0.8)\n",
    "#     plt.show()"
   ]
  },
  {
   "cell_type": "markdown",
   "id": "37de2f2d",
   "metadata": {},
   "source": [
    "모두 정규분포에서 크게 벗어나지 않는 것 같아보임"
   ]
  },
  {
   "cell_type": "markdown",
   "id": "b70f9eae",
   "metadata": {},
   "source": [
    "<br></br>\n",
    "### Plot : 2-Dimension"
   ]
  },
  {
   "cell_type": "markdown",
   "id": "bad7c661",
   "metadata": {},
   "source": [
    "32개에 대한 pairplot은 오래걸려서 주석처리"
   ]
  },
  {
   "cell_type": "code",
   "execution_count": 43,
   "id": "51584c01",
   "metadata": {
    "ExecuteTime": {
     "end_time": "2022-03-16T10:28:54.551946Z",
     "start_time": "2022-03-16T10:28:54.536938Z"
    }
   },
   "outputs": [],
   "source": [
    "# if PLOT:\n",
    "\n",
    "#     pairplot_df = num_df.copy()\n",
    "\n",
    "#     sns.pairplot(pairplot_df, corner=True)#, hue = 'target')\n",
    "#     plt.show()"
   ]
  },
  {
   "cell_type": "markdown",
   "id": "aba16495",
   "metadata": {},
   "source": [
    "<br></br>\n",
    "Clustermap : 지저분해서 주석처리"
   ]
  },
  {
   "cell_type": "code",
   "execution_count": 44,
   "id": "5c8ac1c1",
   "metadata": {
    "ExecuteTime": {
     "end_time": "2022-03-16T10:28:54.567940Z",
     "start_time": "2022-03-16T10:28:54.552931Z"
    }
   },
   "outputs": [],
   "source": [
    "# if PLOT:\n",
    "\n",
    "#     pairplot_df = num_df.copy()\n",
    "    \n",
    "#     fig = plt.figure(figsize=(15*1.5,7*1.5))\n",
    "#     sns.clustermap(pairplot_df.corr(), annot=True, cmap = 'RdYlBu_r')\n",
    "#     plt.show()"
   ]
  },
  {
   "cell_type": "markdown",
   "id": "6ed0b992",
   "metadata": {},
   "source": [
    "<br></br>\n",
    "## Numeric Variable * Characteristic Variable"
   ]
  },
  {
   "cell_type": "markdown",
   "id": "f47a0edb",
   "metadata": {},
   "source": [
    "<br></br>\n",
    "### train"
   ]
  },
  {
   "cell_type": "code",
   "execution_count": 45,
   "id": "53ea829f",
   "metadata": {
    "ExecuteTime": {
     "end_time": "2022-03-16T10:28:54.583931Z",
     "start_time": "2022-03-16T10:28:54.568924Z"
    },
    "scrolled": true
   },
   "outputs": [],
   "source": [
    "# if PLOT:\n",
    "\n",
    "#     for _iter,_col in enumerate(sorted(plot_char_vari)):\n",
    "#         plot_num(grp_var = _col, num_vari = num_var, hue_var='target',\n",
    "#                  df = train3,\n",
    "#                  title_text = str(_iter+1) + '. ' + _col,\n",
    "#                  swarmplot = False,\n",
    "#                  figsize_1=(5,4),\n",
    "#                  figsize_2=(15*0.8,7*0.8))"
   ]
  },
  {
   "cell_type": "markdown",
   "id": "f730b45e",
   "metadata": {},
   "source": [
    "|변수명|변수정보|\n",
    "|---|---|"
   ]
  },
  {
   "cell_type": "markdown",
   "id": "2ea7b37b",
   "metadata": {},
   "source": [
    "<br></br>\n",
    "### test"
   ]
  },
  {
   "cell_type": "code",
   "execution_count": 46,
   "id": "24598a84",
   "metadata": {
    "ExecuteTime": {
     "end_time": "2022-03-16T10:28:54.599924Z",
     "start_time": "2022-03-16T10:28:54.584917Z"
    },
    "scrolled": true
   },
   "outputs": [],
   "source": [
    "# if PLOT:\n",
    "\n",
    "#     for _iter,_col in enumerate(sorted(plot_char_vari)):\n",
    "#         plot_num(grp_var = _col, num_vari = list(set(num_var)-set(['target'])), #hue_var='target',\n",
    "#                  df = test3,\n",
    "#                  title_text = str(_iter+1) + '. ' + _col,\n",
    "#                  swarmplot = False,\n",
    "#                  figsize_1=(5,4),\n",
    "#                  figsize_2=(15*0.8,7*0.8))"
   ]
  },
  {
   "cell_type": "markdown",
   "id": "1d52a354",
   "metadata": {},
   "source": [
    "<br></br>\n",
    "<br></br>\n",
    "># **Grouping**"
   ]
  },
  {
   "cell_type": "markdown",
   "id": "1440262e",
   "metadata": {},
   "source": [
    "<br></br>\n",
    "<br></br>\n",
    "># **Segment** : segment를 구분하여 따로 모델 적합"
   ]
  },
  {
   "cell_type": "code",
   "execution_count": 47,
   "id": "a3fb3651",
   "metadata": {
    "ExecuteTime": {
     "end_time": "2022-03-16T10:28:54.615904Z",
     "start_time": "2022-03-16T10:28:54.600909Z"
    }
   },
   "outputs": [],
   "source": [
    "def make_segment(data):\n",
    "    \n",
    "    df = data.copy()\n",
    "    \n",
    "    return(df)\n",
    "\n",
    "train4 = make_segment(train3)\n",
    "test4  = make_segment(test3)"
   ]
  },
  {
   "cell_type": "code",
   "execution_count": 48,
   "id": "b08e9a14",
   "metadata": {
    "ExecuteTime": {
     "end_time": "2022-03-16T10:28:54.647903Z",
     "start_time": "2022-03-16T10:28:54.620900Z"
    }
   },
   "outputs": [
    {
     "name": "stdout",
     "output_type": "stream",
     "text": [
      "<class 'pandas.core.frame.DataFrame'>\n",
      "RangeIndex: 2335 entries, 0 to 2334\n",
      "Data columns (total 34 columns):\n",
      " #   Column     Non-Null Count  Dtype  \n",
      "---  ------     --------------  -----  \n",
      " 0   id         2335 non-null   object \n",
      " 1   sensor_1   2335 non-null   float64\n",
      " 2   sensor_2   2335 non-null   float64\n",
      " 3   sensor_3   2335 non-null   float64\n",
      " 4   sensor_4   2335 non-null   float64\n",
      " 5   sensor_5   2335 non-null   float64\n",
      " 6   sensor_6   2335 non-null   float64\n",
      " 7   sensor_7   2335 non-null   float64\n",
      " 8   sensor_8   2335 non-null   float64\n",
      " 9   sensor_9   2335 non-null   float64\n",
      " 10  sensor_10  2335 non-null   float64\n",
      " 11  sensor_11  2335 non-null   float64\n",
      " 12  sensor_12  2335 non-null   float64\n",
      " 13  sensor_13  2335 non-null   float64\n",
      " 14  sensor_14  2335 non-null   float64\n",
      " 15  sensor_15  2335 non-null   float64\n",
      " 16  sensor_16  2335 non-null   float64\n",
      " 17  sensor_17  2335 non-null   float64\n",
      " 18  sensor_18  2335 non-null   float64\n",
      " 19  sensor_19  2335 non-null   float64\n",
      " 20  sensor_20  2335 non-null   float64\n",
      " 21  sensor_21  2335 non-null   float64\n",
      " 22  sensor_22  2335 non-null   float64\n",
      " 23  sensor_23  2335 non-null   float64\n",
      " 24  sensor_24  2335 non-null   float64\n",
      " 25  sensor_25  2335 non-null   float64\n",
      " 26  sensor_26  2335 non-null   float64\n",
      " 27  sensor_27  2335 non-null   float64\n",
      " 28  sensor_28  2335 non-null   float64\n",
      " 29  sensor_29  2335 non-null   float64\n",
      " 30  sensor_30  2335 non-null   float64\n",
      " 31  sensor_31  2335 non-null   float64\n",
      " 32  sensor_32  2335 non-null   float64\n",
      " 33  target     2335 non-null   object \n",
      "dtypes: float64(32), object(2)\n",
      "memory usage: 620.4+ KB\n"
     ]
    }
   ],
   "source": [
    "train4.info()"
   ]
  },
  {
   "cell_type": "markdown",
   "id": "f46a2757",
   "metadata": {},
   "source": [
    "<br></br>\n",
    "<br></br>\n",
    "># **Preprocessing**"
   ]
  },
  {
   "cell_type": "markdown",
   "id": "e2ca45b3",
   "metadata": {},
   "source": [
    "<br></br>\n",
    "## new feature"
   ]
  },
  {
   "cell_type": "code",
   "execution_count": 49,
   "id": "05c07f45",
   "metadata": {
    "ExecuteTime": {
     "end_time": "2022-03-16T10:28:54.663896Z",
     "start_time": "2022-03-16T10:28:54.649887Z"
    }
   },
   "outputs": [],
   "source": [
    "def preprocessing(_train, _test):\n",
    "\n",
    "    from matplotlib.cbook import boxplot_stats\n",
    "\n",
    "    tr_df = _train.copy()\n",
    "    te_df = _test .copy()\n",
    "\n",
    "    return(tr_df, te_df)"
   ]
  },
  {
   "cell_type": "code",
   "execution_count": 50,
   "id": "f6f7f4f4",
   "metadata": {
    "ExecuteTime": {
     "end_time": "2022-03-16T10:28:54.679890Z",
     "start_time": "2022-03-16T10:28:54.665880Z"
    }
   },
   "outputs": [],
   "source": [
    "train5, test5 = preprocessing(train4, test4)"
   ]
  },
  {
   "cell_type": "markdown",
   "id": "d8f0c1a8",
   "metadata": {},
   "source": [
    "<br></br>\n",
    "<br></br>\n",
    "># **Missing Prediction**"
   ]
  },
  {
   "cell_type": "markdown",
   "id": "db0c796e",
   "metadata": {},
   "source": [
    "<br></br>\n",
    "## 'nan' or 'null' → np.nan"
   ]
  },
  {
   "cell_type": "code",
   "execution_count": 51,
   "id": "c059ca19",
   "metadata": {
    "ExecuteTime": {
     "end_time": "2022-03-16T10:28:54.711864Z",
     "start_time": "2022-03-16T10:28:54.680879Z"
    }
   },
   "outputs": [],
   "source": [
    "def str_nan_convert(df):\n",
    "    \n",
    "    _df = df.copy()\n",
    "    \n",
    "    _df = _df.apply(lambda x: x.\\\n",
    "                        replace(' ','').\\\n",
    "                        replace('nan','').\\\n",
    "                        replace('null','').\\\n",
    "                        replace('na',''))\n",
    "            \n",
    "    return(_df)\n",
    "\n",
    "train6 = str_nan_convert(train5)\n",
    "test6  = str_nan_convert(test5)"
   ]
  },
  {
   "cell_type": "code",
   "execution_count": 52,
   "id": "88d54258",
   "metadata": {
    "ExecuteTime": {
     "end_time": "2022-03-16T10:28:54.743846Z",
     "start_time": "2022-03-16T10:28:54.712859Z"
    }
   },
   "outputs": [
    {
     "name": "stdout",
     "output_type": "stream",
     "text": [
      "\u001b[1m\u001b[94m> train\u001b[0m\n",
      "Empty DataFrame\n",
      "Columns: [null_count]\n",
      "Index: []\n",
      "\n",
      "\u001b[1m\u001b[94m> train\u001b[0m\n",
      "Empty DataFrame\n",
      "Columns: [null_count]\n",
      "Index: []\n",
      "\n"
     ]
    }
   ],
   "source": [
    "train_chk = pd.DataFrame(train6.apply(lambda x:x.isnull().sum()), \n",
    "             columns=['null_count']).\\\n",
    "    query('null_count > 0')\n",
    "\n",
    "test_chk = pd.DataFrame(test6.apply(lambda x:x.isnull().sum()), \n",
    "             columns=['null_count']).\\\n",
    "    query('null_count > 0')\n",
    "\n",
    "print(f'{color.BOLD}{color.BLUE}> train{color.END}\\n{train_chk}\\n')\n",
    "print(f'{color.BOLD}{color.BLUE}> train{color.END}\\n{test_chk}\\n')"
   ]
  },
  {
   "cell_type": "markdown",
   "id": "f6e7200a",
   "metadata": {},
   "source": [
    "<br></br>\n",
    "<br></br>\n",
    "># **Categorical Variable Encoding : astype('category')**"
   ]
  },
  {
   "cell_type": "code",
   "execution_count": 53,
   "id": "74cfd4e9",
   "metadata": {
    "ExecuteTime": {
     "end_time": "2022-03-16T10:28:54.775832Z",
     "start_time": "2022-03-16T10:28:54.744845Z"
    }
   },
   "outputs": [],
   "source": [
    "char_var = [c for d,c in zip(train6.dtypes,train6.columns) if d in [object]]\n",
    "\n",
    "train7 = train6.astype(dict([(var,'category')for var in char_var]))\n",
    "test7  = test6 .astype(rmkey(dict([(var,'category')for var in char_var]),'target'))"
   ]
  },
  {
   "cell_type": "code",
   "execution_count": 54,
   "id": "cd3bd0ac",
   "metadata": {
    "ExecuteTime": {
     "end_time": "2022-03-16T10:28:54.805820Z",
     "start_time": "2022-03-16T10:28:54.777832Z"
    }
   },
   "outputs": [
    {
     "name": "stdout",
     "output_type": "stream",
     "text": [
      "<class 'pandas.core.frame.DataFrame'>\n",
      "RangeIndex: 2335 entries, 0 to 2334\n",
      "Data columns (total 34 columns):\n",
      " #   Column     Non-Null Count  Dtype   \n",
      "---  ------     --------------  -----   \n",
      " 0   id         2335 non-null   category\n",
      " 1   sensor_1   2335 non-null   float64 \n",
      " 2   sensor_2   2335 non-null   float64 \n",
      " 3   sensor_3   2335 non-null   float64 \n",
      " 4   sensor_4   2335 non-null   float64 \n",
      " 5   sensor_5   2335 non-null   float64 \n",
      " 6   sensor_6   2335 non-null   float64 \n",
      " 7   sensor_7   2335 non-null   float64 \n",
      " 8   sensor_8   2335 non-null   float64 \n",
      " 9   sensor_9   2335 non-null   float64 \n",
      " 10  sensor_10  2335 non-null   float64 \n",
      " 11  sensor_11  2335 non-null   float64 \n",
      " 12  sensor_12  2335 non-null   float64 \n",
      " 13  sensor_13  2335 non-null   float64 \n",
      " 14  sensor_14  2335 non-null   float64 \n",
      " 15  sensor_15  2335 non-null   float64 \n",
      " 16  sensor_16  2335 non-null   float64 \n",
      " 17  sensor_17  2335 non-null   float64 \n",
      " 18  sensor_18  2335 non-null   float64 \n",
      " 19  sensor_19  2335 non-null   float64 \n",
      " 20  sensor_20  2335 non-null   float64 \n",
      " 21  sensor_21  2335 non-null   float64 \n",
      " 22  sensor_22  2335 non-null   float64 \n",
      " 23  sensor_23  2335 non-null   float64 \n",
      " 24  sensor_24  2335 non-null   float64 \n",
      " 25  sensor_25  2335 non-null   float64 \n",
      " 26  sensor_26  2335 non-null   float64 \n",
      " 27  sensor_27  2335 non-null   float64 \n",
      " 28  sensor_28  2335 non-null   float64 \n",
      " 29  sensor_29  2335 non-null   float64 \n",
      " 30  sensor_30  2335 non-null   float64 \n",
      " 31  sensor_31  2335 non-null   float64 \n",
      " 32  sensor_32  2335 non-null   float64 \n",
      " 33  target     2335 non-null   category\n",
      "dtypes: category(2), float64(32)\n",
      "memory usage: 673.7 KB\n"
     ]
    }
   ],
   "source": [
    "train7.info()"
   ]
  },
  {
   "cell_type": "markdown",
   "id": "b76d0890",
   "metadata": {},
   "source": [
    "<br></br>\n",
    "<br></br>\n",
    "># **Category Level Check**"
   ]
  },
  {
   "cell_type": "code",
   "execution_count": 55,
   "id": "acab670c",
   "metadata": {
    "ExecuteTime": {
     "end_time": "2022-03-16T10:28:54.837805Z",
     "start_time": "2022-03-16T10:28:54.808818Z"
    }
   },
   "outputs": [
    {
     "data": {
      "text/html": [
       "<div>\n",
       "<style scoped>\n",
       "    .dataframe tbody tr th:only-of-type {\n",
       "        vertical-align: middle;\n",
       "    }\n",
       "\n",
       "    .dataframe tbody tr th {\n",
       "        vertical-align: top;\n",
       "    }\n",
       "\n",
       "    .dataframe thead th {\n",
       "        text-align: right;\n",
       "    }\n",
       "</style>\n",
       "<table border=\"1\" class=\"dataframe\">\n",
       "  <thead>\n",
       "    <tr style=\"text-align: right;\">\n",
       "      <th></th>\n",
       "      <th>nunique</th>\n",
       "    </tr>\n",
       "  </thead>\n",
       "  <tbody>\n",
       "    <tr>\n",
       "      <th>target</th>\n",
       "      <td>4</td>\n",
       "    </tr>\n",
       "    <tr>\n",
       "      <th>id</th>\n",
       "      <td>2335</td>\n",
       "    </tr>\n",
       "  </tbody>\n",
       "</table>\n",
       "</div>"
      ],
      "text/plain": [
       "        nunique\n",
       "target        4\n",
       "id         2335"
      ]
     },
     "execution_count": 55,
     "metadata": {},
     "output_type": "execute_result"
    }
   ],
   "source": [
    "nuniq_info = train7.\\\n",
    "    select_dtypes(include=['category']).\\\n",
    "    apply(\n",
    "        lambda x: x.nunique()\n",
    "    )\n",
    "\n",
    "pd.DataFrame(nuniq_info, columns=['nunique']).\\\n",
    "    iloc[[nuniq_info.argmin(),nuniq_info.argmax()],:]"
   ]
  },
  {
   "cell_type": "markdown",
   "id": "37621b1b",
   "metadata": {},
   "source": [
    "train에서 최소 2개 이상으로, 이상없음\n",
    "<br></br>"
   ]
  },
  {
   "cell_type": "markdown",
   "id": "437a9a97",
   "metadata": {},
   "source": [
    "<br></br>\n",
    "<br></br>\n",
    "># **교호작용항**"
   ]
  },
  {
   "cell_type": "markdown",
   "id": "ef6a1f2e",
   "metadata": {},
   "source": [
    "<br></br>\n",
    "## without Interaction Term"
   ]
  },
  {
   "cell_type": "code",
   "execution_count": 56,
   "id": "8eb65e6f",
   "metadata": {
    "ExecuteTime": {
     "end_time": "2022-03-16T10:28:54.853797Z",
     "start_time": "2022-03-16T10:28:54.838804Z"
    }
   },
   "outputs": [],
   "source": [
    "if INTERACTION_CHECK:\n",
    "    automl_no_interaction = AUTOML_COMP(train = train7,\n",
    "                                        test  = None,\n",
    "                                        target = 'target',\n",
    "                                        objective = 'binary',\n",
    "                                        ignore_features = ['id'],\n",
    "                                        scoring = None,\n",
    "                                        iterations = 200,\n",
    "                                        n_splits = 5,\n",
    "                                        fit_model = True)"
   ]
  },
  {
   "cell_type": "markdown",
   "id": "53d25285",
   "metadata": {},
   "source": [
    "<br></br>\n",
    "## with Interaction Term"
   ]
  },
  {
   "cell_type": "code",
   "execution_count": 57,
   "id": "585155d4",
   "metadata": {
    "ExecuteTime": {
     "end_time": "2022-03-16T10:28:55.140669Z",
     "start_time": "2022-03-16T10:28:54.854796Z"
    }
   },
   "outputs": [
    {
     "data": {
      "text/plain": [
       "(2335, 562)"
      ]
     },
     "execution_count": 57,
     "metadata": {},
     "output_type": "execute_result"
    }
   ],
   "source": [
    "# interaction term 추가\n",
    "num_vari = train7.select_dtypes(include=[int,float])\n",
    "interaction_df = interaction_term(train7.copy(),num_vari)\n",
    "\n",
    "interaction_df.shape"
   ]
  },
  {
   "cell_type": "code",
   "execution_count": 58,
   "id": "9abac84a",
   "metadata": {
    "ExecuteTime": {
     "end_time": "2022-03-16T10:28:55.155663Z",
     "start_time": "2022-03-16T10:28:55.141668Z"
    }
   },
   "outputs": [],
   "source": [
    "if INTERACTION_CHECK:\n",
    "            \n",
    "    automl_interaction = AUTOML_COMP(train = interaction_df,\n",
    "                                     test = None,\n",
    "                                     target = 'target',\n",
    "                                     objective = 'binary',\n",
    "                                     ignore_features = ['id'],\n",
    "                                     scoring = None,\n",
    "                                     iterations = 200,\n",
    "                                     n_splits = 5,\n",
    "                                     fit_model = True)"
   ]
  },
  {
   "cell_type": "markdown",
   "id": "e010106f",
   "metadata": {},
   "source": [
    "<br></br>\n",
    "## Comparision"
   ]
  },
  {
   "cell_type": "code",
   "execution_count": 59,
   "id": "e0718991",
   "metadata": {
    "ExecuteTime": {
     "end_time": "2022-03-16T10:28:55.171655Z",
     "start_time": "2022-03-16T10:28:55.157662Z"
    }
   },
   "outputs": [],
   "source": [
    "if INTERACTION_CHECK:\n",
    "    \n",
    "    comp_df = pd.DataFrame({\n",
    "        'model'          : [name for name,model in automl_no_interaction['model']],\n",
    "        'no_interaction' : [np.mean(res) for res in automl_no_interaction['cv_result']],\n",
    "        'interaction'    : [np.mean(res) for res in automl_interaction   ['cv_result']]\n",
    "    })\n",
    "    comp_df['res'] = comp_df['interaction'] - comp_df['no_interaction']\n",
    "\n",
    "    sort_var = ['interaction' if comp_df['interaction'].max() > comp_df['no_interaction'].max() else 'no_interaction']\n",
    "    comp_df  = comp_df.sort_values(sort_var,ascending = False)\n",
    "\n",
    "    print(round(comp_df,2))"
   ]
  },
  {
   "cell_type": "markdown",
   "id": "8d00fab6",
   "metadata": {},
   "source": [
    "교호작용을 추가하는 것이 대부분 accuracy가 높음\n",
    "<br></br>"
   ]
  },
  {
   "cell_type": "code",
   "execution_count": 60,
   "id": "c494aa4c",
   "metadata": {
    "ExecuteTime": {
     "end_time": "2022-03-16T10:28:55.868343Z",
     "start_time": "2022-03-16T10:28:55.173654Z"
    }
   },
   "outputs": [],
   "source": [
    "if INTERACTION:\n",
    "    \n",
    "    num_vari  = train7.select_dtypes(include=[int,float])\n",
    "    \n",
    "    train8 = interaction_term(train7.copy() ,num_vari)\n",
    "    test8  = interaction_term(test7 .copy() ,num_vari)\n",
    "\n",
    "else:\n",
    "    train8 = train7.copy()\n",
    "    test8  = test7 .copy()"
   ]
  },
  {
   "cell_type": "markdown",
   "id": "d147d4c5",
   "metadata": {},
   "source": [
    "<br></br>\n",
    "save/load session"
   ]
  },
  {
   "cell_type": "code",
   "execution_count": 61,
   "id": "6fd356ec",
   "metadata": {
    "ExecuteTime": {
     "end_time": "2022-03-16T10:28:55.884337Z",
     "start_time": "2022-03-16T10:28:55.870343Z"
    }
   },
   "outputs": [],
   "source": [
    "# dill.dump_session('notebook_env.db')\n",
    "# dill.load_session('notebook_env.db')"
   ]
  },
  {
   "cell_type": "markdown",
   "id": "a04617ab",
   "metadata": {},
   "source": [
    "<br></br>\n",
    "<br></br>\n",
    "># **Scaling**"
   ]
  },
  {
   "cell_type": "code",
   "execution_count": 62,
   "id": "68cf778b",
   "metadata": {
    "ExecuteTime": {
     "end_time": "2022-03-16T10:28:55.931325Z",
     "start_time": "2022-03-16T10:28:55.885337Z"
    }
   },
   "outputs": [
    {
     "name": "stdout",
     "output_type": "stream",
     "text": [
      "['sensor_1' 'sensor_2' 'sensor_3' 'sensor_4' 'sensor_5' 'sensor_6'\n",
      " 'sensor_7' 'sensor_8' 'sensor_9' 'sensor_10' 'sensor_11' 'sensor_12'\n",
      " 'sensor_13' 'sensor_14' 'sensor_15' 'sensor_16' 'sensor_17' 'sensor_18'\n",
      " 'sensor_19' 'sensor_20'] ...\n"
     ]
    }
   ],
   "source": [
    "selected_var = [x for x in train8.columns if x.find('sensor_')>=0]\n",
    "scale_var = train8[selected_var].\\\n",
    "    select_dtypes(exclude=['category']).\\\n",
    "    columns.\\\n",
    "    to_numpy()\n",
    "\n",
    "print(scale_var[:20], '...')"
   ]
  },
  {
   "cell_type": "markdown",
   "id": "6e2fa6d3",
   "metadata": {},
   "source": [
    "<br></br>\n",
    "scaling 대상 변수들의 boundary 확인"
   ]
  },
  {
   "cell_type": "code",
   "execution_count": 63,
   "id": "00fae732",
   "metadata": {
    "ExecuteTime": {
     "end_time": "2022-03-16T10:28:55.947323Z",
     "start_time": "2022-03-16T10:28:55.932325Z"
    },
    "scrolled": true
   },
   "outputs": [],
   "source": [
    "if SCALE:\n",
    "    \n",
    "    res = []\n",
    "    for iter,var in enumerate(scale_var):\n",
    "        res_x = (var,minmax(train8[var],1),minmax(test8[var],1))\n",
    "        res.append(res_x)\n",
    "        \n",
    "    display(View(pd.DataFrame(res,columns=['var','tr_minmax','te_minmax'])))"
   ]
  },
  {
   "cell_type": "markdown",
   "id": "7c2da6f3",
   "metadata": {},
   "source": [
    "test가 train의 범위를 벗어나는 것이 있음."
   ]
  },
  {
   "cell_type": "markdown",
   "id": "ac8e287a",
   "metadata": {},
   "source": [
    "<br></br>\n",
    "## Base"
   ]
  },
  {
   "cell_type": "code",
   "execution_count": 64,
   "id": "a3a7f41e",
   "metadata": {
    "ExecuteTime": {
     "end_time": "2022-03-16T10:28:55.963315Z",
     "start_time": "2022-03-16T10:28:55.948322Z"
    }
   },
   "outputs": [],
   "source": [
    "if SCALE_CHECK:\n",
    "\n",
    "    if INTERACTION_CHECK:\n",
    "        if INTERACTION:\n",
    "            automl_base = automl_interaction\n",
    "        else:\n",
    "            automl_base = automl_nointeraction\n",
    "            \n",
    "    else:\n",
    "    \n",
    "        automl_base = AUTOML_COMP(train = train8,\n",
    "                                  test  = None,\n",
    "                                  target = 'target',\n",
    "                                  objective = 'binary',\n",
    "                                  ignore_features = ['id'],\n",
    "                                  scoring = None,\n",
    "                                  iterations = 200,\n",
    "                                  n_splits = 5,\n",
    "                                  fit_model = True)"
   ]
  },
  {
   "cell_type": "markdown",
   "id": "46465feb",
   "metadata": {},
   "source": [
    "<br></br>\n",
    "## Normalization (MinMaxScaler)"
   ]
  },
  {
   "cell_type": "code",
   "execution_count": 65,
   "id": "2fd7b422",
   "metadata": {
    "ExecuteTime": {
     "end_time": "2022-03-16T10:28:55.979307Z",
     "start_time": "2022-03-16T10:28:55.964300Z"
    }
   },
   "outputs": [],
   "source": [
    "if SCALE_CHECK:\n",
    "\n",
    "    scale_df = train8.copy()\n",
    "    \n",
    "    # Normalization\n",
    "    scaler = MinMaxScaler()\n",
    "    scaler.fit(scale_df[scale_var])\n",
    "\n",
    "    scale_df[scale_var] = scaler.transform(scale_df[scale_var])\n",
    "\n",
    "    automl_norm = AUTOML_COMP(train = scale_df,\n",
    "                              test = None,\n",
    "                              target = 'target',\n",
    "                              objective = 'binary',\n",
    "                              ignore_features = ['id'],\n",
    "                              scoring = None,\n",
    "                              iterations = 200,\n",
    "                              n_splits = 5,\n",
    "                              fit_model = True)"
   ]
  },
  {
   "cell_type": "markdown",
   "id": "b17ea603",
   "metadata": {},
   "source": [
    "<br></br>\n",
    "## Standardization (StandardScaler)"
   ]
  },
  {
   "cell_type": "code",
   "execution_count": 66,
   "id": "fa0e1b4c",
   "metadata": {
    "ExecuteTime": {
     "end_time": "2022-03-16T10:28:55.995302Z",
     "start_time": "2022-03-16T10:28:55.981294Z"
    }
   },
   "outputs": [],
   "source": [
    "if SCALE_CHECK:\n",
    "\n",
    "    scale_df = train8.copy()\n",
    "    \n",
    "    # Normalization\n",
    "    scaler = StandardScaler()\n",
    "    scaler.fit(scale_df[scale_var])\n",
    "\n",
    "    scale_df[scale_var] = scaler.transform(scale_df[scale_var])\n",
    "\n",
    "    automl_std = AUTOML_COMP(train = scale_df,\n",
    "                              test = None,\n",
    "                              target = 'target',\n",
    "                              objective = 'binary',\n",
    "                              ignore_features = ['id'],\n",
    "                              scoring = None,\n",
    "                              iterations = 200,\n",
    "                              n_splits = 5,\n",
    "                              fit_model = True)"
   ]
  },
  {
   "cell_type": "markdown",
   "id": "45b11d46",
   "metadata": {},
   "source": [
    "<br></br>\n",
    "## Robust (RobustScaler)"
   ]
  },
  {
   "cell_type": "code",
   "execution_count": 67,
   "id": "c1ec85e4",
   "metadata": {
    "ExecuteTime": {
     "end_time": "2022-03-16T10:28:56.011280Z",
     "start_time": "2022-03-16T10:28:55.996290Z"
    }
   },
   "outputs": [],
   "source": [
    "if SCALE_CHECK:\n",
    "\n",
    "    scale_df = train8.copy()\n",
    "    \n",
    "    # Normalization\n",
    "    scaler = RobustScaler()\n",
    "    scaler.fit(scale_df[scale_var])\n",
    "\n",
    "    scale_df[scale_var] = scaler.transform(scale_df[scale_var])\n",
    "\n",
    "    automl_rob = AUTOML_COMP(train = scale_df,\n",
    "                              test = None,\n",
    "                              target = 'target',\n",
    "                              objective = 'binary',\n",
    "                              ignore_features = ['id'],\n",
    "                              scoring = None,\n",
    "                              iterations = 200,\n",
    "                              n_splits = 5,\n",
    "                              fit_model = True)"
   ]
  },
  {
   "cell_type": "markdown",
   "id": "b19a2b36",
   "metadata": {},
   "source": [
    "<br></br>\n",
    "## Comparision"
   ]
  },
  {
   "cell_type": "code",
   "execution_count": 68,
   "id": "8460d00f",
   "metadata": {
    "ExecuteTime": {
     "end_time": "2022-03-16T10:28:56.027273Z",
     "start_time": "2022-03-16T10:28:56.012279Z"
    }
   },
   "outputs": [],
   "source": [
    "if SCALE_CHECK:\n",
    "    \n",
    "    comp_df = pd.DataFrame({\n",
    "        'model' : [name for name,model in automl_base['model']],\n",
    "        'base'  : [np.mean(res) for res in automl_base['cv_result']],\n",
    "        'norm'  : [np.mean(res) for res in automl_norm['cv_result']],\n",
    "        'std'   : [np.mean(res) for res in automl_std ['cv_result']],\n",
    "        'rob'   : [np.mean(res) for res in automl_rob ['cv_result']],\n",
    "    })\n",
    "    comp_df['res1'] = comp_df['norm'] - comp_df['base']\n",
    "    comp_df['res2'] = comp_df['std' ] - comp_df['base']\n",
    "    comp_df['res3'] = comp_df['rob' ] - comp_df['base']\n",
    "    \n",
    "    comp_df['res_max'] = comp_df[['res1','res2','res3']].apply(lambda x: max(x), axis=1)\n",
    "    comp_df['res_min'] = comp_df[['res1','res2','res3']].apply(lambda x: min(x), axis=1)\n",
    "    comp_df = comp_df.drop(['res1','res2','res3'],axis=1)\n",
    "    \n",
    "    comp_df = comp_df.sort_values(['base'],ascending = False).reset_index(drop=True)\n",
    "\n",
    "    print(round(comp_df,3))"
   ]
  },
  {
   "cell_type": "markdown",
   "id": "312bf85a",
   "metadata": {},
   "source": [
    "상위 모델들은 크게 차이나지 않음.\n",
    "<br></br>"
   ]
  },
  {
   "cell_type": "code",
   "execution_count": 69,
   "id": "adb1d125",
   "metadata": {
    "ExecuteTime": {
     "end_time": "2022-03-16T10:28:56.059259Z",
     "start_time": "2022-03-16T10:28:56.028273Z"
    }
   },
   "outputs": [],
   "source": [
    "if SCALE:\n",
    "\n",
    "    # Normalization\n",
    "    scaler = RobustScaler()\n",
    "    scaler.fit(train8[scale_var])\n",
    "    # print(scaler.n_samples_seen_, scaler.data_min_, scaler.data_max_, scaler.feature_range)\n",
    "\n",
    "    train9 = train8.copy()\n",
    "    test9  = test8 .copy()\n",
    "\n",
    "    train9[scale_var] = scaler.transform(train9[scale_var])\n",
    "    test9 [scale_var] = scaler.transform(test9 [scale_var])\n",
    "    \n",
    "    minmax_df = test9[scale_var].apply(lambda x: minmax(x))\n",
    "    minmax_df.index = ['min','max']\n",
    "    \n",
    "    print(color.BOLD + color.BLUE + '> Robust Scaling' + color.END)\n",
    "    print(minmax_df.T)\n",
    "    \n",
    "else:\n",
    "    train9 = train8.copy()\n",
    "    test9  = test8. copy()"
   ]
  },
  {
   "cell_type": "markdown",
   "id": "58eab76f",
   "metadata": {},
   "source": [
    "<br></br>\n",
    "<br></br>\n",
    "># **Final Dataset**"
   ]
  },
  {
   "cell_type": "code",
   "execution_count": 91,
   "id": "59d443d4",
   "metadata": {
    "ExecuteTime": {
     "end_time": "2022-03-16T10:38:26.902600Z",
     "start_time": "2022-03-16T10:38:26.859620Z"
    }
   },
   "outputs": [],
   "source": [
    "train10 = train9.copy()\n",
    "test10  = test9 .copy()"
   ]
  },
  {
   "cell_type": "code",
   "execution_count": 92,
   "id": "690ee247",
   "metadata": {
    "ExecuteTime": {
     "end_time": "2022-03-16T10:38:26.918593Z",
     "start_time": "2022-03-16T10:38:26.904600Z"
    }
   },
   "outputs": [],
   "source": [
    "train10['target'] = train10['target'].astype(int)"
   ]
  },
  {
   "cell_type": "code",
   "execution_count": 93,
   "id": "003f0e14",
   "metadata": {
    "ExecuteTime": {
     "end_time": "2022-03-16T10:38:28.039093Z",
     "start_time": "2022-03-16T10:38:26.920593Z"
    }
   },
   "outputs": [],
   "source": [
    "for col in [x for x in train10.columns if x.find('sensor')>=0]:\n",
    "    train10[f'indicator_{col}'] = np.where(train10[col]>0,1,0)\n",
    "    test10 [f'indicator_{col}'] = np.where(test10 [col]>0,1,0)"
   ]
  },
  {
   "cell_type": "code",
   "execution_count": 72,
   "id": "aaff7f92",
   "metadata": {
    "ExecuteTime": {
     "end_time": "2022-03-16T10:28:56.123230Z",
     "start_time": "2022-03-16T10:28:56.108236Z"
    }
   },
   "outputs": [],
   "source": [
    "# del train, train2, train3, train4, train5, train6, train7, train8 , train9\n",
    "# del test , test2 , test3 , test4 , test5 , test6 , test7 , test8  , test9"
   ]
  },
  {
   "cell_type": "code",
   "execution_count": 94,
   "id": "d57182d4",
   "metadata": {
    "ExecuteTime": {
     "end_time": "2022-03-16T10:38:32.690947Z",
     "start_time": "2022-03-16T10:38:32.661951Z"
    }
   },
   "outputs": [
    {
     "data": {
      "text/html": [
       "<div>\n",
       "<style scoped>\n",
       "    .dataframe tbody tr th:only-of-type {\n",
       "        vertical-align: middle;\n",
       "    }\n",
       "\n",
       "    .dataframe tbody tr th {\n",
       "        vertical-align: top;\n",
       "    }\n",
       "\n",
       "    .dataframe thead th {\n",
       "        text-align: right;\n",
       "    }\n",
       "</style>\n",
       "<table border=\"1\" class=\"dataframe\">\n",
       "  <thead>\n",
       "    <tr style=\"text-align: right;\">\n",
       "      <th></th>\n",
       "      <th>id</th>\n",
       "      <th>sensor_1</th>\n",
       "      <th>sensor_2</th>\n",
       "      <th>sensor_3</th>\n",
       "      <th>sensor_4</th>\n",
       "      <th>sensor_5</th>\n",
       "      <th>sensor_6</th>\n",
       "      <th>sensor_7</th>\n",
       "      <th>sensor_8</th>\n",
       "      <th>sensor_9</th>\n",
       "      <th>...</th>\n",
       "      <th>indicator_sensor_15*sensor_15</th>\n",
       "      <th>indicator_sensor_15*sensor_5</th>\n",
       "      <th>indicator_sensor_15*sensor_2</th>\n",
       "      <th>indicator_sensor_15*sensor_19</th>\n",
       "      <th>indicator_sensor_5*sensor_5</th>\n",
       "      <th>indicator_sensor_5*sensor_2</th>\n",
       "      <th>indicator_sensor_5*sensor_19</th>\n",
       "      <th>indicator_sensor_2*sensor_2</th>\n",
       "      <th>indicator_sensor_2*sensor_19</th>\n",
       "      <th>indicator_sensor_19*sensor_19</th>\n",
       "    </tr>\n",
       "  </thead>\n",
       "  <tbody>\n",
       "    <tr>\n",
       "      <th>0</th>\n",
       "      <td>1</td>\n",
       "      <td>-6.149463</td>\n",
       "      <td>-0.929714</td>\n",
       "      <td>9.058368</td>\n",
       "      <td>-7.017854</td>\n",
       "      <td>-2.958471</td>\n",
       "      <td>0.179233</td>\n",
       "      <td>-0.956591</td>\n",
       "      <td>-0.972401</td>\n",
       "      <td>5.956213</td>\n",
       "      <td>...</td>\n",
       "      <td>1</td>\n",
       "      <td>1</td>\n",
       "      <td>1</td>\n",
       "      <td>1</td>\n",
       "      <td>1</td>\n",
       "      <td>1</td>\n",
       "      <td>1</td>\n",
       "      <td>1</td>\n",
       "      <td>1</td>\n",
       "      <td>1</td>\n",
       "    </tr>\n",
       "    <tr>\n",
       "      <th>1</th>\n",
       "      <td>2</td>\n",
       "      <td>-2.238836</td>\n",
       "      <td>-1.003511</td>\n",
       "      <td>5.098079</td>\n",
       "      <td>-10.880357</td>\n",
       "      <td>-0.804562</td>\n",
       "      <td>-2.992123</td>\n",
       "      <td>26.972724</td>\n",
       "      <td>-8.900861</td>\n",
       "      <td>-5.968298</td>\n",
       "      <td>...</td>\n",
       "      <td>1</td>\n",
       "      <td>1</td>\n",
       "      <td>1</td>\n",
       "      <td>0</td>\n",
       "      <td>1</td>\n",
       "      <td>1</td>\n",
       "      <td>0</td>\n",
       "      <td>1</td>\n",
       "      <td>0</td>\n",
       "      <td>1</td>\n",
       "    </tr>\n",
       "    <tr>\n",
       "      <th>2</th>\n",
       "      <td>3</td>\n",
       "      <td>19.087934</td>\n",
       "      <td>-2.092514</td>\n",
       "      <td>0.946750</td>\n",
       "      <td>-21.831788</td>\n",
       "      <td>9.119235</td>\n",
       "      <td>17.853587</td>\n",
       "      <td>-21.069954</td>\n",
       "      <td>-15.933212</td>\n",
       "      <td>-9.016039</td>\n",
       "      <td>...</td>\n",
       "      <td>1</td>\n",
       "      <td>0</td>\n",
       "      <td>1</td>\n",
       "      <td>1</td>\n",
       "      <td>1</td>\n",
       "      <td>0</td>\n",
       "      <td>0</td>\n",
       "      <td>1</td>\n",
       "      <td>1</td>\n",
       "      <td>1</td>\n",
       "    </tr>\n",
       "    <tr>\n",
       "      <th>3</th>\n",
       "      <td>4</td>\n",
       "      <td>-2.211629</td>\n",
       "      <td>-1.930904</td>\n",
       "      <td>21.888406</td>\n",
       "      <td>-3.067560</td>\n",
       "      <td>-0.240634</td>\n",
       "      <td>2.985056</td>\n",
       "      <td>-29.073369</td>\n",
       "      <td>0.200774</td>\n",
       "      <td>-1.043742</td>\n",
       "      <td>...</td>\n",
       "      <td>1</td>\n",
       "      <td>0</td>\n",
       "      <td>0</td>\n",
       "      <td>1</td>\n",
       "      <td>1</td>\n",
       "      <td>1</td>\n",
       "      <td>0</td>\n",
       "      <td>1</td>\n",
       "      <td>0</td>\n",
       "      <td>1</td>\n",
       "    </tr>\n",
       "    <tr>\n",
       "      <th>4</th>\n",
       "      <td>5</td>\n",
       "      <td>3.953852</td>\n",
       "      <td>2.964892</td>\n",
       "      <td>-36.044802</td>\n",
       "      <td>0.899838</td>\n",
       "      <td>26.930210</td>\n",
       "      <td>11.004409</td>\n",
       "      <td>-21.962423</td>\n",
       "      <td>-11.950189</td>\n",
       "      <td>-20.933785</td>\n",
       "      <td>...</td>\n",
       "      <td>1</td>\n",
       "      <td>0</td>\n",
       "      <td>0</td>\n",
       "      <td>1</td>\n",
       "      <td>1</td>\n",
       "      <td>1</td>\n",
       "      <td>0</td>\n",
       "      <td>1</td>\n",
       "      <td>0</td>\n",
       "      <td>1</td>\n",
       "    </tr>\n",
       "  </tbody>\n",
       "</table>\n",
       "<p>5 rows × 1122 columns</p>\n",
       "</div>"
      ],
      "text/plain": [
       "  id   sensor_1  sensor_2   sensor_3   sensor_4   sensor_5   sensor_6  \\\n",
       "0  1  -6.149463 -0.929714   9.058368  -7.017854  -2.958471   0.179233   \n",
       "1  2  -2.238836 -1.003511   5.098079 -10.880357  -0.804562  -2.992123   \n",
       "2  3  19.087934 -2.092514   0.946750 -21.831788   9.119235  17.853587   \n",
       "3  4  -2.211629 -1.930904  21.888406  -3.067560  -0.240634   2.985056   \n",
       "4  5   3.953852  2.964892 -36.044802   0.899838  26.930210  11.004409   \n",
       "\n",
       "    sensor_7   sensor_8   sensor_9  ...  indicator_sensor_15*sensor_15  \\\n",
       "0  -0.956591  -0.972401   5.956213  ...                              1   \n",
       "1  26.972724  -8.900861  -5.968298  ...                              1   \n",
       "2 -21.069954 -15.933212  -9.016039  ...                              1   \n",
       "3 -29.073369   0.200774  -1.043742  ...                              1   \n",
       "4 -21.962423 -11.950189 -20.933785  ...                              1   \n",
       "\n",
       "   indicator_sensor_15*sensor_5  indicator_sensor_15*sensor_2  \\\n",
       "0                             1                             1   \n",
       "1                             1                             1   \n",
       "2                             0                             1   \n",
       "3                             0                             0   \n",
       "4                             0                             0   \n",
       "\n",
       "   indicator_sensor_15*sensor_19  indicator_sensor_5*sensor_5  \\\n",
       "0                              1                            1   \n",
       "1                              0                            1   \n",
       "2                              1                            1   \n",
       "3                              1                            1   \n",
       "4                              1                            1   \n",
       "\n",
       "   indicator_sensor_5*sensor_2  indicator_sensor_5*sensor_19  \\\n",
       "0                            1                             1   \n",
       "1                            1                             0   \n",
       "2                            0                             0   \n",
       "3                            1                             0   \n",
       "4                            1                             0   \n",
       "\n",
       "   indicator_sensor_2*sensor_2  indicator_sensor_2*sensor_19  \\\n",
       "0                            1                             1   \n",
       "1                            1                             0   \n",
       "2                            1                             1   \n",
       "3                            1                             0   \n",
       "4                            1                             0   \n",
       "\n",
       "   indicator_sensor_19*sensor_19  \n",
       "0                              1  \n",
       "1                              1  \n",
       "2                              1  \n",
       "3                              1  \n",
       "4                              1  \n",
       "\n",
       "[5 rows x 1122 columns]"
      ]
     },
     "execution_count": 94,
     "metadata": {},
     "output_type": "execute_result"
    }
   ],
   "source": [
    "train10.head(5)"
   ]
  },
  {
   "cell_type": "markdown",
   "id": "179bf7bb",
   "metadata": {},
   "source": [
    "<br></br>\n",
    "model compare"
   ]
  },
  {
   "cell_type": "code",
   "execution_count": null,
   "id": "8d2842c3",
   "metadata": {
    "ExecuteTime": {
     "end_time": "2022-02-18T17:02:58.577709Z",
     "start_time": "2022-02-18T17:02:58.561708Z"
    }
   },
   "outputs": [],
   "source": [
    "# conda install -c conda-forge pycaret\n",
    "# conda install -c conda-forge scikit-plot"
   ]
  },
  {
   "cell_type": "code",
   "execution_count": null,
   "id": "9977e5ac",
   "metadata": {
    "ExecuteTime": {
     "end_time": "2022-03-07T16:35:31.328353Z",
     "start_time": "2022-03-07T16:35:31.319386Z"
    }
   },
   "outputs": [],
   "source": [
    "df = train10.drop(['id'],axis=1)"
   ]
  },
  {
   "cell_type": "code",
   "execution_count": null,
   "id": "d2fc09d4",
   "metadata": {
    "ExecuteTime": {
     "end_time": "2022-03-07T16:35:45.597249Z",
     "start_time": "2022-03-07T16:35:45.592261Z"
    }
   },
   "outputs": [],
   "source": [
    "from pycaret.classification import *\n",
    "\n",
    "clf1 = setup(data = df,\n",
    "             silent = True,\n",
    "             target = 'target',\n",
    "             fold_shuffle=True,\n",
    "             session_id = 20201809,\n",
    "             n_jobs = 4)"
   ]
  },
  {
   "cell_type": "code",
   "execution_count": null,
   "id": "4f3434c1",
   "metadata": {},
   "outputs": [],
   "source": [
    "best = compare_models(n_select=3, fold = 10) #상위 모델 3개를 선택합니다"
   ]
  },
  {
   "cell_type": "code",
   "execution_count": null,
   "id": "9ed17ae2",
   "metadata": {},
   "outputs": [],
   "source": [
    "blend_3_soft = blend_models(estimator_list=best, method='soft', choose_better = True)\n",
    "predict_model(blend_3_soft).head(10)"
   ]
  },
  {
   "cell_type": "code",
   "execution_count": null,
   "id": "ed06ce9e",
   "metadata": {},
   "outputs": [],
   "source": [
    "final_blend_3_soft = finalize_model(blend_3_soft)\n",
    "prediction = predict_model(final_blend_3_soft, data = data_test)\n",
    "\n",
    "print(prediction[\"Label\"])"
   ]
  },
  {
   "cell_type": "code",
   "execution_count": null,
   "id": "8d2e05bb",
   "metadata": {},
   "outputs": [],
   "source": [
    "sub['target'] = prediction['Label']\n",
    "sub.head()"
   ]
  },
  {
   "cell_type": "markdown",
   "id": "ac374fc0",
   "metadata": {},
   "source": [
    "<br></br>\n",
    "<br></br>\n",
    "># **Modelling - LGBM**"
   ]
  },
  {
   "cell_type": "markdown",
   "id": "ab8aaa3e",
   "metadata": {},
   "source": [
    "<br></br>\n",
    "## LGBM setting with Optuna"
   ]
  },
  {
   "cell_type": "code",
   "execution_count": 95,
   "id": "0b6fb337",
   "metadata": {
    "ExecuteTime": {
     "end_time": "2022-03-16T10:38:43.384418Z",
     "start_time": "2022-03-16T10:38:43.371414Z"
    }
   },
   "outputs": [],
   "source": [
    "def acc_fn(true,pred):\n",
    "    acc = np.where(true==pred,1,0).sum() / len(true)\n",
    "    return(acc)"
   ]
  },
  {
   "cell_type": "code",
   "execution_count": 96,
   "id": "d0d0bfa0",
   "metadata": {
    "ExecuteTime": {
     "end_time": "2022-03-16T10:38:43.400400Z",
     "start_time": "2022-03-16T10:38:43.385407Z"
    }
   },
   "outputs": [],
   "source": [
    "import optuna\n",
    "from optuna.integration import LightGBMPruningCallback\n",
    "\n",
    "def objective_lgb(trial, _X, _y, objective, n_split = 5, seed = SEED):\n",
    "    \n",
    "    # set reg options\n",
    "    if objective=='regression':\n",
    "        ML = lgb.LGBMRegressor\n",
    "    elif objective in ['binary','multiclass']:\n",
    "        ML = lgb.LGBMClassifier\n",
    "    \n",
    "    # optuna hyper-parameter grid\n",
    "    param_grid = {\n",
    "        # \"device_type\": trial.suggest_categorical(\"device_type\", ['gpu']),\n",
    "        'num_iterations': 1000,\n",
    "        'learning_rate': trial.suggest_loguniform('learning_rate', 1e-8, 1),\n",
    "        'num_leaves': trial.suggest_int('num_leaves', 5, 800, step=5),\n",
    "        'max_depth': trial.suggest_int('max_depth', 1, 30, step=2),\n",
    "        'min_data_in_leaf': trial.suggest_int('min_data_in_leaf', 0, 1000, step=50),\n",
    "        'lambda_l1': trial.suggest_int('lambda_l1', 0, 100, step=5),\n",
    "        'lambda_l2': trial.suggest_int('lambda_l2', 0, 100, step=5),\n",
    "        'min_gain_to_split': trial.suggest_float('min_gain_to_split', 1, 30, step=3),\n",
    "        'bagging_fraction': trial.suggest_float('bagging_fraction', 0.1, 0.99, step=0.1),\n",
    "        'bagging_freq': trial.suggest_categorical('bagging_freq',[1]),\n",
    "        'feature_fraction': trial.suggest_float('feature_fraction', 0.1, 0.99, step=0.1),\n",
    "        'n_estimators': trial.suggest_int('n_estimators', 10, 3000, step=5),\n",
    "        \n",
    "        'min_child_weight': trial.suggest_float('min_child_weight', 0.01, 0.99, step=0.01),\n",
    "        'reg_alpha': trial.suggest_float('reg_alpha', 0.01, 0.99 ,step=0.01),\n",
    "        'reg_lambda': trial.suggest_float('reg_lambda', 0.01, 0.99 ,step=0.01),\n",
    "        \n",
    "        'min_child_samples': trial.suggest_int('min_child_samples', 5, 100),\n",
    "        'seed': seed,\n",
    "        'feature_fraction_seed': seed,\n",
    "        'bagging_seed': seed,\n",
    "        'drop_seed': seed,\n",
    "        'data_random_seed': seed,\n",
    "        \n",
    "        'boosting': 'gbdt', \n",
    "        'boosting_type' : 'dart',\n",
    "        'verbose': -1,\n",
    "        #'verbose_eval': -1,\n",
    "        'boost_from_average': True,\n",
    "        \n",
    "        # -1 : all cpu\n",
    "        'n_jobs': -1,\n",
    "        \n",
    "        'objective' : objective,\n",
    "    }\n",
    "    \n",
    "    if objective=='multiclass':\n",
    "        param_grid['num_class'] = 4\n",
    "    \n",
    "    # cross validation\n",
    "    cv = StratifiedKFold(n_splits=n_split, shuffle=False)#, random_state=SEED)\n",
    "\n",
    "    # cross validation score\n",
    "    cv_scores = np.empty(n_split)\n",
    "    \n",
    "    # cv를 통해서 lgb적합해서 최적의 hyper-parameter 확인\n",
    "    for idx, (_train_idx, _test_idx) in enumerate(cv.split(_X, _y)):\n",
    "        _X_train, _X_test = _X.iloc[_train_idx], _X.iloc[_test_idx]\n",
    "        _y_train, _y_test = _y[_train_idx], _y[_test_idx]\n",
    "\n",
    "        model = ML(**param_grid)\n",
    "        model.fit(\n",
    "            _X_train,\n",
    "            _y_train,\n",
    "            verbose = -1,\n",
    "            eval_set=[(_X_test, _y_test)],\n",
    "            early_stopping_rounds=30,\n",
    "#             eval_metric='multi_logloss',\n",
    "#             callbacks=[\n",
    "#                 LightGBMPruningCallback(trial, 'multi_logloss')\n",
    "#             ],  # Add a pruning callback\n",
    "        )\n",
    "        _preds = model.predict(_X_test)\n",
    "        cv_scores[idx] = acc_fn(_y_test, _preds)\n",
    "\n",
    "    return np.mean(cv_scores)"
   ]
  },
  {
   "cell_type": "code",
   "execution_count": 97,
   "id": "5e0e1d3d",
   "metadata": {
    "ExecuteTime": {
     "end_time": "2022-03-16T10:38:43.416402Z",
     "start_time": "2022-03-16T10:38:43.401400Z"
    }
   },
   "outputs": [],
   "source": [
    "def rfe(x_train, x_val, y_train, y_val, method, param_grid, objective='regression', step=5, min_feats=40):\n",
    "    import datetime\n",
    "    \n",
    "    # set reg options\n",
    "    if objective=='regression':\n",
    "        ML = lgb.LGBMRegressor\n",
    "    elif objective in ['binary','multiclass']:\n",
    "        ML = lgb.LGBMClassifier\n",
    "    \n",
    "    feats = x_train.columns.tolist()\n",
    "    archive = pd.DataFrame(columns=['model', 'n_feats', 'feats', 'score'])\n",
    "    \n",
    "    while True:\n",
    "        model = ML(**param_grid)\n",
    "        \n",
    "        model.fit(x_train[feats], y_train, \n",
    "                  eval_set=[(x_val[feats], y_val)], \n",
    "                  early_stopping_rounds=100, verbose=False)\n",
    "        val_pred = model.predict(x_val[feats])\n",
    "        score = acc_fn(val_pred, y_val)\n",
    "        \n",
    "        n_feats = len(feats)\n",
    "        print(f'n_feats : {n_feats}, score : {score:.5f}, sysdate : {datetime.datetime.now()}')\n",
    "        archive = archive.append({'model': model, 'n_feats': n_feats, 'feats': feats, 'score': score}, ignore_index=True)\n",
    "        \n",
    "        if method == 'basic':\n",
    "            feat_imp = pd.Series(model.feature_importances_, index=feats).sort_values(ascending=False)\n",
    "        elif method == 'perm':\n",
    "            perm = PermutationImportance(model, random_state=0).fit(x_val, y_val)\n",
    "            feat_imp = pd.Series(perm.feature_importances_, index=feats).sort_values(ascending=False)\n",
    "        elif method == 'shap':\n",
    "            import shap\n",
    "            explainer = shap.TreeExplainer(model)\n",
    "            shap_values = explainer.shap_values(x_data[feats])\n",
    "            feat_imp = pd.Series(np.abs(shap_values).mean(axis=0), index=feats).sort_values(ascending=False)\n",
    "        next_n_feats = int(n_feats - step)\n",
    "        if next_n_feats < min_feats:\n",
    "            break\n",
    "        else:\n",
    "            feats = feat_imp.iloc[:next_n_feats].index.tolist()\n",
    "    return archive"
   ]
  },
  {
   "cell_type": "code",
   "execution_count": 98,
   "id": "3414be0a",
   "metadata": {
    "ExecuteTime": {
     "end_time": "2022-03-16T10:38:43.432386Z",
     "start_time": "2022-03-16T10:38:43.418402Z"
    }
   },
   "outputs": [],
   "source": [
    "param_grid = {\n",
    "    'feature_fraction_seed': SEED,\n",
    "    'bagging_seed': SEED,\n",
    "    'drop_seed': SEED,\n",
    "    'data_random_seed': SEED,\n",
    "    'random_state': SEED,\n",
    "    'num_iterations':1000,\n",
    "\n",
    "    'verbose': -1,\n",
    "    #'verbose_eval': -1,\n",
    "    'boost_from_average': True,\n",
    "\n",
    "    # -1 : all cpu\n",
    "    'n_jobs': -1,\n",
    "\n",
    "    'boosting': 'gbdt', \n",
    "    'objective' : OBJECTIVE,\n",
    "    'num_class' : train10['target'].nunique(),\n",
    "}"
   ]
  },
  {
   "cell_type": "markdown",
   "id": "60bbfb7f",
   "metadata": {},
   "source": [
    "<br></br>\n",
    "## basic"
   ]
  },
  {
   "cell_type": "code",
   "execution_count": 99,
   "id": "2b073cff",
   "metadata": {
    "ExecuteTime": {
     "end_time": "2022-03-16T10:38:43.558330Z",
     "start_time": "2022-03-16T10:38:43.433386Z"
    }
   },
   "outputs": [],
   "source": [
    "train_df = train10.copy()\n",
    "test_df  = test10 .copy()\n",
    "\n",
    "drop_var = ['id','target'] #+ [col for col in train10.columns if col.find('_id')>=0]\n",
    "features = setdiff(train_df.columns,drop_var)\n",
    "\n",
    "X = train_df[features]\n",
    "y = train_df['target']\n",
    "\n",
    "X_train, X_valid, y_train, y_valid = train_test_split(X, y, test_size=0.3, shuffle=False, random_state=SEED)\n",
    "X_test = test_df[features]"
   ]
  },
  {
   "cell_type": "code",
   "execution_count": 101,
   "id": "880528f5",
   "metadata": {
    "ExecuteTime": {
     "end_time": "2022-03-16T10:39:23.294335Z",
     "start_time": "2022-03-16T10:38:58.045223Z"
    }
   },
   "outputs": [
    {
     "name": "stdout",
     "output_type": "stream",
     "text": [
      "[LightGBM] [Warning] boosting is set=gbdt, boosting_type=gbdt will be ignored. Current value: boosting=gbdt\n"
     ]
    },
    {
     "data": {
      "text/plain": [
       "LGBMClassifier(bagging_seed=777, boost_from_average=True, boosting='gbdt',\n",
       "               data_random_seed=777, drop_seed=777, feature_fraction_seed=777,\n",
       "               num_class=4, num_iterations=1000, objective='multiclass',\n",
       "               random_state=777, verbose=-1)"
      ]
     },
     "execution_count": 101,
     "metadata": {},
     "output_type": "execute_result"
    }
   ],
   "source": [
    "model = lgb.LGBMClassifier(**param_grid)\n",
    "model.fit(X_train, y_train, \n",
    "          eval_set=[(X_valid, y_valid)], \n",
    "          early_stopping_rounds=100, verbose=False)"
   ]
  },
  {
   "cell_type": "code",
   "execution_count": 102,
   "id": "3a3af74e",
   "metadata": {
    "ExecuteTime": {
     "end_time": "2022-03-16T10:39:25.083412Z",
     "start_time": "2022-03-16T10:39:25.027440Z"
    }
   },
   "outputs": [
    {
     "name": "stdout",
     "output_type": "stream",
     "text": [
      "Accuracy : 0.806\n"
     ]
    },
    {
     "data": {
      "text/html": [
       "<div>\n",
       "<style scoped>\n",
       "    .dataframe tbody tr th:only-of-type {\n",
       "        vertical-align: middle;\n",
       "    }\n",
       "\n",
       "    .dataframe tbody tr th {\n",
       "        vertical-align: top;\n",
       "    }\n",
       "\n",
       "    .dataframe thead th {\n",
       "        text-align: right;\n",
       "    }\n",
       "</style>\n",
       "<table border=\"1\" class=\"dataframe\">\n",
       "  <thead>\n",
       "    <tr style=\"text-align: right;\">\n",
       "      <th>col_0</th>\n",
       "      <th>0</th>\n",
       "      <th>1</th>\n",
       "      <th>2</th>\n",
       "      <th>3</th>\n",
       "    </tr>\n",
       "    <tr>\n",
       "      <th>row_0</th>\n",
       "      <th></th>\n",
       "      <th></th>\n",
       "      <th></th>\n",
       "      <th></th>\n",
       "    </tr>\n",
       "  </thead>\n",
       "  <tbody>\n",
       "    <tr>\n",
       "      <th>0</th>\n",
       "      <td>128</td>\n",
       "      <td>3</td>\n",
       "      <td>2</td>\n",
       "      <td>15</td>\n",
       "    </tr>\n",
       "    <tr>\n",
       "      <th>1</th>\n",
       "      <td>9</td>\n",
       "      <td>140</td>\n",
       "      <td>6</td>\n",
       "      <td>27</td>\n",
       "    </tr>\n",
       "    <tr>\n",
       "      <th>2</th>\n",
       "      <td>33</td>\n",
       "      <td>10</td>\n",
       "      <td>171</td>\n",
       "      <td>6</td>\n",
       "    </tr>\n",
       "    <tr>\n",
       "      <th>3</th>\n",
       "      <td>5</td>\n",
       "      <td>19</td>\n",
       "      <td>1</td>\n",
       "      <td>126</td>\n",
       "    </tr>\n",
       "  </tbody>\n",
       "</table>\n",
       "</div>"
      ],
      "text/plain": [
       "col_0    0    1    2    3\n",
       "row_0                    \n",
       "0      128    3    2   15\n",
       "1        9  140    6   27\n",
       "2       33   10  171    6\n",
       "3        5   19    1  126"
      ]
     },
     "execution_count": 102,
     "metadata": {},
     "output_type": "execute_result"
    }
   ],
   "source": [
    "y_pred = model.predict(X_valid)\n",
    "acc = np.where(y_pred == y_valid,1,0).sum() / len(y_valid)\n",
    "print(f'Accuracy : {acc:.3f}')\n",
    "\n",
    "pd.crosstab(np.array(y_pred),np.array(y_valid))"
   ]
  },
  {
   "cell_type": "markdown",
   "id": "e3bb4913",
   "metadata": {},
   "source": [
    "<br></br>\n",
    "submission 제출"
   ]
  },
  {
   "cell_type": "code",
   "execution_count": null,
   "id": "ad13847c",
   "metadata": {
    "ExecuteTime": {
     "end_time": "2022-03-07T17:28:26.414473Z",
     "start_time": "2022-03-07T17:28:26.235563Z"
    }
   },
   "outputs": [],
   "source": [
    "y_prob = model.predict(X_test)\n",
    "y_pred = [np.argmax(prob) for prob in y_prob]"
   ]
  },
  {
   "cell_type": "code",
   "execution_count": null,
   "id": "325a5766",
   "metadata": {
    "ExecuteTime": {
     "end_time": "2022-03-07T17:29:56.482600Z",
     "start_time": "2022-03-07T17:29:56.444617Z"
    }
   },
   "outputs": [],
   "source": [
    "sub_fn = sub2.copy()\n",
    "sub_fn['target'] = y_pred\n",
    "\n",
    "sub_fn.to_csv(OUT_PATH + 'submission_lgb_basic.csv',index=False)"
   ]
  },
  {
   "cell_type": "markdown",
   "id": "a1f4c0bc",
   "metadata": {},
   "source": [
    "<br></br>\n",
    "## RFE (Recursive feature elimination)"
   ]
  },
  {
   "cell_type": "code",
   "execution_count": 105,
   "id": "e3a36273",
   "metadata": {
    "ExecuteTime": {
     "end_time": "2022-03-16T10:44:55.264282Z",
     "start_time": "2022-03-16T10:44:55.250289Z"
    }
   },
   "outputs": [
    {
     "data": {
      "text/plain": [
       "((1634, 1120), 22.4)"
      ]
     },
     "execution_count": 105,
     "metadata": {},
     "output_type": "execute_result"
    }
   ],
   "source": [
    "X_train.shape, round(X_train.shape[1] / 50,1)"
   ]
  },
  {
   "cell_type": "code",
   "execution_count": 106,
   "id": "e13e6f11",
   "metadata": {
    "ExecuteTime": {
     "end_time": "2022-03-16T11:04:17.999539Z",
     "start_time": "2022-03-16T10:45:02.393979Z"
    }
   },
   "outputs": [
    {
     "name": "stdout",
     "output_type": "stream",
     "text": [
      "[LightGBM] [Warning] boosting is set=gbdt, boosting_type=gbdt will be ignored. Current value: boosting=gbdt\n",
      "n_feats : 1120, score : 0.80599, sysdate : 2022-03-16 19:45:45.481708\n",
      "[LightGBM] [Warning] boosting is set=gbdt, boosting_type=gbdt will be ignored. Current value: boosting=gbdt\n",
      "n_feats : 1070, score : 0.79601, sysdate : 2022-03-16 19:46:52.530493\n",
      "[LightGBM] [Warning] boosting is set=gbdt, boosting_type=gbdt will be ignored. Current value: boosting=gbdt\n",
      "n_feats : 1020, score : 0.79601, sysdate : 2022-03-16 19:47:57.443408\n",
      "[LightGBM] [Warning] boosting is set=gbdt, boosting_type=gbdt will be ignored. Current value: boosting=gbdt\n",
      "n_feats : 970, score : 0.79601, sysdate : 2022-03-16 19:49:01.126253\n",
      "[LightGBM] [Warning] boosting is set=gbdt, boosting_type=gbdt will be ignored. Current value: boosting=gbdt\n",
      "n_feats : 920, score : 0.80884, sysdate : 2022-03-16 19:49:55.389140\n",
      "[LightGBM] [Warning] boosting is set=gbdt, boosting_type=gbdt will be ignored. Current value: boosting=gbdt\n",
      "n_feats : 870, score : 0.80884, sysdate : 2022-03-16 19:50:52.125051\n",
      "[LightGBM] [Warning] boosting is set=gbdt, boosting_type=gbdt will be ignored. Current value: boosting=gbdt\n",
      "n_feats : 820, score : 0.80456, sysdate : 2022-03-16 19:51:33.395922\n",
      "[LightGBM] [Warning] boosting is set=gbdt, boosting_type=gbdt will be ignored. Current value: boosting=gbdt\n",
      "n_feats : 770, score : 0.79743, sysdate : 2022-03-16 19:53:11.615666\n",
      "[LightGBM] [Warning] boosting is set=gbdt, boosting_type=gbdt will be ignored. Current value: boosting=gbdt\n",
      "n_feats : 720, score : 0.80456, sysdate : 2022-03-16 19:55:33.406641\n",
      "[LightGBM] [Warning] boosting is set=gbdt, boosting_type=gbdt will be ignored. Current value: boosting=gbdt\n",
      "n_feats : 670, score : 0.79030, sysdate : 2022-03-16 19:57:14.563323\n",
      "[LightGBM] [Warning] boosting is set=gbdt, boosting_type=gbdt will be ignored. Current value: boosting=gbdt\n",
      "n_feats : 620, score : 0.79601, sysdate : 2022-03-16 19:58:43.040959\n",
      "[LightGBM] [Warning] boosting is set=gbdt, boosting_type=gbdt will be ignored. Current value: boosting=gbdt\n",
      "n_feats : 570, score : 0.80742, sysdate : 2022-03-16 19:59:36.442897\n",
      "[LightGBM] [Warning] boosting is set=gbdt, boosting_type=gbdt will be ignored. Current value: boosting=gbdt\n",
      "n_feats : 520, score : 0.81312, sysdate : 2022-03-16 20:00:20.200949\n",
      "[LightGBM] [Warning] boosting is set=gbdt, boosting_type=gbdt will be ignored. Current value: boosting=gbdt\n",
      "n_feats : 470, score : 0.79886, sysdate : 2022-03-16 20:01:12.079850\n",
      "[LightGBM] [Warning] boosting is set=gbdt, boosting_type=gbdt will be ignored. Current value: boosting=gbdt\n",
      "n_feats : 420, score : 0.80599, sysdate : 2022-03-16 20:02:00.258043\n",
      "[LightGBM] [Warning] boosting is set=gbdt, boosting_type=gbdt will be ignored. Current value: boosting=gbdt\n",
      "n_feats : 370, score : 0.80456, sysdate : 2022-03-16 20:02:35.041743\n",
      "[LightGBM] [Warning] boosting is set=gbdt, boosting_type=gbdt will be ignored. Current value: boosting=gbdt\n",
      "n_feats : 320, score : 0.80742, sysdate : 2022-03-16 20:03:01.171607\n",
      "[LightGBM] [Warning] boosting is set=gbdt, boosting_type=gbdt will be ignored. Current value: boosting=gbdt\n",
      "n_feats : 270, score : 0.79743, sysdate : 2022-03-16 20:03:21.168436\n",
      "[LightGBM] [Warning] boosting is set=gbdt, boosting_type=gbdt will be ignored. Current value: boosting=gbdt\n",
      "n_feats : 220, score : 0.81455, sysdate : 2022-03-16 20:03:49.104655\n",
      "[LightGBM] [Warning] boosting is set=gbdt, boosting_type=gbdt will be ignored. Current value: boosting=gbdt\n",
      "n_feats : 170, score : 0.80884, sysdate : 2022-03-16 20:04:03.708372\n",
      "[LightGBM] [Warning] boosting is set=gbdt, boosting_type=gbdt will be ignored. Current value: boosting=gbdt\n",
      "n_feats : 120, score : 0.82168, sysdate : 2022-03-16 20:04:11.890328\n",
      "[LightGBM] [Warning] boosting is set=gbdt, boosting_type=gbdt will be ignored. Current value: boosting=gbdt\n",
      "n_feats : 70, score : 0.81598, sysdate : 2022-03-16 20:04:17.987543\n"
     ]
    }
   ],
   "source": [
    "archive = rfe(X_train,\n",
    "              X_valid,\n",
    "              y_train,\n",
    "              y_valid,\n",
    "              method = 'basic',\n",
    "              param_grid = param_grid,\n",
    "              objective = 'multiclass',\n",
    "              step = 50,\n",
    "              min_feats = 32)"
   ]
  },
  {
   "cell_type": "code",
   "execution_count": 107,
   "id": "edab332e",
   "metadata": {
    "ExecuteTime": {
     "end_time": "2022-03-16T11:08:31.965756Z",
     "start_time": "2022-03-16T11:08:30.733796Z"
    }
   },
   "outputs": [
    {
     "data": {
      "image/png": "[encoded data removed]",
      "text/plain": [
       "<Figure size 842.4x595.44 with 1 Axes>"
      ]
     },
     "metadata": {},
     "output_type": "display_data"
    }
   ],
   "source": [
    "sns.scatterplot(archive['n_feats'],archive['score'])\n",
    "plt.plot(archive['n_feats'][::-1],archive['score'][::-1])\n",
    "plt.gca().invert_xaxis()\n",
    "# plt.ylim(0.5,1)\n",
    "plt.show()"
   ]
  },
  {
   "cell_type": "code",
   "execution_count": 108,
   "id": "d0676608",
   "metadata": {
    "ExecuteTime": {
     "end_time": "2022-03-16T11:08:38.967074Z",
     "start_time": "2022-03-16T11:08:38.951081Z"
    }
   },
   "outputs": [
    {
     "data": {
      "text/plain": [
       "(0.79, 0.822)"
      ]
     },
     "execution_count": 108,
     "metadata": {},
     "output_type": "execute_result"
    }
   ],
   "source": [
    "minmax(archive['score'], digit=3)"
   ]
  },
  {
   "cell_type": "code",
   "execution_count": 109,
   "id": "4e5f4116",
   "metadata": {
    "ExecuteTime": {
     "end_time": "2022-03-16T11:08:45.284351Z",
     "start_time": "2022-03-16T11:08:45.267358Z"
    }
   },
   "outputs": [],
   "source": [
    "feats = archive['feats'][np.argmax(archive['score'])]\n",
    "\n",
    "X_train_new = X_train[feats]\n",
    "X_valid_new = X_valid[feats]\n",
    "X_test_new  = X_test[feats]"
   ]
  },
  {
   "cell_type": "code",
   "execution_count": 111,
   "id": "4b90b02d",
   "metadata": {
    "ExecuteTime": {
     "end_time": "2022-03-16T11:09:01.673285Z",
     "start_time": "2022-03-16T11:09:01.628305Z"
    }
   },
   "outputs": [],
   "source": [
    "models = []\n",
    "iterations = 3000\n",
    "\n",
    "models.append(('LR', LogisticRegression(\n",
    "    solver='liblinear', multi_class='ovr', random_state=SEED)))\n",
    "models.append(('LDA', LinearDiscriminantAnalysis()))\n",
    "models.append(('KNN', KNeighborsClassifier()))\n",
    "models.append(('CART', DecisionTreeClassifier(random_state=SEED)))\n",
    "models.append(('NB', GaussianNB()))  # Gaussian Naive Bayes\n",
    "models.append(('SVM', SVC(gamma='auto', random_state=SEED)))\n",
    "models.append(('RFC', RandomForestClassifier(random_state=SEED)))\n",
    "models.append(('XGBC', XGBClassifier(\n",
    "    iterations=iterations, verbosity=0, random_state=SEED)))\n",
    "models.append(('LGBMC', LGBMClassifier(random_state=SEED)))\n",
    "models.append(('AdaC', AdaBoostClassifier(random_state=SEED)))\n",
    "models.append(('Cat', CatBoostClassifier(\n",
    "    iterations=iterations, silent=True, random_state=SEED)))"
   ]
  },
  {
   "cell_type": "code",
   "execution_count": 112,
   "id": "298dff95",
   "metadata": {
    "ExecuteTime": {
     "end_time": "2022-03-16T11:09:05.628950Z",
     "start_time": "2022-03-16T11:09:05.614956Z"
    }
   },
   "outputs": [],
   "source": [
    "train_fn = pd.concat([X_train_new,y_train],axis=1)\n",
    "valid_fn = pd.concat([X_valid_new,y_valid],axis=1)\n",
    "test_fn  = X_test_new.copy()"
   ]
  },
  {
   "cell_type": "code",
   "execution_count": 113,
   "id": "eeffd8e3",
   "metadata": {
    "ExecuteTime": {
     "end_time": "2022-03-16T11:09:09.605980Z",
     "start_time": "2022-03-16T11:09:09.591987Z"
    }
   },
   "outputs": [
    {
     "data": {
      "text/plain": [
       "((1634, 120), (701, 120), (9343, 120))"
      ]
     },
     "execution_count": 113,
     "metadata": {},
     "output_type": "execute_result"
    }
   ],
   "source": [
    "X_train_new.shape, X_valid_new.shape, X_test_new.shape"
   ]
  },
  {
   "cell_type": "code",
   "execution_count": 114,
   "id": "f60b4087",
   "metadata": {
    "ExecuteTime": {
     "end_time": "2022-03-16T11:19:27.163778Z",
     "start_time": "2022-03-16T11:09:31.462781Z"
    }
   },
   "outputs": [
    {
     "data": {
      "application/vnd.jupyter.widget-view+json": {
       "model_id": "c0d6789538064b3ba5d1b2c84be4ce70",
       "version_major": 2,
       "version_minor": 0
      },
      "text/plain": [
       "  0%|          | 0/11 [00:00<?, ?it/s]"
      ]
     },
     "metadata": {},
     "output_type": "display_data"
    }
   ],
   "source": [
    "# 11 mins\n",
    "for name,model in tqdm(models):\n",
    "    \n",
    "    model.fit(X_train_new,y_train)\n",
    "    \n",
    "    train_fn[f'pred_{name}'] = model.predict(X_train_new)\n",
    "    valid_fn[f'pred_{name}'] = model.predict(X_valid_new)\n",
    "    test_fn [f'pred_{name}'] = model.predict(X_test_new)"
   ]
  },
  {
   "cell_type": "code",
   "execution_count": 115,
   "id": "56548a7d",
   "metadata": {
    "ExecuteTime": {
     "end_time": "2022-03-16T11:21:54.259865Z",
     "start_time": "2022-03-16T11:21:54.212886Z"
    }
   },
   "outputs": [
    {
     "data": {
      "text/html": [
       "<div>\n",
       "<style scoped>\n",
       "    .dataframe tbody tr th:only-of-type {\n",
       "        vertical-align: middle;\n",
       "    }\n",
       "\n",
       "    .dataframe tbody tr th {\n",
       "        vertical-align: top;\n",
       "    }\n",
       "\n",
       "    .dataframe thead th {\n",
       "        text-align: right;\n",
       "    }\n",
       "</style>\n",
       "<table border=\"1\" class=\"dataframe\">\n",
       "  <thead>\n",
       "    <tr style=\"text-align: right;\">\n",
       "      <th></th>\n",
       "      <th>model_name</th>\n",
       "      <th>tr_acc</th>\n",
       "      <th>va_acc</th>\n",
       "    </tr>\n",
       "  </thead>\n",
       "  <tbody>\n",
       "    <tr>\n",
       "      <th>8</th>\n",
       "      <td>LGBMC</td>\n",
       "      <td>1.000</td>\n",
       "      <td>0.826</td>\n",
       "    </tr>\n",
       "    <tr>\n",
       "      <th>10</th>\n",
       "      <td>Cat</td>\n",
       "      <td>1.000</td>\n",
       "      <td>0.820</td>\n",
       "    </tr>\n",
       "    <tr>\n",
       "      <th>0</th>\n",
       "      <td>LR</td>\n",
       "      <td>0.912</td>\n",
       "      <td>0.813</td>\n",
       "    </tr>\n",
       "    <tr>\n",
       "      <th>7</th>\n",
       "      <td>XGBC</td>\n",
       "      <td>1.000</td>\n",
       "      <td>0.805</td>\n",
       "    </tr>\n",
       "    <tr>\n",
       "      <th>6</th>\n",
       "      <td>RFC</td>\n",
       "      <td>1.000</td>\n",
       "      <td>0.780</td>\n",
       "    </tr>\n",
       "    <tr>\n",
       "      <th>1</th>\n",
       "      <td>LDA</td>\n",
       "      <td>0.742</td>\n",
       "      <td>0.705</td>\n",
       "    </tr>\n",
       "    <tr>\n",
       "      <th>9</th>\n",
       "      <td>AdaC</td>\n",
       "      <td>0.797</td>\n",
       "      <td>0.695</td>\n",
       "    </tr>\n",
       "    <tr>\n",
       "      <th>4</th>\n",
       "      <td>NB</td>\n",
       "      <td>0.643</td>\n",
       "      <td>0.633</td>\n",
       "    </tr>\n",
       "    <tr>\n",
       "      <th>3</th>\n",
       "      <td>CART</td>\n",
       "      <td>1.000</td>\n",
       "      <td>0.556</td>\n",
       "    </tr>\n",
       "    <tr>\n",
       "      <th>2</th>\n",
       "      <td>KNN</td>\n",
       "      <td>0.633</td>\n",
       "      <td>0.536</td>\n",
       "    </tr>\n",
       "    <tr>\n",
       "      <th>5</th>\n",
       "      <td>SVM</td>\n",
       "      <td>1.000</td>\n",
       "      <td>0.248</td>\n",
       "    </tr>\n",
       "  </tbody>\n",
       "</table>\n",
       "</div>"
      ],
      "text/plain": [
       "   model_name  tr_acc  va_acc\n",
       "8       LGBMC   1.000   0.826\n",
       "10        Cat   1.000   0.820\n",
       "0          LR   0.912   0.813\n",
       "7        XGBC   1.000   0.805\n",
       "6         RFC   1.000   0.780\n",
       "1         LDA   0.742   0.705\n",
       "9        AdaC   0.797   0.695\n",
       "4          NB   0.643   0.633\n",
       "3        CART   1.000   0.556\n",
       "2         KNN   0.633   0.536\n",
       "5         SVM   1.000   0.248"
      ]
     },
     "execution_count": 115,
     "metadata": {},
     "output_type": "execute_result"
    }
   ],
   "source": [
    "tr_acc_list = []\n",
    "va_acc_list = []\n",
    "\n",
    "max_name_len = max([len(name) for name,_ in models])\n",
    "for name,_ in models:\n",
    "    tr_acc = sum(np.where(train_fn[f'pred_{name}']==train_fn['target'],1,0)) / train_fn.shape[0]\n",
    "    va_acc = sum(np.where(valid_fn[f'pred_{name}']==valid_fn['target'],1,0)) / valid_fn.shape[0]\n",
    "    \n",
    "    tr_acc_list.append(tr_acc)\n",
    "    va_acc_list.append(va_acc)\n",
    "    \n",
    "acc_df = pd.DataFrame({\n",
    "    'model_name' : [name for name,_ in models],\n",
    "    'tr_acc' : tr_acc_list,\n",
    "    'va_acc' : va_acc_list\n",
    "}).sort_values('va_acc', ascending=False).round(3)\n",
    "\n",
    "acc_df"
   ]
  },
  {
   "cell_type": "code",
   "execution_count": 116,
   "id": "108145e4",
   "metadata": {
    "ExecuteTime": {
     "end_time": "2022-03-16T11:22:06.946764Z",
     "start_time": "2022-03-16T11:22:06.660891Z"
    }
   },
   "outputs": [
    {
     "name": "stdout",
     "output_type": "stream",
     "text": [
      "['pred_LGBMC', 'pred_Cat', 'pred_LR', 'pred_XGBC', 'pred_RFC', 'pred_LDA', 'pred_AdaC', 'pred_NB']\n"
     ]
    },
    {
     "data": {
      "text/plain": [
       "2    328\n",
       "1    290\n",
       "3     76\n",
       "4      7\n",
       "dtype: int64"
      ]
     },
     "execution_count": 116,
     "metadata": {},
     "output_type": "execute_result"
    }
   ],
   "source": [
    "pred_name = ['pred_'+name for name in acc_df['model_name'][:-3]]\n",
    "print(pred_name)\n",
    "\n",
    "valid_fn[pred_name].\\\n",
    "    apply(lambda x: x.nunique(), axis=1).\\\n",
    "    value_counts()"
   ]
  },
  {
   "cell_type": "code",
   "execution_count": 117,
   "id": "7ca6b961",
   "metadata": {
    "ExecuteTime": {
     "end_time": "2022-03-16T11:22:24.262770Z",
     "start_time": "2022-03-16T11:22:16.693143Z"
    }
   },
   "outputs": [
    {
     "data": {
      "application/vnd.jupyter.widget-view+json": {
       "model_id": "b32e76d42cc34ceabdd111c577a9b0ea",
       "version_major": 2,
       "version_minor": 0
      },
      "text/plain": [
       "  0%|          | 0/11 [00:00<?, ?it/s]"
      ]
     },
     "metadata": {},
     "output_type": "display_data"
    },
    {
     "name": "stdout",
     "output_type": "stream",
     "text": [
      "0 : 0.00000\n",
      "1 : 0.82596\n",
      "2 : 0.83310\n",
      "3 : 0.83880\n",
      "4 : 0.83167\n",
      "5 : 0.83167\n",
      "6 : 0.82454\n",
      "7 : 0.83024\n",
      "8 : 0.82882\n",
      "9 : 0.82454\n",
      "10 : 0.82596\n"
     ]
    }
   ],
   "source": [
    "for i in trange(acc_df.shape[0]):\n",
    "\n",
    "    pred_name = ['pred_'+name for name in acc_df['model_name'][:-i]]\n",
    "    nunique_list = valid_fn[pred_name].apply(lambda x: x.nunique(), axis=1)\n",
    "    target_most_freq = valid_fn[pred_name].\\\n",
    "        apply(lambda x:\n",
    "              x.value_counts().sort_values(ascending=False).index[0],\n",
    "              axis=1)\n",
    "\n",
    "    acc = acc_fn(valid_fn['target'],target_most_freq)\n",
    "    \n",
    "    print(f'{i} : {acc:.5f}')"
   ]
  },
  {
   "cell_type": "code",
   "execution_count": null,
   "id": "c3070713",
   "metadata": {
    "ExecuteTime": {
     "end_time": "2022-03-15T14:42:05.970996Z",
     "start_time": "2022-03-15T14:41:39.532803Z"
    }
   },
   "outputs": [],
   "source": [
    "pred_name = ['pred_'+name for name in acc_df['model_name'][:-3]]\n",
    "\n",
    "submission = pd.DataFrame({\n",
    "    'id' : test10.id,\n",
    "    'target' : test_fn[pred_name].apply(lambda x: x.value_counts().sort_values(ascending=False).index[0], axis=1)\n",
    "}).sort_values('id')"
   ]
  },
  {
   "cell_type": "code",
   "execution_count": null,
   "id": "73c13def",
   "metadata": {
    "ExecuteTime": {
     "end_time": "2022-03-15T14:43:09.117799Z",
     "start_time": "2022-03-15T14:43:09.061823Z"
    }
   },
   "outputs": [],
   "source": [
    "submission.to_csv(OUT_PATH + 'submission_ensemble_-3.csv', index=False)"
   ]
  },
  {
   "cell_type": "code",
   "execution_count": null,
   "id": "211ab2d6",
   "metadata": {
    "ExecuteTime": {
     "end_time": "2022-03-15T14:51:57.688895Z",
     "start_time": "2022-03-15T14:51:57.674902Z"
    }
   },
   "outputs": [],
   "source": [
    "['pred_'+name for name in acc_df['model_name'][-3:]]"
   ]
  },
  {
   "cell_type": "code",
   "execution_count": null,
   "id": "56027617",
   "metadata": {
    "ExecuteTime": {
     "end_time": "2022-03-15T14:52:16.354682Z",
     "start_time": "2022-03-15T14:52:16.094799Z"
    }
   },
   "outputs": [],
   "source": [
    "train_df = train10.copy()\n",
    "test_df  = test10 .copy()\n",
    "\n",
    "drop_var = ['id','target'] #+ [col for col in train10.columns if col.find('_id')>=0]\n",
    "features = setdiff(train_df.columns,drop_var)\n",
    "\n",
    "X = train_df[features]\n",
    "y = train_df['target']\n",
    "\n",
    "X_train, X_valid, y_train, y_valid = train_test_split(X, y, test_size=0.3, shuffle=False, random_state=SEED)\n",
    "X_test = test_df[features]"
   ]
  },
  {
   "cell_type": "code",
   "execution_count": null,
   "id": "4d8537b4",
   "metadata": {
    "ExecuteTime": {
     "end_time": "2022-03-15T14:52:16.397663Z",
     "start_time": "2022-03-15T14:52:16.361679Z"
    }
   },
   "outputs": [],
   "source": [
    "models = []\n",
    "iterations = 1000\n",
    "\n",
    "models.append(('LR', LogisticRegression(\n",
    "    solver='liblinear', multi_class='ovr', random_state=SEED)))\n",
    "models.append(('LDA', LinearDiscriminantAnalysis()))\n",
    "# models.append(('KNN', KNeighborsClassifier()))\n",
    "# models.append(('CART', DecisionTreeClassifier(random_state=SEED)))\n",
    "models.append(('NB', GaussianNB()))  # Gaussian Naive Bayes\n",
    "# models.append(('SVM', SVC(gamma='auto', random_state=SEED)))\n",
    "models.append(('RFC', RandomForestClassifier(random_state=SEED)))\n",
    "models.append(('XGBC', XGBClassifier(\n",
    "    iterations=iterations, verbosity=0, random_state=SEED)))\n",
    "models.append(('LGBMC', LGBMClassifier(random_state=SEED)))\n",
    "models.append(('AdaC', AdaBoostClassifier(random_state=SEED)))\n",
    "models.append(('Cat', CatBoostClassifier(\n",
    "    iterations=iterations, silent=True, random_state=SEED)))"
   ]
  },
  {
   "cell_type": "code",
   "execution_count": null,
   "id": "0e979aa7",
   "metadata": {
    "ExecuteTime": {
     "end_time": "2022-03-15T15:25:35.454409Z",
     "start_time": "2022-03-15T14:52:37.027734Z"
    }
   },
   "outputs": [],
   "source": [
    "# 32 mins\n",
    "train_fn = pd.concat([X,y],axis=1)\n",
    "test_fn  = test_df.copy()\n",
    "\n",
    "# 11 mins\n",
    "for name,model in tqdm(models):\n",
    "    \n",
    "    model.fit(X,y)\n",
    "    \n",
    "    train_fn[f'pred_{name}'] = model.predict(X)\n",
    "    test_fn [f'pred_{name}'] = model.predict(X_test)"
   ]
  },
  {
   "cell_type": "code",
   "execution_count": null,
   "id": "fdc8f295",
   "metadata": {
    "ExecuteTime": {
     "end_time": "2022-03-15T15:28:50.109789Z",
     "start_time": "2022-03-15T15:28:16.465243Z"
    }
   },
   "outputs": [],
   "source": [
    "pred_name = ['pred_'+name for name in acc_df['model_name'][:-3]]\n",
    "\n",
    "submission = pd.DataFrame({\n",
    "    'id' : test10.id,\n",
    "    'target' : test_fn[pred_name].apply(lambda x: x.value_counts().sort_values(ascending=False).index[0], axis=1)\n",
    "}).sort_values('id')"
   ]
  },
  {
   "cell_type": "code",
   "execution_count": null,
   "id": "76839479",
   "metadata": {
    "ExecuteTime": {
     "end_time": "2022-03-15T15:29:14.909730Z",
     "start_time": "2022-03-15T15:29:14.883744Z"
    }
   },
   "outputs": [],
   "source": [
    "submission.to_csv(OUT_PATH + 'submission_ensemble_-3_all.csv', index=False)"
   ]
  },
  {
   "cell_type": "code",
   "execution_count": null,
   "id": "0c446b84",
   "metadata": {
    "ExecuteTime": {
     "end_time": "2022-03-09T17:22:02.669353Z",
     "start_time": "2022-03-09T17:21:07.810154Z"
    }
   },
   "outputs": [],
   "source": [
    "model = lgb.LGBMClassifier(**param_grid)\n",
    "model.fit(X_train_new, y_train, \n",
    "          eval_set=[(X_valid_new, y_valid)], \n",
    "          early_stopping_rounds=100, verbose=False)"
   ]
  },
  {
   "cell_type": "code",
   "execution_count": null,
   "id": "69ce8ef2",
   "metadata": {
    "ExecuteTime": {
     "end_time": "2022-03-09T17:22:03.250468Z",
     "start_time": "2022-03-09T17:22:02.677350Z"
    }
   },
   "outputs": [],
   "source": [
    "y_pred = model.predict(X_valid_new)\n",
    "acc = np.where(y_pred == y_valid,1,0).sum() / len(y_valid)\n",
    "print(f'Accuracy : {acc:.3f}')\n",
    "\n",
    "pd.crosstab(np.array(y_pred),np.array(y_valid))"
   ]
  },
  {
   "cell_type": "markdown",
   "id": "e4fd88be",
   "metadata": {},
   "source": [
    "no scale : 0.780 → 0.826 <br>\n",
    "minmax :  <br>\n",
    "standard : 0.805 → 0.817 <br>\n",
    "robust : 0.807 → 0.820"
   ]
  },
  {
   "cell_type": "markdown",
   "id": "ba1d68e4",
   "metadata": {},
   "source": [
    "<br></br>\n",
    "submission 제출"
   ]
  },
  {
   "cell_type": "code",
   "execution_count": null,
   "id": "076885d6",
   "metadata": {
    "ExecuteTime": {
     "end_time": "2022-03-07T17:53:36.088099Z",
     "start_time": "2022-03-07T17:53:35.639309Z"
    }
   },
   "outputs": [],
   "source": [
    "y_prob = model.predict(X_test_new)\n",
    "y_pred = [np.argmax(prob) for prob in y_prob]"
   ]
  },
  {
   "cell_type": "code",
   "execution_count": null,
   "id": "5ce93951",
   "metadata": {
    "ExecuteTime": {
     "end_time": "2022-03-07T17:53:47.951590Z",
     "start_time": "2022-03-07T17:53:47.918605Z"
    }
   },
   "outputs": [],
   "source": [
    "sub_fn = sub2.copy()\n",
    "sub_fn['target'] = y_pred\n",
    "\n",
    "sub_fn.to_csv(OUT_PATH + 'submission_lgb_rfe.csv',index=False)"
   ]
  },
  {
   "cell_type": "markdown",
   "id": "7bd37d51",
   "metadata": {},
   "source": [
    "<br></br>\n",
    "## feature_select + optuna"
   ]
  },
  {
   "cell_type": "code",
   "execution_count": null,
   "id": "1905b10e",
   "metadata": {
    "ExecuteTime": {
     "end_time": "2022-03-10T01:16:33.211214Z",
     "start_time": "2022-03-09T17:22:20.785439Z"
    },
    "scrolled": true
   },
   "outputs": [],
   "source": [
    "start_time = time.time()\n",
    "\n",
    "# train_ls, test_ls = [],[]\n",
    "# for seed in range(1,5):\n",
    "\n",
    "X_train = train10.drop(['id','target'],1)[feats]\n",
    "X_test  = test10 .drop(['id'],1)[feats]\n",
    "y_train = train10['target']\n",
    "\n",
    "#---------------------------------------------------------------------------------------#\n",
    "# modelling\n",
    "#---------------------------------------------------------------------------------------#\n",
    "# larget dataset인 경우, n_split은 3이면 충분함\n",
    "study = optuna.create_study(direction='maximize', study_name='LGBM Classifier')\n",
    "func = lambda trial: objective_lgb(trial, X_train, y_train, objective='multiclass', n_split=5, seed = SEED)\n",
    "study.optimize(func, n_trials=500)\n",
    "\n",
    "model = lgb.LGBMClassifier(**study.best_params)\n",
    "model.fit(X_train,y_train) # X_train\n",
    "\n",
    "end_time = time.time()\n",
    "running_time = end_time - start_time"
   ]
  },
  {
   "cell_type": "code",
   "execution_count": null,
   "id": "e892fd2b",
   "metadata": {
    "ExecuteTime": {
     "end_time": "2022-03-10T02:31:01.391111Z",
     "start_time": "2022-03-10T02:31:01.324151Z"
    }
   },
   "outputs": [],
   "source": [
    "train_df = train10.copy()\n",
    "test_df  = test10 .copy()"
   ]
  },
  {
   "cell_type": "code",
   "execution_count": null,
   "id": "f5cb6a67",
   "metadata": {
    "ExecuteTime": {
     "end_time": "2022-03-10T02:31:01.484070Z",
     "start_time": "2022-03-10T02:31:01.393126Z"
    }
   },
   "outputs": [],
   "source": [
    "# seg별 predict값 넣기\n",
    "train_df['pred'] = model.predict(X_train)\n",
    "test_df ['pred'] = model.predict(X_test)\n",
    "\n",
    "print(f'{running_time / 60:.2f} Mins')"
   ]
  },
  {
   "cell_type": "code",
   "execution_count": null,
   "id": "06c78d28",
   "metadata": {
    "ExecuteTime": {
     "end_time": "2022-03-10T02:31:01.500063Z",
     "start_time": "2022-03-10T02:31:01.485070Z"
    }
   },
   "outputs": [],
   "source": [
    "acc_fn(y_train,train_df['pred'])"
   ]
  },
  {
   "cell_type": "code",
   "execution_count": null,
   "id": "91ce8fb2",
   "metadata": {
    "ExecuteTime": {
     "end_time": "2022-03-10T02:31:01.563035Z",
     "start_time": "2022-03-10T02:31:01.503062Z"
    }
   },
   "outputs": [],
   "source": [
    "sub_fn = sub2\n",
    "sub_fn['target'] = test_df['pred']\n",
    "\n",
    "sub_fn.to_csv(OUT_PATH + 'submission_lgb_rfe_optuna3.csv',index=False)"
   ]
  },
  {
   "cell_type": "code",
   "execution_count": null,
   "id": "8050497b",
   "metadata": {},
   "outputs": [],
   "source": [
    "1. rfe로 feature reduction한것 사용해서 optuna\n",
    "2. gbdt 말고, dart, goss 써보기\n",
    "3. n_trials 높여보기"
   ]
  },
  {
   "cell_type": "markdown",
   "id": "a96d6e53",
   "metadata": {},
   "source": [
    "<br></br>\n",
    "앙상블"
   ]
  },
  {
   "cell_type": "code",
   "execution_count": null,
   "id": "281ddee5",
   "metadata": {
    "ExecuteTime": {
     "end_time": "2022-03-09T16:09:39.545401Z",
     "start_time": "2022-03-09T16:09:39.528409Z"
    }
   },
   "outputs": [],
   "source": [
    "train_df = X_train_new.copy()\n",
    "valid_df = X_valid_new.copy()\n",
    "test_df  = X_test_new .copy()"
   ]
  },
  {
   "cell_type": "code",
   "execution_count": null,
   "id": "9c351297",
   "metadata": {
    "ExecuteTime": {
     "end_time": "2022-03-09T16:09:42.431560Z",
     "start_time": "2022-03-09T16:09:39.546400Z"
    }
   },
   "outputs": [],
   "source": [
    "model_lgb = lgb.LGBMClassifier(**param_grid)\n",
    "model_lgb.fit(X_train_new, y_train, \n",
    "              eval_set=[(X_valid_new, y_valid)], \n",
    "              early_stopping_rounds=100, verbose=False)"
   ]
  },
  {
   "cell_type": "code",
   "execution_count": null,
   "id": "c7f7b05a",
   "metadata": {
    "ExecuteTime": {
     "end_time": "2022-03-09T16:11:44.482892Z",
     "start_time": "2022-03-09T16:10:25.530272Z"
    },
    "scrolled": true
   },
   "outputs": [],
   "source": [
    "model_cat = CatBoostClassifier(iterations=2000)\n",
    "model_cat.fit(X_train_new, y_train, \n",
    "              eval_set=[(X_valid_new, y_valid)], \n",
    "              early_stopping_rounds=300, verbose=True)"
   ]
  },
  {
   "cell_type": "code",
   "execution_count": null,
   "id": "b9e0f1fe",
   "metadata": {
    "ExecuteTime": {
     "end_time": "2022-03-09T16:09:50.145529Z",
     "start_time": "2022-03-09T16:09:45.913415Z"
    },
    "scrolled": true
   },
   "outputs": [],
   "source": [
    "model_xgb = XGBClassifier(iterations=10000)\n",
    "model_xgb.fit(X_train_new, y_train, \n",
    "              eval_set=[(X_valid_new, y_valid)], \n",
    "              early_stopping_rounds=100, verbose=True)"
   ]
  },
  {
   "cell_type": "code",
   "execution_count": null,
   "id": "e2968dc0",
   "metadata": {
    "ExecuteTime": {
     "end_time": "2022-03-09T16:12:29.476249Z",
     "start_time": "2022-03-09T16:12:28.442041Z"
    }
   },
   "outputs": [],
   "source": [
    "train_df['preds_lgb'] = model_lgb.predict(X_train_new)\n",
    "train_df['preds_cat'] = model_cat.predict(X_train_new).flatten()\n",
    "train_df['preds_xgb'] = model_xgb.predict(X_train_new)\n",
    "\n",
    "valid_df['preds_lgb'] = model_lgb.predict(X_valid_new)\n",
    "valid_df['preds_cat'] = model_cat.predict(X_valid_new).flatten()\n",
    "valid_df['preds_xgb'] = model_xgb.predict(X_valid_new)\n",
    "\n",
    "tr_ensemble_df = pd.concat([train_df['preds_lgb'],train_df['preds_cat'],train_df['preds_xgb']],axis=1)\n",
    "va_ensemble_df = pd.concat([valid_df['preds_lgb'],valid_df['preds_cat'],valid_df['preds_xgb']],axis=1)\n",
    "\n",
    "train_df['preds_ensemble'] = tr_ensemble_df.apply(lambda x: x.value_counts().sort_values().index[0], axis=1)\n",
    "valid_df['preds_ensemble'] = va_ensemble_df.apply(lambda x: x.value_counts().sort_values().index[0], axis=1)\n",
    "\n",
    "print(acc_fn(train_df['preds_lgb'],y_train), acc_fn(train_df['preds_cat'],y_train), acc_fn(train_df['preds_xgb'],y_train), acc_fn(train_df['preds_ensemble'],y_train))\n",
    "print(acc_fn(valid_df['preds_lgb'],y_valid), acc_fn(valid_df['preds_cat'],y_valid), acc_fn(valid_df['preds_xgb'],y_valid), acc_fn(valid_df['preds_ensemble'],y_valid))"
   ]
  },
  {
   "cell_type": "code",
   "execution_count": null,
   "id": "f8c1f47c",
   "metadata": {
    "ExecuteTime": {
     "end_time": "2022-03-09T15:55:36.039040Z",
     "start_time": "2022-03-09T15:55:35.984060Z"
    }
   },
   "outputs": [],
   "source": [
    "ensemble_df[ensemble_df.apply(lambda x: len(pd.unique(x)), axis=1)==2]"
   ]
  }
 ],
 "metadata": {
  "kernelspec": {
   "display_name": "Python 3 (ipykernel)",
   "language": "python",
   "name": "python3"
  },
  "language_info": {
   "codemirror_mode": {
    "name": "ipython",
    "version": 3
   },
   "file_extension": ".py",
   "mimetype": "text/x-python",
   "name": "python",
   "nbconvert_exporter": "python",
   "pygments_lexer": "ipython3",
   "version": "3.8.10"
  },
  "toc": {
   "base_numbering": 1,
   "nav_menu": {},
   "number_sections": true,
   "sideBar": true,
   "skip_h1_title": false,
   "title_cell": "Table of Contents",
   "title_sidebar": "Contents",
   "toc_cell": false,
   "toc_position": {
    "height": "847px",
    "left": "0px",
    "top": "91px",
    "width": "360px"
   },
   "toc_section_display": true,
   "toc_window_display": true
  },
  "varInspector": {
   "cols": {
    "lenName": 16,
    "lenType": 16,
    "lenVar": 40
   },
   "kernels_config": {
    "python": {
     "delete_cmd_postfix": "",
     "delete_cmd_prefix": "del ",
     "library": "var_list.py",
     "varRefreshCmd": "print(var_dic_list())"
    },
    "r": {
     "delete_cmd_postfix": ") ",
     "delete_cmd_prefix": "rm(",
     "library": "var_list.r",
     "varRefreshCmd": "cat(var_dic_list()) "
    }
   },
   "types_to_exclude": [
    "module",
    "function",
    "builtin_function_or_method",
    "instance",
    "_Feature"
   ],
   "window_display": false
  }
 },
 "nbformat": 4,
 "nbformat_minor": 5
}
